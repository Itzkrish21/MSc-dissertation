{
  "nbformat": 4,
  "nbformat_minor": 0,
  "metadata": {
    "accelerator": "GPU",
    "colab": {
      "provenance": [],
      "machine_shape": "hm"
    },
    "kernelspec": {
      "display_name": "Python 3",
      "name": "python3"
    },
    "language_info": {
      "name": "python"
    },
    "widgets": {
      "application/vnd.jupyter.widget-state+json": {
        "f7bffe03e89e411aa8e047d906d01edb": {
          "model_module": "@jupyter-widgets/controls",
          "model_name": "HBoxModel",
          "state": {
            "_view_name": "HBoxView",
            "_dom_classes": [],
            "_model_name": "HBoxModel",
            "_view_module": "@jupyter-widgets/controls",
            "_model_module_version": "1.5.0",
            "_view_count": null,
            "_view_module_version": "1.5.0",
            "box_style": "",
            "layout": "IPY_MODEL_e9629c32fe514aa5907a27938e1b56d3",
            "_model_module": "@jupyter-widgets/controls",
            "children": [
              "IPY_MODEL_e84579d842014023b3340cb014451b94",
              "IPY_MODEL_9d63d44a1d3343989e3a5659bed72009"
            ]
          },
          "model_module_version": "1.5.0"
        },
        "e9629c32fe514aa5907a27938e1b56d3": {
          "model_module": "@jupyter-widgets/base",
          "model_name": "LayoutModel",
          "state": {
            "_view_name": "LayoutView",
            "grid_template_rows": null,
            "right": null,
            "justify_content": null,
            "_view_module": "@jupyter-widgets/base",
            "overflow": null,
            "_model_module_version": "1.2.0",
            "_view_count": null,
            "flex_flow": null,
            "width": null,
            "min_width": null,
            "border": null,
            "align_items": null,
            "bottom": null,
            "_model_module": "@jupyter-widgets/base",
            "top": null,
            "grid_column": null,
            "overflow_y": null,
            "overflow_x": null,
            "grid_auto_flow": null,
            "grid_area": null,
            "grid_template_columns": null,
            "flex": null,
            "_model_name": "LayoutModel",
            "justify_items": null,
            "grid_row": null,
            "max_height": null,
            "align_content": null,
            "visibility": null,
            "align_self": null,
            "height": null,
            "min_height": null,
            "padding": null,
            "grid_auto_rows": null,
            "grid_gap": null,
            "max_width": null,
            "order": null,
            "_view_module_version": "1.2.0",
            "grid_template_areas": null,
            "object_position": null,
            "object_fit": null,
            "grid_auto_columns": null,
            "margin": null,
            "display": null,
            "left": null
          },
          "model_module_version": "1.2.0"
        },
        "e84579d842014023b3340cb014451b94": {
          "model_module": "@jupyter-widgets/controls",
          "model_name": "FloatProgressModel",
          "state": {
            "_view_name": "ProgressView",
            "style": "IPY_MODEL_5d46f349260140e98ea424eed9e44037",
            "_dom_classes": [],
            "description": "100%",
            "_model_name": "FloatProgressModel",
            "bar_style": "",
            "max": 1,
            "_view_module": "@jupyter-widgets/controls",
            "_model_module_version": "1.5.0",
            "value": 1,
            "_view_count": null,
            "_view_module_version": "1.5.0",
            "orientation": "horizontal",
            "min": 0,
            "description_tooltip": null,
            "_model_module": "@jupyter-widgets/controls",
            "layout": "IPY_MODEL_76e7bd1a41ec4406b4f3562f3879fed7"
          },
          "model_module_version": "1.5.0"
        },
        "9d63d44a1d3343989e3a5659bed72009": {
          "model_module": "@jupyter-widgets/controls",
          "model_name": "HTMLModel",
          "state": {
            "_view_name": "HTMLView",
            "style": "IPY_MODEL_516ffffb3a6347e4b1eae9431afdf847",
            "_dom_classes": [],
            "description": "",
            "_model_name": "HTMLModel",
            "placeholder": "​",
            "_view_module": "@jupyter-widgets/controls",
            "_model_module_version": "1.5.0",
            "value": " 1/1 [07:28&lt;00:00, 448.28s/it]",
            "_view_count": null,
            "_view_module_version": "1.5.0",
            "description_tooltip": null,
            "_model_module": "@jupyter-widgets/controls",
            "layout": "IPY_MODEL_c1f95c672320414583bd2addaf8b8801"
          },
          "model_module_version": "1.5.0"
        },
        "5d46f349260140e98ea424eed9e44037": {
          "model_module": "@jupyter-widgets/controls",
          "model_name": "ProgressStyleModel",
          "state": {
            "_view_name": "StyleView",
            "_model_name": "ProgressStyleModel",
            "description_width": "initial",
            "_view_module": "@jupyter-widgets/base",
            "_model_module_version": "1.5.0",
            "_view_count": null,
            "_view_module_version": "1.2.0",
            "bar_color": null,
            "_model_module": "@jupyter-widgets/controls"
          },
          "model_module_version": "1.5.0"
        },
        "76e7bd1a41ec4406b4f3562f3879fed7": {
          "model_module": "@jupyter-widgets/base",
          "model_name": "LayoutModel",
          "state": {
            "_view_name": "LayoutView",
            "grid_template_rows": null,
            "right": null,
            "justify_content": null,
            "_view_module": "@jupyter-widgets/base",
            "overflow": null,
            "_model_module_version": "1.2.0",
            "_view_count": null,
            "flex_flow": null,
            "width": null,
            "min_width": null,
            "border": null,
            "align_items": null,
            "bottom": null,
            "_model_module": "@jupyter-widgets/base",
            "top": null,
            "grid_column": null,
            "overflow_y": null,
            "overflow_x": null,
            "grid_auto_flow": null,
            "grid_area": null,
            "grid_template_columns": null,
            "flex": null,
            "_model_name": "LayoutModel",
            "justify_items": null,
            "grid_row": null,
            "max_height": null,
            "align_content": null,
            "visibility": null,
            "align_self": null,
            "height": null,
            "min_height": null,
            "padding": null,
            "grid_auto_rows": null,
            "grid_gap": null,
            "max_width": null,
            "order": null,
            "_view_module_version": "1.2.0",
            "grid_template_areas": null,
            "object_position": null,
            "object_fit": null,
            "grid_auto_columns": null,
            "margin": null,
            "display": null,
            "left": null
          },
          "model_module_version": "1.2.0"
        },
        "516ffffb3a6347e4b1eae9431afdf847": {
          "model_module": "@jupyter-widgets/controls",
          "model_name": "DescriptionStyleModel",
          "state": {
            "_view_name": "StyleView",
            "_model_name": "DescriptionStyleModel",
            "description_width": "",
            "_view_module": "@jupyter-widgets/base",
            "_model_module_version": "1.5.0",
            "_view_count": null,
            "_view_module_version": "1.2.0",
            "_model_module": "@jupyter-widgets/controls"
          },
          "model_module_version": "1.5.0"
        },
        "c1f95c672320414583bd2addaf8b8801": {
          "model_module": "@jupyter-widgets/base",
          "model_name": "LayoutModel",
          "state": {
            "_view_name": "LayoutView",
            "grid_template_rows": null,
            "right": null,
            "justify_content": null,
            "_view_module": "@jupyter-widgets/base",
            "overflow": null,
            "_model_module_version": "1.2.0",
            "_view_count": null,
            "flex_flow": null,
            "width": null,
            "min_width": null,
            "border": null,
            "align_items": null,
            "bottom": null,
            "_model_module": "@jupyter-widgets/base",
            "top": null,
            "grid_column": null,
            "overflow_y": null,
            "overflow_x": null,
            "grid_auto_flow": null,
            "grid_area": null,
            "grid_template_columns": null,
            "flex": null,
            "_model_name": "LayoutModel",
            "justify_items": null,
            "grid_row": null,
            "max_height": null,
            "align_content": null,
            "visibility": null,
            "align_self": null,
            "height": null,
            "min_height": null,
            "padding": null,
            "grid_auto_rows": null,
            "grid_gap": null,
            "max_width": null,
            "order": null,
            "_view_module_version": "1.2.0",
            "grid_template_areas": null,
            "object_position": null,
            "object_fit": null,
            "grid_auto_columns": null,
            "margin": null,
            "display": null,
            "left": null
          },
          "model_module_version": "1.2.0"
        },
        "9eb93f8bc3d9490583424f9738c5bad2": {
          "model_module": "@jupyter-widgets/controls",
          "model_name": "HBoxModel",
          "state": {
            "_view_name": "HBoxView",
            "_dom_classes": [],
            "_model_name": "HBoxModel",
            "_view_module": "@jupyter-widgets/controls",
            "_model_module_version": "1.5.0",
            "_view_count": null,
            "_view_module_version": "1.5.0",
            "box_style": "",
            "layout": "IPY_MODEL_1febe715b1f14c46b2675cd86924671d",
            "_model_module": "@jupyter-widgets/controls",
            "children": [
              "IPY_MODEL_1b140f1e73ca44d5be09fffd5fac8b8a",
              "IPY_MODEL_556171a6aa464be4a7252a119d620461"
            ]
          },
          "model_module_version": "1.5.0"
        },
        "1febe715b1f14c46b2675cd86924671d": {
          "model_module": "@jupyter-widgets/base",
          "model_name": "LayoutModel",
          "state": {
            "_view_name": "LayoutView",
            "grid_template_rows": null,
            "right": null,
            "justify_content": null,
            "_view_module": "@jupyter-widgets/base",
            "overflow": null,
            "_model_module_version": "1.2.0",
            "_view_count": null,
            "flex_flow": null,
            "width": null,
            "min_width": null,
            "border": null,
            "align_items": null,
            "bottom": null,
            "_model_module": "@jupyter-widgets/base",
            "top": null,
            "grid_column": null,
            "overflow_y": null,
            "overflow_x": null,
            "grid_auto_flow": null,
            "grid_area": null,
            "grid_template_columns": null,
            "flex": null,
            "_model_name": "LayoutModel",
            "justify_items": null,
            "grid_row": null,
            "max_height": null,
            "align_content": null,
            "visibility": null,
            "align_self": null,
            "height": null,
            "min_height": null,
            "padding": null,
            "grid_auto_rows": null,
            "grid_gap": null,
            "max_width": null,
            "order": null,
            "_view_module_version": "1.2.0",
            "grid_template_areas": null,
            "object_position": null,
            "object_fit": null,
            "grid_auto_columns": null,
            "margin": null,
            "display": null,
            "left": null
          },
          "model_module_version": "1.2.0"
        },
        "1b140f1e73ca44d5be09fffd5fac8b8a": {
          "model_module": "@jupyter-widgets/controls",
          "model_name": "FloatProgressModel",
          "state": {
            "_view_name": "ProgressView",
            "style": "IPY_MODEL_aa614001c61942e6926d04533fab7dfc",
            "_dom_classes": [],
            "description": "",
            "_model_name": "FloatProgressModel",
            "bar_style": "",
            "max": 3534,
            "_view_module": "@jupyter-widgets/controls",
            "_model_module_version": "1.5.0",
            "value": 3534,
            "_view_count": null,
            "_view_module_version": "1.5.0",
            "orientation": "horizontal",
            "min": 0,
            "description_tooltip": null,
            "_model_module": "@jupyter-widgets/controls",
            "layout": "IPY_MODEL_906b951862ef4e0eaefdc1d680daeb46"
          },
          "model_module_version": "1.5.0"
        },
        "556171a6aa464be4a7252a119d620461": {
          "model_module": "@jupyter-widgets/controls",
          "model_name": "HTMLModel",
          "state": {
            "_view_name": "HTMLView",
            "style": "IPY_MODEL_c9c0ae3c4a234cc4877ee04ba9be9281",
            "_dom_classes": [],
            "description": "",
            "_model_name": "HTMLModel",
            "placeholder": "​",
            "_view_module": "@jupyter-widgets/controls",
            "_model_module_version": "1.5.0",
            "value": " 3535/? [06:20&lt;00:00,  7.12it/s]",
            "_view_count": null,
            "_view_module_version": "1.5.0",
            "description_tooltip": null,
            "_model_module": "@jupyter-widgets/controls",
            "layout": "IPY_MODEL_b6e83cfa49bf444a959e792bc7c90d6d"
          },
          "model_module_version": "1.5.0"
        },
        "aa614001c61942e6926d04533fab7dfc": {
          "model_module": "@jupyter-widgets/controls",
          "model_name": "ProgressStyleModel",
          "state": {
            "_view_name": "StyleView",
            "_model_name": "ProgressStyleModel",
            "description_width": "initial",
            "_view_module": "@jupyter-widgets/base",
            "_model_module_version": "1.5.0",
            "_view_count": null,
            "_view_module_version": "1.2.0",
            "bar_color": null,
            "_model_module": "@jupyter-widgets/controls"
          },
          "model_module_version": "1.5.0"
        },
        "906b951862ef4e0eaefdc1d680daeb46": {
          "model_module": "@jupyter-widgets/base",
          "model_name": "LayoutModel",
          "state": {
            "_view_name": "LayoutView",
            "grid_template_rows": null,
            "right": null,
            "justify_content": null,
            "_view_module": "@jupyter-widgets/base",
            "overflow": null,
            "_model_module_version": "1.2.0",
            "_view_count": null,
            "flex_flow": null,
            "width": null,
            "min_width": null,
            "border": null,
            "align_items": null,
            "bottom": null,
            "_model_module": "@jupyter-widgets/base",
            "top": null,
            "grid_column": null,
            "overflow_y": null,
            "overflow_x": null,
            "grid_auto_flow": null,
            "grid_area": null,
            "grid_template_columns": null,
            "flex": null,
            "_model_name": "LayoutModel",
            "justify_items": null,
            "grid_row": null,
            "max_height": null,
            "align_content": null,
            "visibility": null,
            "align_self": null,
            "height": null,
            "min_height": null,
            "padding": null,
            "grid_auto_rows": null,
            "grid_gap": null,
            "max_width": null,
            "order": null,
            "_view_module_version": "1.2.0",
            "grid_template_areas": null,
            "object_position": null,
            "object_fit": null,
            "grid_auto_columns": null,
            "margin": null,
            "display": null,
            "left": null
          },
          "model_module_version": "1.2.0"
        },
        "c9c0ae3c4a234cc4877ee04ba9be9281": {
          "model_module": "@jupyter-widgets/controls",
          "model_name": "DescriptionStyleModel",
          "state": {
            "_view_name": "StyleView",
            "_model_name": "DescriptionStyleModel",
            "description_width": "",
            "_view_module": "@jupyter-widgets/base",
            "_model_module_version": "1.5.0",
            "_view_count": null,
            "_view_module_version": "1.2.0",
            "_model_module": "@jupyter-widgets/controls"
          },
          "model_module_version": "1.5.0"
        },
        "b6e83cfa49bf444a959e792bc7c90d6d": {
          "model_module": "@jupyter-widgets/base",
          "model_name": "LayoutModel",
          "state": {
            "_view_name": "LayoutView",
            "grid_template_rows": null,
            "right": null,
            "justify_content": null,
            "_view_module": "@jupyter-widgets/base",
            "overflow": null,
            "_model_module_version": "1.2.0",
            "_view_count": null,
            "flex_flow": null,
            "width": null,
            "min_width": null,
            "border": null,
            "align_items": null,
            "bottom": null,
            "_model_module": "@jupyter-widgets/base",
            "top": null,
            "grid_column": null,
            "overflow_y": null,
            "overflow_x": null,
            "grid_auto_flow": null,
            "grid_area": null,
            "grid_template_columns": null,
            "flex": null,
            "_model_name": "LayoutModel",
            "justify_items": null,
            "grid_row": null,
            "max_height": null,
            "align_content": null,
            "visibility": null,
            "align_self": null,
            "height": null,
            "min_height": null,
            "padding": null,
            "grid_auto_rows": null,
            "grid_gap": null,
            "max_width": null,
            "order": null,
            "_view_module_version": "1.2.0",
            "grid_template_areas": null,
            "object_position": null,
            "object_fit": null,
            "grid_auto_columns": null,
            "margin": null,
            "display": null,
            "left": null
          },
          "model_module_version": "1.2.0"
        },
        "48d5df89c00e4a94b0af491b7945f5d3": {
          "model_module": "@jupyter-widgets/controls",
          "model_name": "HBoxModel",
          "state": {
            "_view_name": "HBoxView",
            "_dom_classes": [],
            "_model_name": "HBoxModel",
            "_view_module": "@jupyter-widgets/controls",
            "_model_module_version": "1.5.0",
            "_view_count": null,
            "_view_module_version": "1.5.0",
            "box_style": "",
            "layout": "IPY_MODEL_a7f1976e2e9c4fa5ba6ba3323317cb3f",
            "_model_module": "@jupyter-widgets/controls",
            "children": [
              "IPY_MODEL_3a7eb50676584b6087bac49e77081886",
              "IPY_MODEL_539880e21e854ae1a8e25517a68f47d5"
            ]
          },
          "model_module_version": "1.5.0"
        },
        "a7f1976e2e9c4fa5ba6ba3323317cb3f": {
          "model_module": "@jupyter-widgets/base",
          "model_name": "LayoutModel",
          "state": {
            "_view_name": "LayoutView",
            "grid_template_rows": null,
            "right": null,
            "justify_content": null,
            "_view_module": "@jupyter-widgets/base",
            "overflow": null,
            "_model_module_version": "1.2.0",
            "_view_count": null,
            "flex_flow": null,
            "width": null,
            "min_width": null,
            "border": null,
            "align_items": null,
            "bottom": null,
            "_model_module": "@jupyter-widgets/base",
            "top": null,
            "grid_column": null,
            "overflow_y": null,
            "overflow_x": null,
            "grid_auto_flow": null,
            "grid_area": null,
            "grid_template_columns": null,
            "flex": null,
            "_model_name": "LayoutModel",
            "justify_items": null,
            "grid_row": null,
            "max_height": null,
            "align_content": null,
            "visibility": null,
            "align_self": null,
            "height": null,
            "min_height": null,
            "padding": null,
            "grid_auto_rows": null,
            "grid_gap": null,
            "max_width": null,
            "order": null,
            "_view_module_version": "1.2.0",
            "grid_template_areas": null,
            "object_position": null,
            "object_fit": null,
            "grid_auto_columns": null,
            "margin": null,
            "display": null,
            "left": null
          },
          "model_module_version": "1.2.0"
        },
        "3a7eb50676584b6087bac49e77081886": {
          "model_module": "@jupyter-widgets/controls",
          "model_name": "FloatProgressModel",
          "state": {
            "_view_name": "ProgressView",
            "style": "IPY_MODEL_e7dfdcf07975481ba0dc7bda3abd9087",
            "_dom_classes": [],
            "description": "100%",
            "_model_name": "FloatProgressModel",
            "bar_style": "",
            "max": 1,
            "_view_module": "@jupyter-widgets/controls",
            "_model_module_version": "1.5.0",
            "value": 1,
            "_view_count": null,
            "_view_module_version": "1.5.0",
            "orientation": "horizontal",
            "min": 0,
            "description_tooltip": null,
            "_model_module": "@jupyter-widgets/controls",
            "layout": "IPY_MODEL_2ff062198aad4639ac58b739a3f3a23d"
          },
          "model_module_version": "1.5.0"
        },
        "539880e21e854ae1a8e25517a68f47d5": {
          "model_module": "@jupyter-widgets/controls",
          "model_name": "HTMLModel",
          "state": {
            "_view_name": "HTMLView",
            "style": "IPY_MODEL_92fadc9d0eed43068cec44a328a23fda",
            "_dom_classes": [],
            "description": "",
            "_model_name": "HTMLModel",
            "placeholder": "​",
            "_view_module": "@jupyter-widgets/controls",
            "_model_module_version": "1.5.0",
            "value": " 1/1 [06:30&lt;00:00, 390.24s/it]",
            "_view_count": null,
            "_view_module_version": "1.5.0",
            "description_tooltip": null,
            "_model_module": "@jupyter-widgets/controls",
            "layout": "IPY_MODEL_02be89469f514a74b435cc8aac0d6efa"
          },
          "model_module_version": "1.5.0"
        },
        "e7dfdcf07975481ba0dc7bda3abd9087": {
          "model_module": "@jupyter-widgets/controls",
          "model_name": "ProgressStyleModel",
          "state": {
            "_view_name": "StyleView",
            "_model_name": "ProgressStyleModel",
            "description_width": "initial",
            "_view_module": "@jupyter-widgets/base",
            "_model_module_version": "1.5.0",
            "_view_count": null,
            "_view_module_version": "1.2.0",
            "bar_color": null,
            "_model_module": "@jupyter-widgets/controls"
          },
          "model_module_version": "1.5.0"
        },
        "2ff062198aad4639ac58b739a3f3a23d": {
          "model_module": "@jupyter-widgets/base",
          "model_name": "LayoutModel",
          "state": {
            "_view_name": "LayoutView",
            "grid_template_rows": null,
            "right": null,
            "justify_content": null,
            "_view_module": "@jupyter-widgets/base",
            "overflow": null,
            "_model_module_version": "1.2.0",
            "_view_count": null,
            "flex_flow": null,
            "width": null,
            "min_width": null,
            "border": null,
            "align_items": null,
            "bottom": null,
            "_model_module": "@jupyter-widgets/base",
            "top": null,
            "grid_column": null,
            "overflow_y": null,
            "overflow_x": null,
            "grid_auto_flow": null,
            "grid_area": null,
            "grid_template_columns": null,
            "flex": null,
            "_model_name": "LayoutModel",
            "justify_items": null,
            "grid_row": null,
            "max_height": null,
            "align_content": null,
            "visibility": null,
            "align_self": null,
            "height": null,
            "min_height": null,
            "padding": null,
            "grid_auto_rows": null,
            "grid_gap": null,
            "max_width": null,
            "order": null,
            "_view_module_version": "1.2.0",
            "grid_template_areas": null,
            "object_position": null,
            "object_fit": null,
            "grid_auto_columns": null,
            "margin": null,
            "display": null,
            "left": null
          },
          "model_module_version": "1.2.0"
        },
        "92fadc9d0eed43068cec44a328a23fda": {
          "model_module": "@jupyter-widgets/controls",
          "model_name": "DescriptionStyleModel",
          "state": {
            "_view_name": "StyleView",
            "_model_name": "DescriptionStyleModel",
            "description_width": "",
            "_view_module": "@jupyter-widgets/base",
            "_model_module_version": "1.5.0",
            "_view_count": null,
            "_view_module_version": "1.2.0",
            "_model_module": "@jupyter-widgets/controls"
          },
          "model_module_version": "1.5.0"
        },
        "02be89469f514a74b435cc8aac0d6efa": {
          "model_module": "@jupyter-widgets/base",
          "model_name": "LayoutModel",
          "state": {
            "_view_name": "LayoutView",
            "grid_template_rows": null,
            "right": null,
            "justify_content": null,
            "_view_module": "@jupyter-widgets/base",
            "overflow": null,
            "_model_module_version": "1.2.0",
            "_view_count": null,
            "flex_flow": null,
            "width": null,
            "min_width": null,
            "border": null,
            "align_items": null,
            "bottom": null,
            "_model_module": "@jupyter-widgets/base",
            "top": null,
            "grid_column": null,
            "overflow_y": null,
            "overflow_x": null,
            "grid_auto_flow": null,
            "grid_area": null,
            "grid_template_columns": null,
            "flex": null,
            "_model_name": "LayoutModel",
            "justify_items": null,
            "grid_row": null,
            "max_height": null,
            "align_content": null,
            "visibility": null,
            "align_self": null,
            "height": null,
            "min_height": null,
            "padding": null,
            "grid_auto_rows": null,
            "grid_gap": null,
            "max_width": null,
            "order": null,
            "_view_module_version": "1.2.0",
            "grid_template_areas": null,
            "object_position": null,
            "object_fit": null,
            "grid_auto_columns": null,
            "margin": null,
            "display": null,
            "left": null
          },
          "model_module_version": "1.2.0"
        },
        "c1b32b1b8ac5485bb70664654eeefb51": {
          "model_module": "@jupyter-widgets/controls",
          "model_name": "HBoxModel",
          "state": {
            "_view_name": "HBoxView",
            "_dom_classes": [],
            "_model_name": "HBoxModel",
            "_view_module": "@jupyter-widgets/controls",
            "_model_module_version": "1.5.0",
            "_view_count": null,
            "_view_module_version": "1.5.0",
            "box_style": "",
            "layout": "IPY_MODEL_6ff0565d315a40c29307eabed9a7e935",
            "_model_module": "@jupyter-widgets/controls",
            "children": [
              "IPY_MODEL_dadcf6b8f02e4d8586925f64594e3462",
              "IPY_MODEL_256f324a0e4e41899a602f31e3e8e74c"
            ]
          },
          "model_module_version": "1.5.0"
        },
        "6ff0565d315a40c29307eabed9a7e935": {
          "model_module": "@jupyter-widgets/base",
          "model_name": "LayoutModel",
          "state": {
            "_view_name": "LayoutView",
            "grid_template_rows": null,
            "right": null,
            "justify_content": null,
            "_view_module": "@jupyter-widgets/base",
            "overflow": null,
            "_model_module_version": "1.2.0",
            "_view_count": null,
            "flex_flow": null,
            "width": null,
            "min_width": null,
            "border": null,
            "align_items": null,
            "bottom": null,
            "_model_module": "@jupyter-widgets/base",
            "top": null,
            "grid_column": null,
            "overflow_y": null,
            "overflow_x": null,
            "grid_auto_flow": null,
            "grid_area": null,
            "grid_template_columns": null,
            "flex": null,
            "_model_name": "LayoutModel",
            "justify_items": null,
            "grid_row": null,
            "max_height": null,
            "align_content": null,
            "visibility": null,
            "align_self": null,
            "height": null,
            "min_height": null,
            "padding": null,
            "grid_auto_rows": null,
            "grid_gap": null,
            "max_width": null,
            "order": null,
            "_view_module_version": "1.2.0",
            "grid_template_areas": null,
            "object_position": null,
            "object_fit": null,
            "grid_auto_columns": null,
            "margin": null,
            "display": null,
            "left": null
          },
          "model_module_version": "1.2.0"
        },
        "dadcf6b8f02e4d8586925f64594e3462": {
          "model_module": "@jupyter-widgets/controls",
          "model_name": "FloatProgressModel",
          "state": {
            "_view_name": "ProgressView",
            "style": "IPY_MODEL_3af1dfd1b271450e92e4e24b141f6e7d",
            "_dom_classes": [],
            "description": "",
            "_model_name": "FloatProgressModel",
            "bar_style": "",
            "max": 3534,
            "_view_module": "@jupyter-widgets/controls",
            "_model_module_version": "1.5.0",
            "value": 3534,
            "_view_count": null,
            "_view_module_version": "1.5.0",
            "orientation": "horizontal",
            "min": 0,
            "description_tooltip": null,
            "_model_module": "@jupyter-widgets/controls",
            "layout": "IPY_MODEL_1f98f508dffe4cef83c08ac9a993176a"
          },
          "model_module_version": "1.5.0"
        },
        "256f324a0e4e41899a602f31e3e8e74c": {
          "model_module": "@jupyter-widgets/controls",
          "model_name": "HTMLModel",
          "state": {
            "_view_name": "HTMLView",
            "style": "IPY_MODEL_8b099398b9f947c8a79fe1a118deab67",
            "_dom_classes": [],
            "description": "",
            "_model_name": "HTMLModel",
            "placeholder": "​",
            "_view_module": "@jupyter-widgets/controls",
            "_model_module_version": "1.5.0",
            "value": " 3535/? [06:20&lt;00:00,  7.21it/s]",
            "_view_count": null,
            "_view_module_version": "1.5.0",
            "description_tooltip": null,
            "_model_module": "@jupyter-widgets/controls",
            "layout": "IPY_MODEL_7269366330d3443ebe1a11774e16ec00"
          },
          "model_module_version": "1.5.0"
        },
        "3af1dfd1b271450e92e4e24b141f6e7d": {
          "model_module": "@jupyter-widgets/controls",
          "model_name": "ProgressStyleModel",
          "state": {
            "_view_name": "StyleView",
            "_model_name": "ProgressStyleModel",
            "description_width": "initial",
            "_view_module": "@jupyter-widgets/base",
            "_model_module_version": "1.5.0",
            "_view_count": null,
            "_view_module_version": "1.2.0",
            "bar_color": null,
            "_model_module": "@jupyter-widgets/controls"
          },
          "model_module_version": "1.5.0"
        },
        "1f98f508dffe4cef83c08ac9a993176a": {
          "model_module": "@jupyter-widgets/base",
          "model_name": "LayoutModel",
          "state": {
            "_view_name": "LayoutView",
            "grid_template_rows": null,
            "right": null,
            "justify_content": null,
            "_view_module": "@jupyter-widgets/base",
            "overflow": null,
            "_model_module_version": "1.2.0",
            "_view_count": null,
            "flex_flow": null,
            "width": null,
            "min_width": null,
            "border": null,
            "align_items": null,
            "bottom": null,
            "_model_module": "@jupyter-widgets/base",
            "top": null,
            "grid_column": null,
            "overflow_y": null,
            "overflow_x": null,
            "grid_auto_flow": null,
            "grid_area": null,
            "grid_template_columns": null,
            "flex": null,
            "_model_name": "LayoutModel",
            "justify_items": null,
            "grid_row": null,
            "max_height": null,
            "align_content": null,
            "visibility": null,
            "align_self": null,
            "height": null,
            "min_height": null,
            "padding": null,
            "grid_auto_rows": null,
            "grid_gap": null,
            "max_width": null,
            "order": null,
            "_view_module_version": "1.2.0",
            "grid_template_areas": null,
            "object_position": null,
            "object_fit": null,
            "grid_auto_columns": null,
            "margin": null,
            "display": null,
            "left": null
          },
          "model_module_version": "1.2.0"
        },
        "8b099398b9f947c8a79fe1a118deab67": {
          "model_module": "@jupyter-widgets/controls",
          "model_name": "DescriptionStyleModel",
          "state": {
            "_view_name": "StyleView",
            "_model_name": "DescriptionStyleModel",
            "description_width": "",
            "_view_module": "@jupyter-widgets/base",
            "_model_module_version": "1.5.0",
            "_view_count": null,
            "_view_module_version": "1.2.0",
            "_model_module": "@jupyter-widgets/controls"
          },
          "model_module_version": "1.5.0"
        },
        "7269366330d3443ebe1a11774e16ec00": {
          "model_module": "@jupyter-widgets/base",
          "model_name": "LayoutModel",
          "state": {
            "_view_name": "LayoutView",
            "grid_template_rows": null,
            "right": null,
            "justify_content": null,
            "_view_module": "@jupyter-widgets/base",
            "overflow": null,
            "_model_module_version": "1.2.0",
            "_view_count": null,
            "flex_flow": null,
            "width": null,
            "min_width": null,
            "border": null,
            "align_items": null,
            "bottom": null,
            "_model_module": "@jupyter-widgets/base",
            "top": null,
            "grid_column": null,
            "overflow_y": null,
            "overflow_x": null,
            "grid_auto_flow": null,
            "grid_area": null,
            "grid_template_columns": null,
            "flex": null,
            "_model_name": "LayoutModel",
            "justify_items": null,
            "grid_row": null,
            "max_height": null,
            "align_content": null,
            "visibility": null,
            "align_self": null,
            "height": null,
            "min_height": null,
            "padding": null,
            "grid_auto_rows": null,
            "grid_gap": null,
            "max_width": null,
            "order": null,
            "_view_module_version": "1.2.0",
            "grid_template_areas": null,
            "object_position": null,
            "object_fit": null,
            "grid_auto_columns": null,
            "margin": null,
            "display": null,
            "left": null
          },
          "model_module_version": "1.2.0"
        }
      }
    }
  },
  "cells": [
    {
      "cell_type": "code",
      "metadata": {
        "colab": {
          "base_uri": "https://localhost:8080/"
        },
        "id": "1H9SyDEt68YC",
        "outputId": "c177b6b2-c521-46e1-830b-252dba93c3dc"
      },
      "source": [
        "# # Jovian Commit Essentials\n",
        "# # Please retain and execute this cell without modifying the contents for `jovian.commit` to work\n",
        "# !pip install jovian --upgrade -q\n",
        "# import jovian\n",
        "# jovian.set_project('final-segnet')\n",
        "# jovian.set_colab_id('1V6GcJMFpoJTaDvtjNSFX6RJmylZxJ-lJ')"
      ],
      "execution_count": null,
      "outputs": [
        {
          "output_type": "stream",
          "text": [
            "\u001b[?25l\r\u001b[K     |████▊                           | 10kB 22.9MB/s eta 0:00:01\r\u001b[K     |█████████▌                      | 20kB 29.1MB/s eta 0:00:01\r\u001b[K     |██████████████▎                 | 30kB 18.7MB/s eta 0:00:01\r\u001b[K     |███████████████████             | 40kB 15.9MB/s eta 0:00:01\r\u001b[K     |███████████████████████▉        | 51kB 5.3MB/s eta 0:00:01\r\u001b[K     |████████████████████████████▋   | 61kB 5.8MB/s eta 0:00:01\r\u001b[K     |████████████████████████████████| 71kB 4.3MB/s \n",
            "\u001b[?25h  Building wheel for uuid (setup.py) ... \u001b[?25l\u001b[?25hdone\n"
          ],
          "name": "stdout"
        }
      ]
    },
    {
      "cell_type": "code",
      "metadata": {
        "colab": {
          "base_uri": "https://localhost:8080/"
        },
        "id": "ThDvxpLt7cNs",
        "outputId": "e6842188-c951-473f-bef2-37d2429fcac9"
      },
      "source": [
        "!pip install kaggle"
      ],
      "execution_count": null,
      "outputs": [
        {
          "output_type": "stream",
          "name": "stdout",
          "text": [
            "Requirement already satisfied: kaggle in /usr/local/lib/python3.10/dist-packages (1.6.12)\n",
            "Requirement already satisfied: six>=1.10 in /usr/local/lib/python3.10/dist-packages (from kaggle) (1.16.0)\n",
            "Requirement already satisfied: certifi>=2023.7.22 in /usr/local/lib/python3.10/dist-packages (from kaggle) (2024.2.2)\n",
            "Requirement already satisfied: python-dateutil in /usr/local/lib/python3.10/dist-packages (from kaggle) (2.8.2)\n",
            "Requirement already satisfied: requests in /usr/local/lib/python3.10/dist-packages (from kaggle) (2.31.0)\n",
            "Requirement already satisfied: tqdm in /usr/local/lib/python3.10/dist-packages (from kaggle) (4.66.2)\n",
            "Requirement already satisfied: python-slugify in /usr/local/lib/python3.10/dist-packages (from kaggle) (8.0.4)\n",
            "Requirement already satisfied: urllib3 in /usr/local/lib/python3.10/dist-packages (from kaggle) (2.0.7)\n",
            "Requirement already satisfied: bleach in /usr/local/lib/python3.10/dist-packages (from kaggle) (6.1.0)\n",
            "Requirement already satisfied: webencodings in /usr/local/lib/python3.10/dist-packages (from bleach->kaggle) (0.5.1)\n",
            "Requirement already satisfied: text-unidecode>=1.3 in /usr/local/lib/python3.10/dist-packages (from python-slugify->kaggle) (1.3)\n",
            "Requirement already satisfied: charset-normalizer<4,>=2 in /usr/local/lib/python3.10/dist-packages (from requests->kaggle) (3.3.2)\n",
            "Requirement already satisfied: idna<4,>=2.5 in /usr/local/lib/python3.10/dist-packages (from requests->kaggle) (3.7)\n"
          ]
        }
      ]
    },
    {
      "cell_type": "code",
      "metadata": {
        "id": "-IwdE8967cby"
      },
      "source": [
        "!mkdir .kaggle"
      ],
      "execution_count": null,
      "outputs": []
    },
    {
      "cell_type": "code",
      "metadata": {
        "id": "qqYWVCJw7cpM"
      },
      "source": [
        "import json\n",
        "token = {\"username\":\"projectsatellite\",\"key\":\"5a222d44f4602102a65feef9448bb702\"}\n",
        "with open('/content/.kaggle/kaggle.json', 'w') as file:\n",
        "    json.dump(token, file)"
      ],
      "execution_count": null,
      "outputs": []
    },
    {
      "cell_type": "code",
      "metadata": {
        "id": "w7Ty2BbZ7c1h"
      },
      "source": [
        "!cp /content/.kaggle/kaggle.json ~/.kaggle/kaggle.json"
      ],
      "execution_count": null,
      "outputs": []
    },
    {
      "cell_type": "code",
      "metadata": {
        "colab": {
          "base_uri": "https://localhost:8080/"
        },
        "id": "B_atggdv7dFj",
        "outputId": "b0c145de-9b11-476f-8fa4-ccaa2bbbf54c"
      },
      "source": [
        "!kaggle config set -n path -v{/content}"
      ],
      "execution_count": null,
      "outputs": [
        {
          "output_type": "stream",
          "name": "stdout",
          "text": [
            "Warning: Your Kaggle API key is readable by other users on this system! To fix this, you can run 'chmod 600 /root/.kaggle/kaggle.json'\n",
            "- path is now set to: {/content}\n"
          ]
        }
      ]
    },
    {
      "cell_type": "code",
      "metadata": {
        "id": "zbTfR_bX9fW9"
      },
      "source": [
        "!chmod 600 /root/.kaggle/kaggle.json"
      ],
      "execution_count": null,
      "outputs": []
    },
    {
      "cell_type": "code",
      "metadata": {
        "colab": {
          "base_uri": "https://localhost:8080/"
        },
        "id": "oiw46Q1QfjoK",
        "outputId": "d9da3b8b-ea3b-4f51-f9ed-e49128c91800"
      },
      "source": [
        "!kaggle datasets download -d projectsatellite/resultsepoc75 -p /content/weights"
      ],
      "execution_count": null,
      "outputs": [
        {
          "output_type": "stream",
          "name": "stdout",
          "text": [
            "Dataset URL: https://www.kaggle.com/datasets/projectsatellite/resultsepoc75\n",
            "License(s): unknown\n",
            "Downloading resultsepoc75.zip to /content/weights\n",
            "100% 319M/319M [00:05<00:00, 60.4MB/s]\n",
            "100% 319M/319M [00:05<00:00, 62.1MB/s]\n"
          ]
        }
      ]
    },
    {
      "cell_type": "code",
      "metadata": {
        "colab": {
          "base_uri": "https://localhost:8080/"
        },
        "id": "tkNyVMB_lv3U",
        "outputId": "c08785e8-9dc5-45f9-8400-1741c460f50b"
      },
      "source": [
        "cd weights/"
      ],
      "execution_count": null,
      "outputs": [
        {
          "output_type": "stream",
          "name": "stdout",
          "text": [
            "/content/weights\n"
          ]
        }
      ]
    },
    {
      "cell_type": "code",
      "metadata": {
        "colab": {
          "base_uri": "https://localhost:8080/"
        },
        "id": "PPRhMShhl0P2",
        "outputId": "776028d0-c2f0-47cd-c51a-19072043fc92"
      },
      "source": [
        "!unzip \\*.zip"
      ],
      "execution_count": null,
      "outputs": [
        {
          "output_type": "stream",
          "name": "stdout",
          "text": [
            "Archive:  resultsepoc75.zip\n",
            "  inflating: content/results/discr/weights-01.hdf5  \n",
            "  inflating: content/results/discr/weights-101.hdf5  \n",
            "  inflating: content/results/discr/weights-126.hdf5  \n",
            "  inflating: content/results/discr/weights-151.hdf5  \n",
            "  inflating: content/results/discr/weights-176.hdf5  \n",
            "  inflating: content/results/discr/weights-201.hdf5  \n",
            "  inflating: content/results/discr/weights-226.hdf5  \n",
            "  inflating: content/results/discr/weights-251.hdf5  \n",
            "  inflating: content/results/discr/weights-26.hdf5  \n",
            "  inflating: content/results/discr/weights-276.hdf5  \n",
            "  inflating: content/results/discr/weights-301.hdf5  \n",
            "  inflating: content/results/discr/weights-326.hdf5  \n",
            "  inflating: content/results/discr/weights-351.hdf5  \n",
            "  inflating: content/results/discr/weights-376.hdf5  \n",
            "  inflating: content/results/discr/weights-401.hdf5  \n",
            "  inflating: content/results/discr/weights-426.hdf5  \n",
            "  inflating: content/results/discr/weights-451.hdf5  \n",
            "  inflating: content/results/discr/weights-476.hdf5  \n",
            "  inflating: content/results/discr/weights-51.hdf5  \n",
            "  inflating: content/results/discr/weights-76.hdf5  \n",
            "  inflating: content/results/gen/weights-01.hdf5  \n",
            "  inflating: content/results/gen/weights-1051.hdf5  \n",
            "  inflating: content/results/gen/weights-1126.hdf5  \n",
            "  inflating: content/results/gen/weights-1201.hdf5  \n",
            "  inflating: content/results/gen/weights-1276.hdf5  \n",
            "  inflating: content/results/gen/weights-1351.hdf5  \n",
            "  inflating: content/results/gen/weights-1426.hdf5  \n",
            "  inflating: content/results/gen/weights-151.hdf5  \n",
            "  inflating: content/results/gen/weights-226.hdf5  \n",
            "  inflating: content/results/gen/weights-301.hdf5  \n",
            "  inflating: content/results/gen/weights-376.hdf5  \n",
            "  inflating: content/results/gen/weights-451.hdf5  \n",
            "  inflating: content/results/gen/weights-526.hdf5  \n",
            "  inflating: content/results/gen/weights-601.hdf5  \n",
            "  inflating: content/results/gen/weights-676.hdf5  \n",
            "  inflating: content/results/gen/weights-751.hdf5  \n",
            "  inflating: content/results/gen/weights-76.hdf5  \n",
            "  inflating: content/results/gen/weights-826.hdf5  \n",
            "  inflating: content/results/gen/weights-901.hdf5  \n",
            "  inflating: content/results/gen/weights-976.hdf5  \n"
          ]
        }
      ]
    },
    {
      "cell_type": "code",
      "metadata": {
        "colab": {
          "base_uri": "https://localhost:8080/"
        },
        "id": "h6hD2V6Ol6da",
        "outputId": "fcc7472d-bc6e-450f-eaf5-f1f2bbe1c0bd"
      },
      "source": [
        "%cd .."
      ],
      "execution_count": null,
      "outputs": [
        {
          "output_type": "stream",
          "name": "stdout",
          "text": [
            "/content\n"
          ]
        }
      ]
    },
    {
      "cell_type": "code",
      "metadata": {
        "colab": {
          "base_uri": "https://localhost:8080/"
        },
        "id": "6-oIDMbK9fh6",
        "outputId": "64508673-6063-4fef-8481-07252dd762f7"
      },
      "source": [
        "!kaggle datasets download -d stutixy/eroded -p /content/eroded"
      ],
      "execution_count": null,
      "outputs": [
        {
          "output_type": "stream",
          "name": "stdout",
          "text": [
            "Dataset URL: https://www.kaggle.com/datasets/stutixy/eroded\n",
            "License(s): unknown\n",
            "Downloading eroded.zip to /content/eroded\n",
            " 70% 5.00M/7.11M [00:00<00:00, 35.6MB/s]\n",
            "100% 7.11M/7.11M [00:00<00:00, 47.3MB/s]\n"
          ]
        }
      ]
    },
    {
      "cell_type": "code",
      "metadata": {
        "colab": {
          "base_uri": "https://localhost:8080/"
        },
        "id": "Nz524bY895BX",
        "outputId": "70770ad5-2d72-408e-cead-0c39ca315de6"
      },
      "source": [
        "cd eroded/"
      ],
      "execution_count": null,
      "outputs": [
        {
          "output_type": "stream",
          "name": "stdout",
          "text": [
            "/content/eroded\n"
          ]
        }
      ]
    },
    {
      "cell_type": "code",
      "metadata": {
        "colab": {
          "base_uri": "https://localhost:8080/"
        },
        "id": "eA5HpRwC95If",
        "outputId": "b8cfc180-a67c-487d-9986-c1bd58ea6e10"
      },
      "source": [
        "!unzip \\*.zip"
      ],
      "execution_count": null,
      "outputs": [
        {
          "output_type": "stream",
          "name": "stdout",
          "text": [
            "Archive:  eroded.zip\n",
            "  inflating: eroded/top_mosaic_09cm_area10_noBoundary.tif  \n",
            "  inflating: eroded/top_mosaic_09cm_area11_noBoundary.tif  \n",
            "  inflating: eroded/top_mosaic_09cm_area12_noBoundary.tif  \n",
            "  inflating: eroded/top_mosaic_09cm_area13_noBoundary.tif  \n",
            "  inflating: eroded/top_mosaic_09cm_area14_noBoundary.tif  \n",
            "  inflating: eroded/top_mosaic_09cm_area15_noBoundary.tif  \n",
            "  inflating: eroded/top_mosaic_09cm_area16_noBoundary.tif  \n",
            "  inflating: eroded/top_mosaic_09cm_area17_noBoundary.tif  \n",
            "  inflating: eroded/top_mosaic_09cm_area1_noBoundary.tif  \n",
            "  inflating: eroded/top_mosaic_09cm_area20_noBoundary.tif  \n",
            "  inflating: eroded/top_mosaic_09cm_area21_noBoundary.tif  \n",
            "  inflating: eroded/top_mosaic_09cm_area22_noBoundary.tif  \n",
            "  inflating: eroded/top_mosaic_09cm_area23_noBoundary.tif  \n",
            "  inflating: eroded/top_mosaic_09cm_area24_noBoundary.tif  \n",
            "  inflating: eroded/top_mosaic_09cm_area26_noBoundary.tif  \n",
            "  inflating: eroded/top_mosaic_09cm_area27_noBoundary.tif  \n",
            "  inflating: eroded/top_mosaic_09cm_area28_noBoundary.tif  \n",
            "  inflating: eroded/top_mosaic_09cm_area29_noBoundary.tif  \n",
            "  inflating: eroded/top_mosaic_09cm_area2_noBoundary.tif  \n",
            "  inflating: eroded/top_mosaic_09cm_area30_noBoundary.tif  \n",
            "  inflating: eroded/top_mosaic_09cm_area31_noBoundary.tif  \n",
            "  inflating: eroded/top_mosaic_09cm_area32_noBoundary.tif  \n",
            "  inflating: eroded/top_mosaic_09cm_area33_noBoundary.tif  \n",
            "  inflating: eroded/top_mosaic_09cm_area34_noBoundary.tif  \n",
            "  inflating: eroded/top_mosaic_09cm_area35_noBoundary.tif  \n",
            "  inflating: eroded/top_mosaic_09cm_area37_noBoundary.tif  \n",
            "  inflating: eroded/top_mosaic_09cm_area38_noBoundary.tif  \n",
            "  inflating: eroded/top_mosaic_09cm_area3_noBoundary.tif  \n",
            "  inflating: eroded/top_mosaic_09cm_area4_noBoundary.tif  \n",
            "  inflating: eroded/top_mosaic_09cm_area5_noBoundary.tif  \n",
            "  inflating: eroded/top_mosaic_09cm_area6_noBoundary.tif  \n",
            "  inflating: eroded/top_mosaic_09cm_area7_noBoundary.tif  \n",
            "  inflating: eroded/top_mosaic_09cm_area8_noBoundary.tif  \n",
            "  inflating: eroded/top_mosaic_09cm_area9_noBoundary.tif  \n"
          ]
        }
      ]
    },
    {
      "cell_type": "code",
      "metadata": {
        "colab": {
          "base_uri": "https://localhost:8080/"
        },
        "id": "620Z66jd95Pa",
        "outputId": "7eb62daa-ad87-445c-c0c6-a1bcb6a491a8"
      },
      "source": [
        "%cd .."
      ],
      "execution_count": null,
      "outputs": [
        {
          "output_type": "stream",
          "name": "stdout",
          "text": [
            "/content\n"
          ]
        }
      ]
    },
    {
      "cell_type": "code",
      "metadata": {
        "colab": {
          "base_uri": "https://localhost:8080/"
        },
        "id": "nTQqGHLe95c4",
        "outputId": "20f77b88-6909-47be-d5f9-9444fa322e27"
      },
      "source": [
        "!kaggle datasets download -d stutixy/segnet-model -p /content/segnetmodel"
      ],
      "execution_count": null,
      "outputs": [
        {
          "output_type": "stream",
          "name": "stdout",
          "text": [
            "Dataset URL: https://www.kaggle.com/datasets/stutixy/segnet-model\n",
            "License(s): unknown\n",
            "Downloading segnet-model.zip to /content/segnetmodel\n",
            "100% 1.60G/1.60G [00:26<00:00, 68.1MB/s]\n",
            "100% 1.60G/1.60G [00:26<00:00, 64.7MB/s]\n"
          ]
        }
      ]
    },
    {
      "cell_type": "code",
      "metadata": {
        "colab": {
          "base_uri": "https://localhost:8080/"
        },
        "id": "-G04Awj1AVix",
        "outputId": "bee1959d-8954-4107-ace2-30737fb43321"
      },
      "source": [
        "cd segnetmodel"
      ],
      "execution_count": null,
      "outputs": [
        {
          "output_type": "stream",
          "name": "stdout",
          "text": [
            "/content/segnetmodel\n"
          ]
        }
      ]
    },
    {
      "cell_type": "code",
      "metadata": {
        "colab": {
          "base_uri": "https://localhost:8080/"
        },
        "id": "t6pougj-AeT9",
        "outputId": "f4b2108f-89f7-4dc7-bd76-19737d8bb0a8"
      },
      "source": [
        "!unzip \\*.zip"
      ],
      "execution_count": null,
      "outputs": [
        {
          "output_type": "stream",
          "name": "stdout",
          "text": [
            "Archive:  segnet-model.zip\n",
            "  inflating: inference_tile_15.png   \n",
            "  inflating: inference_tile_21.png   \n",
            "  inflating: inference_tile_30.png   \n",
            "  inflating: inference_tile_5.png    \n",
            "  inflating: segnet256_epoch10_87.71883746024294  \n",
            "  inflating: segnet256_epoch15_86.69369133667182  \n",
            "  inflating: segnet256_epoch20_85.19055249064144  \n",
            "  inflating: segnet256_epoch25_88.80141195038375  \n",
            "  inflating: segnet256_epoch30_88.80142892094125  \n",
            "  inflating: segnet256_epoch35_88.96637708295916  \n",
            "  inflating: segnet256_epoch40_89.0581255736402  \n",
            "  inflating: segnet256_epoch45_88.98701328087546  \n",
            "  inflating: segnet256_epoch50_88.98688883012048  \n",
            "  inflating: segnet256_epoch5_81.37512993083084  \n",
            "  inflating: segnet_final            \n",
            "  inflating: vgg16_bn-6c64b313.pth   \n"
          ]
        }
      ]
    },
    {
      "cell_type": "code",
      "metadata": {
        "colab": {
          "base_uri": "https://localhost:8080/"
        },
        "id": "kNn3FVLyAeZP",
        "outputId": "f1670bbd-27ac-402b-c871-b3c7849826a8"
      },
      "source": [
        "%cd .."
      ],
      "execution_count": null,
      "outputs": [
        {
          "output_type": "stream",
          "name": "stdout",
          "text": [
            "/content\n"
          ]
        }
      ]
    },
    {
      "cell_type": "code",
      "metadata": {
        "colab": {
          "base_uri": "https://localhost:8080/"
        },
        "id": "ul2yo2diAejF",
        "outputId": "30e78533-5a6b-44cc-bedc-bceab09d2f7b"
      },
      "source": [
        "!kaggle datasets download -d bkfateam/potsdamvaihingen -p /content/potsdamvaihingen"
      ],
      "execution_count": null,
      "outputs": [
        {
          "output_type": "stream",
          "name": "stdout",
          "text": [
            "Dataset URL: https://www.kaggle.com/datasets/bkfateam/potsdamvaihingen\n",
            "License(s): DbCL-1.0\n",
            "Downloading potsdamvaihingen.zip to /content/potsdamvaihingen\n",
            " 97% 13.5G/13.9G [03:59<00:05, 77.2MB/s]"
          ]
        }
      ]
    },
    {
      "cell_type": "code",
      "metadata": {
        "colab": {
          "base_uri": "https://localhost:8080/"
        },
        "id": "oiJyTuziCh8P",
        "outputId": "156c3321-9722-4370-b57e-9a672b53e21d"
      },
      "source": [
        "cd potsdamvaihingen"
      ],
      "execution_count": null,
      "outputs": [
        {
          "output_type": "stream",
          "name": "stdout",
          "text": [
            "/content/potsdamvaihingen\n"
          ]
        }
      ]
    },
    {
      "cell_type": "code",
      "metadata": {
        "colab": {
          "base_uri": "https://localhost:8080/"
        },
        "id": "j5r_yuTxCiD0",
        "outputId": "9c1d9835-d88e-49a2-c018-c6d2fa23a53a"
      },
      "source": [
        "!unzip \\*.zip"
      ],
      "execution_count": null,
      "outputs": [
        {
          "output_type": "stream",
          "name": "stdout",
          "text": [
            "Archive:  potsdamvaihingen.zip\n",
            "  inflating: 1_DSM/1_DSM/dsm_potsdam_02_10.tfw  \n",
            "  inflating: 1_DSM/1_DSM/dsm_potsdam_02_10.tif  \n",
            "  inflating: 1_DSM/1_DSM/dsm_potsdam_02_11.tfw  \n",
            "  inflating: 1_DSM/1_DSM/dsm_potsdam_02_11.tif  \n",
            "  inflating: 1_DSM/1_DSM/dsm_potsdam_02_12.tfw  \n",
            "  inflating: 1_DSM/1_DSM/dsm_potsdam_02_12.tif  \n",
            "  inflating: 1_DSM/1_DSM/dsm_potsdam_02_13.tfw  \n",
            "  inflating: 1_DSM/1_DSM/dsm_potsdam_02_13.tif  \n",
            "  inflating: 1_DSM/1_DSM/dsm_potsdam_02_14.tfw  \n",
            "  inflating: 1_DSM/1_DSM/dsm_potsdam_02_14.tif  \n",
            "  inflating: 1_DSM/1_DSM/dsm_potsdam_03_10.tfw  \n",
            "  inflating: 1_DSM/1_DSM/dsm_potsdam_03_10.tif  \n",
            "  inflating: 1_DSM/1_DSM/dsm_potsdam_03_11.tfw  \n",
            "  inflating: 1_DSM/1_DSM/dsm_potsdam_03_11.tif  \n",
            "  inflating: 1_DSM/1_DSM/dsm_potsdam_03_12.tfw  \n",
            "  inflating: 1_DSM/1_DSM/dsm_potsdam_03_12.tif  \n",
            "  inflating: 1_DSM/1_DSM/dsm_potsdam_03_13.tfw  \n",
            "  inflating: 1_DSM/1_DSM/dsm_potsdam_03_13.tif  \n",
            "  inflating: 1_DSM/1_DSM/dsm_potsdam_03_14.tfw  \n",
            "  inflating: 1_DSM/1_DSM/dsm_potsdam_03_14.tif  \n",
            "  inflating: 1_DSM/1_DSM/dsm_potsdam_04_10.tfw  \n",
            "  inflating: 1_DSM/1_DSM/dsm_potsdam_04_10.tif  \n",
            "  inflating: 1_DSM/1_DSM/dsm_potsdam_04_11.tfw  \n",
            "  inflating: 1_DSM/1_DSM/dsm_potsdam_04_11.tif  \n",
            "  inflating: 1_DSM/1_DSM/dsm_potsdam_04_12.tfw  \n",
            "  inflating: 1_DSM/1_DSM/dsm_potsdam_04_12.tif  \n",
            "  inflating: 1_DSM/1_DSM/dsm_potsdam_04_13.tfw  \n",
            "  inflating: 1_DSM/1_DSM/dsm_potsdam_04_13.tif  \n",
            "  inflating: 1_DSM/1_DSM/dsm_potsdam_04_14.tfw  \n",
            "  inflating: 1_DSM/1_DSM/dsm_potsdam_04_14.tif  \n",
            "  inflating: 1_DSM/1_DSM/dsm_potsdam_04_15.tfw  \n",
            "  inflating: 1_DSM/1_DSM/dsm_potsdam_04_15.tif  \n",
            "  inflating: 1_DSM/1_DSM/dsm_potsdam_05_10.tfw  \n",
            "  inflating: 1_DSM/1_DSM/dsm_potsdam_05_10.tif  \n",
            "  inflating: 1_DSM/1_DSM/dsm_potsdam_05_11.tfw  \n",
            "  inflating: 1_DSM/1_DSM/dsm_potsdam_05_11.tif  \n",
            "  inflating: 1_DSM/1_DSM/dsm_potsdam_05_12.tfw  \n",
            "  inflating: 1_DSM/1_DSM/dsm_potsdam_05_12.tif  \n",
            "  inflating: 1_DSM/1_DSM/dsm_potsdam_05_13.tfw  \n",
            "  inflating: 1_DSM/1_DSM/dsm_potsdam_05_13.tif  \n",
            "  inflating: 1_DSM/1_DSM/dsm_potsdam_05_14.tfw  \n",
            "  inflating: 1_DSM/1_DSM/dsm_potsdam_05_14.tif  \n",
            "  inflating: 1_DSM/1_DSM/dsm_potsdam_05_15.tfw  \n",
            "  inflating: 1_DSM/1_DSM/dsm_potsdam_05_15.tif  \n",
            "  inflating: 1_DSM/1_DSM/dsm_potsdam_06_07.tfw  \n",
            "  inflating: 1_DSM/1_DSM/dsm_potsdam_06_07.tif  \n",
            "  inflating: 1_DSM/1_DSM/dsm_potsdam_06_08.tfw  \n",
            "  inflating: 1_DSM/1_DSM/dsm_potsdam_06_08.tif  \n",
            "  inflating: 1_DSM/1_DSM/dsm_potsdam_06_09.tfw  \n",
            "  inflating: 1_DSM/1_DSM/dsm_potsdam_06_09.tif  \n",
            "  inflating: 1_DSM/1_DSM/dsm_potsdam_06_10.tfw  \n",
            "  inflating: 1_DSM/1_DSM/dsm_potsdam_06_10.tif  \n",
            "  inflating: 1_DSM/1_DSM/dsm_potsdam_06_11.tfw  \n",
            "  inflating: 1_DSM/1_DSM/dsm_potsdam_06_11.tif  \n",
            "  inflating: 1_DSM/1_DSM/dsm_potsdam_06_12.tfw  \n",
            "  inflating: 1_DSM/1_DSM/dsm_potsdam_06_12.tif  \n",
            "  inflating: 1_DSM/1_DSM/dsm_potsdam_06_13.tfw  \n",
            "  inflating: 1_DSM/1_DSM/dsm_potsdam_06_13.tif  \n",
            "  inflating: 1_DSM/1_DSM/dsm_potsdam_06_14.tfw  \n",
            "  inflating: 1_DSM/1_DSM/dsm_potsdam_06_14.tif  \n",
            "  inflating: 1_DSM/1_DSM/dsm_potsdam_06_15.tfw  \n",
            "  inflating: 1_DSM/1_DSM/dsm_potsdam_06_15.tif  \n",
            "  inflating: 1_DSM/1_DSM/dsm_potsdam_07_07.tfw  \n",
            "  inflating: 1_DSM/1_DSM/dsm_potsdam_07_07.tif  \n",
            "  inflating: 1_DSM/1_DSM/dsm_potsdam_07_08.tfw  \n",
            "  inflating: 1_DSM/1_DSM/dsm_potsdam_07_08.tif  \n",
            "  inflating: 1_DSM/1_DSM/dsm_potsdam_07_09.tfw  \n",
            "  inflating: 1_DSM/1_DSM/dsm_potsdam_07_09.tif  \n",
            "  inflating: 1_DSM/1_DSM/dsm_potsdam_07_10.tfw  \n",
            "  inflating: 1_DSM/1_DSM/dsm_potsdam_07_10.tif  \n",
            "  inflating: 1_DSM/1_DSM/dsm_potsdam_07_11.tfw  \n",
            "  inflating: 1_DSM/1_DSM/dsm_potsdam_07_11.tif  \n",
            "  inflating: 1_DSM/1_DSM/dsm_potsdam_07_12.tfw  \n",
            "  inflating: 1_DSM/1_DSM/dsm_potsdam_07_12.tif  \n",
            "  inflating: 1_DSM/1_DSM/dsm_potsdam_07_13.tfw  \n",
            "  inflating: 1_DSM/1_DSM/dsm_potsdam_07_13.tif  \n",
            "  inflating: 1_DSM_normalisation/1_DSM_normalisation/call_normalisation.sh  \n",
            "  inflating: 1_DSM_normalisation/1_DSM_normalisation/call_normalisation.sh~  \n",
            "  inflating: 1_DSM_normalisation/1_DSM_normalisation/dsm_potsdam_02_10.laz  \n",
            "  inflating: 1_DSM_normalisation/1_DSM_normalisation/dsm_potsdam_02_10_normalized_lastools.jpg  \n",
            "  inflating: 1_DSM_normalisation/1_DSM_normalisation/dsm_potsdam_02_10_normalized_ownapproach.jpg  \n",
            "  inflating: 1_DSM_normalisation/1_DSM_normalisation/dsm_potsdam_02_11.laz  \n",
            "  inflating: 1_DSM_normalisation/1_DSM_normalisation/dsm_potsdam_02_11_normalized_lastools.jpg  \n",
            "  inflating: 1_DSM_normalisation/1_DSM_normalisation/dsm_potsdam_02_11_normalized_ownapproach.jpg  \n",
            "  inflating: 1_DSM_normalisation/1_DSM_normalisation/dsm_potsdam_02_12.laz  \n",
            "  inflating: 1_DSM_normalisation/1_DSM_normalisation/dsm_potsdam_02_12_normalized_lastools.jpg  \n",
            "  inflating: 1_DSM_normalisation/1_DSM_normalisation/dsm_potsdam_02_12_normalized_ownapproach.jpg  \n",
            "  inflating: 1_DSM_normalisation/1_DSM_normalisation/dsm_potsdam_02_13.laz  \n",
            "  inflating: 1_DSM_normalisation/1_DSM_normalisation/dsm_potsdam_02_13_normalized_lastools.jpg  \n",
            "  inflating: 1_DSM_normalisation/1_DSM_normalisation/dsm_potsdam_02_13_normalized_ownapproach.jpg  \n",
            "  inflating: 1_DSM_normalisation/1_DSM_normalisation/dsm_potsdam_02_14.laz  \n",
            "  inflating: 1_DSM_normalisation/1_DSM_normalisation/dsm_potsdam_02_14_normalized_lastools.jpg  \n",
            "  inflating: 1_DSM_normalisation/1_DSM_normalisation/dsm_potsdam_02_14_normalized_ownapproach.jpg  \n",
            "  inflating: 1_DSM_normalisation/1_DSM_normalisation/dsm_potsdam_03_10.laz  \n",
            "  inflating: 1_DSM_normalisation/1_DSM_normalisation/dsm_potsdam_03_10_normalized_lastools.jpg  \n",
            "  inflating: 1_DSM_normalisation/1_DSM_normalisation/dsm_potsdam_03_10_normalized_ownapproach.jpg  \n",
            "  inflating: 1_DSM_normalisation/1_DSM_normalisation/dsm_potsdam_03_11.laz  \n",
            "  inflating: 1_DSM_normalisation/1_DSM_normalisation/dsm_potsdam_03_11_normalized_lastools.jpg  \n",
            "  inflating: 1_DSM_normalisation/1_DSM_normalisation/dsm_potsdam_03_11_normalized_ownapproach.jpg  \n",
            "  inflating: 1_DSM_normalisation/1_DSM_normalisation/dsm_potsdam_03_12.laz  \n",
            "  inflating: 1_DSM_normalisation/1_DSM_normalisation/dsm_potsdam_03_12_normalized_lastools.jpg  \n",
            "  inflating: 1_DSM_normalisation/1_DSM_normalisation/dsm_potsdam_03_12_normalized_ownapproach.jpg  \n",
            "  inflating: 1_DSM_normalisation/1_DSM_normalisation/dsm_potsdam_03_13.laz  \n",
            "  inflating: 1_DSM_normalisation/1_DSM_normalisation/dsm_potsdam_03_13_normalized_lastools.jpg  \n",
            "  inflating: 1_DSM_normalisation/1_DSM_normalisation/dsm_potsdam_03_13_normalized_ownapproach.jpg  \n",
            "  inflating: 1_DSM_normalisation/1_DSM_normalisation/dsm_potsdam_03_14.laz  \n",
            "  inflating: 1_DSM_normalisation/1_DSM_normalisation/dsm_potsdam_03_14_normalized_lastools.jpg  \n",
            "  inflating: 1_DSM_normalisation/1_DSM_normalisation/dsm_potsdam_03_14_normalized_ownapproach.jpg  \n",
            "  inflating: 1_DSM_normalisation/1_DSM_normalisation/dsm_potsdam_04_10.laz  \n",
            "  inflating: 1_DSM_normalisation/1_DSM_normalisation/dsm_potsdam_04_10_normalized_lastools.jpg  \n",
            "  inflating: 1_DSM_normalisation/1_DSM_normalisation/dsm_potsdam_04_10_normalized_ownapproach.jpg  \n",
            "  inflating: 1_DSM_normalisation/1_DSM_normalisation/dsm_potsdam_04_11.laz  \n",
            "  inflating: 1_DSM_normalisation/1_DSM_normalisation/dsm_potsdam_04_11_normalized_lastools.jpg  \n",
            "  inflating: 1_DSM_normalisation/1_DSM_normalisation/dsm_potsdam_04_11_normalized_ownapproach.jpg  \n",
            "  inflating: 1_DSM_normalisation/1_DSM_normalisation/dsm_potsdam_04_12.laz  \n",
            "  inflating: 1_DSM_normalisation/1_DSM_normalisation/dsm_potsdam_04_12_normalized_lastools.jpg  \n",
            "  inflating: 1_DSM_normalisation/1_DSM_normalisation/dsm_potsdam_04_12_normalized_ownapproach.jpg  \n",
            "  inflating: 1_DSM_normalisation/1_DSM_normalisation/dsm_potsdam_04_13.laz  \n",
            "  inflating: 1_DSM_normalisation/1_DSM_normalisation/dsm_potsdam_04_13_normalized_lastools.jpg  \n",
            "  inflating: 1_DSM_normalisation/1_DSM_normalisation/dsm_potsdam_04_13_normalized_ownapproach.jpg  \n",
            "  inflating: 1_DSM_normalisation/1_DSM_normalisation/dsm_potsdam_04_14.laz  \n",
            "  inflating: 1_DSM_normalisation/1_DSM_normalisation/dsm_potsdam_04_14_normalized_lastools.jpg  \n",
            "  inflating: 1_DSM_normalisation/1_DSM_normalisation/dsm_potsdam_04_14_normalized_ownapproach.jpg  \n",
            "  inflating: 1_DSM_normalisation/1_DSM_normalisation/dsm_potsdam_04_15.laz  \n",
            "  inflating: 1_DSM_normalisation/1_DSM_normalisation/dsm_potsdam_04_15_normalized_lastools.jpg  \n",
            "  inflating: 1_DSM_normalisation/1_DSM_normalisation/dsm_potsdam_04_15_normalized_ownapproach.jpg  \n",
            "  inflating: 1_DSM_normalisation/1_DSM_normalisation/dsm_potsdam_05_10.laz  \n",
            "  inflating: 1_DSM_normalisation/1_DSM_normalisation/dsm_potsdam_05_10_normalized_lastools.jpg  \n",
            "  inflating: 1_DSM_normalisation/1_DSM_normalisation/dsm_potsdam_05_10_normalized_ownapproach.jpg  \n",
            "  inflating: 1_DSM_normalisation/1_DSM_normalisation/dsm_potsdam_05_11.laz  \n",
            "  inflating: 1_DSM_normalisation/1_DSM_normalisation/dsm_potsdam_05_11_normalized_lastools.jpg  \n",
            "  inflating: 1_DSM_normalisation/1_DSM_normalisation/dsm_potsdam_05_11_normalized_ownapproach.jpg  \n",
            "  inflating: 1_DSM_normalisation/1_DSM_normalisation/dsm_potsdam_05_12.laz  \n",
            "  inflating: 1_DSM_normalisation/1_DSM_normalisation/dsm_potsdam_05_12_normalized_lastools.jpg  \n",
            "  inflating: 1_DSM_normalisation/1_DSM_normalisation/dsm_potsdam_05_12_normalized_ownapproach.jpg  \n",
            "  inflating: 1_DSM_normalisation/1_DSM_normalisation/dsm_potsdam_05_13.laz  \n",
            "  inflating: 1_DSM_normalisation/1_DSM_normalisation/dsm_potsdam_05_13_normalized_lastools.jpg  \n",
            "  inflating: 1_DSM_normalisation/1_DSM_normalisation/dsm_potsdam_05_13_normalized_ownapproach.jpg  \n",
            "  inflating: 1_DSM_normalisation/1_DSM_normalisation/dsm_potsdam_05_14.laz  \n",
            "  inflating: 1_DSM_normalisation/1_DSM_normalisation/dsm_potsdam_05_14_normalized_lastools.jpg  \n",
            "  inflating: 1_DSM_normalisation/1_DSM_normalisation/dsm_potsdam_05_14_normalized_ownapproach.jpg  \n",
            "  inflating: 1_DSM_normalisation/1_DSM_normalisation/dsm_potsdam_05_15.laz  \n",
            "  inflating: 1_DSM_normalisation/1_DSM_normalisation/dsm_potsdam_05_15_normalized_lastools.jpg  \n",
            "  inflating: 1_DSM_normalisation/1_DSM_normalisation/dsm_potsdam_05_15_normalized_ownapproach.jpg  \n",
            "  inflating: 1_DSM_normalisation/1_DSM_normalisation/dsm_potsdam_06_07.laz  \n",
            "  inflating: 1_DSM_normalisation/1_DSM_normalisation/dsm_potsdam_06_07_normalized_lastools.jpg  \n",
            "  inflating: 1_DSM_normalisation/1_DSM_normalisation/dsm_potsdam_06_07_normalized_ownapproach.jpg  \n",
            "  inflating: 1_DSM_normalisation/1_DSM_normalisation/dsm_potsdam_06_08.laz  \n",
            "  inflating: 1_DSM_normalisation/1_DSM_normalisation/dsm_potsdam_06_08_normalized_lastools.jpg  \n",
            "  inflating: 1_DSM_normalisation/1_DSM_normalisation/dsm_potsdam_06_08_normalized_ownapproach.jpg  \n",
            "  inflating: 1_DSM_normalisation/1_DSM_normalisation/dsm_potsdam_06_09.laz  \n",
            "  inflating: 1_DSM_normalisation/1_DSM_normalisation/dsm_potsdam_06_09_normalized_lastools.jpg  \n",
            "  inflating: 1_DSM_normalisation/1_DSM_normalisation/dsm_potsdam_06_09_normalized_ownapproach.jpg  \n",
            "  inflating: 1_DSM_normalisation/1_DSM_normalisation/dsm_potsdam_06_10.laz  \n",
            "  inflating: 1_DSM_normalisation/1_DSM_normalisation/dsm_potsdam_06_10_normalized_lastools.jpg  \n",
            "  inflating: 1_DSM_normalisation/1_DSM_normalisation/dsm_potsdam_06_10_normalized_ownapproach.jpg  \n",
            "  inflating: 1_DSM_normalisation/1_DSM_normalisation/dsm_potsdam_06_11.laz  \n",
            "  inflating: 1_DSM_normalisation/1_DSM_normalisation/dsm_potsdam_06_11_normalized_lastools.jpg  \n",
            "  inflating: 1_DSM_normalisation/1_DSM_normalisation/dsm_potsdam_06_11_normalized_ownapproach.jpg  \n",
            "  inflating: 1_DSM_normalisation/1_DSM_normalisation/dsm_potsdam_06_12.laz  \n",
            "  inflating: 1_DSM_normalisation/1_DSM_normalisation/dsm_potsdam_06_12_normalized_lastools.jpg  \n",
            "  inflating: 1_DSM_normalisation/1_DSM_normalisation/dsm_potsdam_06_12_normalized_ownapproach.jpg  \n",
            "  inflating: 1_DSM_normalisation/1_DSM_normalisation/dsm_potsdam_06_13.laz  \n",
            "  inflating: 1_DSM_normalisation/1_DSM_normalisation/dsm_potsdam_06_13_normalized_lastools.jpg  \n",
            "  inflating: 1_DSM_normalisation/1_DSM_normalisation/dsm_potsdam_06_13_normalized_ownapproach.jpg  \n",
            "  inflating: 1_DSM_normalisation/1_DSM_normalisation/dsm_potsdam_06_14.laz  \n",
            "  inflating: 1_DSM_normalisation/1_DSM_normalisation/dsm_potsdam_06_14_normalized_lastools.jpg  \n",
            "  inflating: 1_DSM_normalisation/1_DSM_normalisation/dsm_potsdam_06_14_normalized_ownapproach.jpg  \n",
            "  inflating: 1_DSM_normalisation/1_DSM_normalisation/dsm_potsdam_06_15.laz  \n",
            "  inflating: 1_DSM_normalisation/1_DSM_normalisation/dsm_potsdam_06_15_normalized_lastools.jpg  \n",
            "  inflating: 1_DSM_normalisation/1_DSM_normalisation/dsm_potsdam_06_15_normalized_ownapproach.jpg  \n",
            "  inflating: 1_DSM_normalisation/1_DSM_normalisation/dsm_potsdam_07_07.laz  \n",
            "  inflating: 1_DSM_normalisation/1_DSM_normalisation/dsm_potsdam_07_07_normalized_lastools.jpg  \n",
            "  inflating: 1_DSM_normalisation/1_DSM_normalisation/dsm_potsdam_07_07_normalized_ownapproach.jpg  \n",
            "  inflating: 1_DSM_normalisation/1_DSM_normalisation/dsm_potsdam_07_08.laz  \n",
            "  inflating: 1_DSM_normalisation/1_DSM_normalisation/dsm_potsdam_07_08_normalized_lastools.jpg  \n",
            "  inflating: 1_DSM_normalisation/1_DSM_normalisation/dsm_potsdam_07_08_normalized_ownapproach.jpg  \n",
            "  inflating: 1_DSM_normalisation/1_DSM_normalisation/dsm_potsdam_07_09.laz  \n",
            "  inflating: 1_DSM_normalisation/1_DSM_normalisation/dsm_potsdam_07_09_normalized_lastools.jpg  \n",
            "  inflating: 1_DSM_normalisation/1_DSM_normalisation/dsm_potsdam_07_09_normalized_ownapproach.jpg  \n",
            "  inflating: 1_DSM_normalisation/1_DSM_normalisation/dsm_potsdam_07_10.laz  \n",
            "  inflating: 1_DSM_normalisation/1_DSM_normalisation/dsm_potsdam_07_10_normalized_lastools.jpg  \n",
            "  inflating: 1_DSM_normalisation/1_DSM_normalisation/dsm_potsdam_07_10_normalized_ownapproach.jpg  \n",
            "  inflating: 1_DSM_normalisation/1_DSM_normalisation/dsm_potsdam_07_11.laz  \n",
            "  inflating: 1_DSM_normalisation/1_DSM_normalisation/dsm_potsdam_07_11_normalized_lastools.jpg  \n",
            "  inflating: 1_DSM_normalisation/1_DSM_normalisation/dsm_potsdam_07_11_normalized_ownapproach.jpg  \n",
            "  inflating: 1_DSM_normalisation/1_DSM_normalisation/dsm_potsdam_07_12.laz  \n",
            "  inflating: 1_DSM_normalisation/1_DSM_normalisation/dsm_potsdam_07_12_normalized_lastools.jpg  \n",
            "  inflating: 1_DSM_normalisation/1_DSM_normalisation/dsm_potsdam_07_12_normalized_ownapproach.jpg  \n",
            "  inflating: 1_DSM_normalisation/1_DSM_normalisation/dsm_potsdam_07_13.laz  \n",
            "  inflating: 1_DSM_normalisation/1_DSM_normalisation/dsm_potsdam_07_13_normalized_lastools.jpg  \n",
            "  inflating: 1_DSM_normalisation/1_DSM_normalisation/dsm_potsdam_07_13_normalized_ownapproach.jpg  \n",
            "  inflating: 1_DSM_normalisation/1_DSM_normalisation/pcm.ini  \n",
            "  inflating: 1_DSM_normalisation/1_DSM_normalisation/readme.txt  \n",
            "  inflating: 1_DSM_normalisation/1_DSM_normalisation/readme.txt~  \n",
            "  inflating: 1_dsm/1_DSM/dsm_potsdam_02_10.tfw  \n",
            "  inflating: 1_dsm/1_DSM/dsm_potsdam_02_10.tif  \n",
            "  inflating: 1_dsm/1_DSM/dsm_potsdam_02_11.tfw  \n",
            "  inflating: 1_dsm/1_DSM/dsm_potsdam_02_11.tif  \n",
            "  inflating: 1_dsm/1_DSM/dsm_potsdam_02_12.tfw  \n",
            "  inflating: 1_dsm/1_DSM/dsm_potsdam_02_12.tif  \n",
            "  inflating: 1_dsm/1_DSM/dsm_potsdam_02_13.tfw  \n",
            "  inflating: 1_dsm/1_DSM/dsm_potsdam_02_13.tif  \n",
            "  inflating: 1_dsm/1_DSM/dsm_potsdam_02_14.tfw  \n",
            "  inflating: 1_dsm/1_DSM/dsm_potsdam_02_14.tif  \n",
            "  inflating: 1_dsm/1_DSM/dsm_potsdam_03_10.tfw  \n",
            "  inflating: 1_dsm/1_DSM/dsm_potsdam_03_10.tif  \n",
            "  inflating: 1_dsm/1_DSM/dsm_potsdam_03_11.tfw  \n",
            "  inflating: 1_dsm/1_DSM/dsm_potsdam_03_11.tif  \n",
            "  inflating: 1_dsm/1_DSM/dsm_potsdam_03_12.tfw  \n",
            "  inflating: 1_dsm/1_DSM/dsm_potsdam_03_12.tif  \n",
            "  inflating: 1_dsm/1_DSM/dsm_potsdam_03_13.tfw  \n",
            "  inflating: 1_dsm/1_DSM/dsm_potsdam_03_13.tif  \n",
            "  inflating: 1_dsm/1_DSM/dsm_potsdam_03_14.tfw  \n",
            "  inflating: 1_dsm/1_DSM/dsm_potsdam_03_14.tif  \n",
            "  inflating: 1_dsm/1_DSM/dsm_potsdam_04_10.tfw  \n",
            "  inflating: 1_dsm/1_DSM/dsm_potsdam_04_10.tif  \n",
            "  inflating: 1_dsm/1_DSM/dsm_potsdam_04_11.tfw  \n",
            "  inflating: 1_dsm/1_DSM/dsm_potsdam_04_11.tif  \n",
            "  inflating: 1_dsm/1_DSM/dsm_potsdam_04_12.tfw  \n",
            "  inflating: 1_dsm/1_DSM/dsm_potsdam_04_12.tif  \n",
            "  inflating: 1_dsm/1_DSM/dsm_potsdam_04_13.tfw  \n",
            "  inflating: 1_dsm/1_DSM/dsm_potsdam_04_13.tif  \n",
            "  inflating: 1_dsm/1_DSM/dsm_potsdam_04_14.tfw  \n",
            "  inflating: 1_dsm/1_DSM/dsm_potsdam_04_14.tif  \n",
            "  inflating: 1_dsm/1_DSM/dsm_potsdam_04_15.tfw  \n",
            "  inflating: 1_dsm/1_DSM/dsm_potsdam_04_15.tif  \n",
            "  inflating: 1_dsm/1_DSM/dsm_potsdam_05_10.tfw  \n",
            "  inflating: 1_dsm/1_DSM/dsm_potsdam_05_10.tif  \n",
            "  inflating: 1_dsm/1_DSM/dsm_potsdam_05_11.tfw  \n",
            "  inflating: 1_dsm/1_DSM/dsm_potsdam_05_11.tif  \n",
            "  inflating: 1_dsm/1_DSM/dsm_potsdam_05_12.tfw  \n",
            "  inflating: 1_dsm/1_DSM/dsm_potsdam_05_12.tif  \n",
            "  inflating: 1_dsm/1_DSM/dsm_potsdam_05_13.tfw  \n",
            "  inflating: 1_dsm/1_DSM/dsm_potsdam_05_13.tif  \n",
            "  inflating: 1_dsm/1_DSM/dsm_potsdam_05_14.tfw  \n",
            "  inflating: 1_dsm/1_DSM/dsm_potsdam_05_14.tif  \n",
            "  inflating: 1_dsm/1_DSM/dsm_potsdam_05_15.tfw  \n",
            "  inflating: 1_dsm/1_DSM/dsm_potsdam_05_15.tif  \n",
            "  inflating: 1_dsm/1_DSM/dsm_potsdam_06_07.tfw  \n",
            "  inflating: 1_dsm/1_DSM/dsm_potsdam_06_07.tif  \n",
            "  inflating: 1_dsm/1_DSM/dsm_potsdam_06_08.tfw  \n",
            "  inflating: 1_dsm/1_DSM/dsm_potsdam_06_08.tif  \n",
            "  inflating: 1_dsm/1_DSM/dsm_potsdam_06_09.tfw  \n",
            "  inflating: 1_dsm/1_DSM/dsm_potsdam_06_09.tif  \n",
            "  inflating: 1_dsm/1_DSM/dsm_potsdam_06_10.tfw  \n",
            "  inflating: 1_dsm/1_DSM/dsm_potsdam_06_10.tif  \n",
            "  inflating: 1_dsm/1_DSM/dsm_potsdam_06_11.tfw  \n",
            "  inflating: 1_dsm/1_DSM/dsm_potsdam_06_11.tif  \n",
            "  inflating: 1_dsm/1_DSM/dsm_potsdam_06_12.tfw  \n",
            "  inflating: 1_dsm/1_DSM/dsm_potsdam_06_12.tif  \n",
            "  inflating: 1_dsm/1_DSM/dsm_potsdam_06_13.tfw  \n",
            "  inflating: 1_dsm/1_DSM/dsm_potsdam_06_13.tif  \n",
            "  inflating: 1_dsm/1_DSM/dsm_potsdam_06_14.tfw  \n",
            "  inflating: 1_dsm/1_DSM/dsm_potsdam_06_14.tif  \n",
            "  inflating: 1_dsm/1_DSM/dsm_potsdam_06_15.tfw  \n",
            "  inflating: 1_dsm/1_DSM/dsm_potsdam_06_15.tif  \n",
            "  inflating: 1_dsm/1_DSM/dsm_potsdam_07_07.tfw  \n",
            "  inflating: 1_dsm/1_DSM/dsm_potsdam_07_07.tif  \n",
            "  inflating: 1_dsm/1_DSM/dsm_potsdam_07_08.tfw  \n",
            "  inflating: 1_dsm/1_DSM/dsm_potsdam_07_08.tif  \n",
            "  inflating: 1_dsm/1_DSM/dsm_potsdam_07_09.tfw  \n",
            "  inflating: 1_dsm/1_DSM/dsm_potsdam_07_09.tif  \n",
            "  inflating: 1_dsm/1_DSM/dsm_potsdam_07_10.tfw  \n",
            "  inflating: 1_dsm/1_DSM/dsm_potsdam_07_10.tif  \n",
            "  inflating: 1_dsm/1_DSM/dsm_potsdam_07_11.tfw  \n",
            "  inflating: 1_dsm/1_DSM/dsm_potsdam_07_11.tif  \n",
            "  inflating: 1_dsm/1_DSM/dsm_potsdam_07_12.tfw  \n",
            "  inflating: 1_dsm/1_DSM/dsm_potsdam_07_12.tif  \n",
            "  inflating: 1_dsm/1_DSM/dsm_potsdam_07_13.tfw  \n",
            "  inflating: 1_dsm/1_DSM/dsm_potsdam_07_13.tif  \n",
            "  inflating: 1_dsm_normalisation/1_DSM_normalisation/call_normalisation.sh  \n",
            "  inflating: 1_dsm_normalisation/1_DSM_normalisation/call_normalisation.sh~  \n",
            "  inflating: 1_dsm_normalisation/1_DSM_normalisation/dsm_potsdam_02_10.laz  \n",
            "  inflating: 1_dsm_normalisation/1_DSM_normalisation/dsm_potsdam_02_10_normalized_lastools.jpg  \n",
            "  inflating: 1_dsm_normalisation/1_DSM_normalisation/dsm_potsdam_02_10_normalized_ownapproach.jpg  \n",
            "  inflating: 1_dsm_normalisation/1_DSM_normalisation/dsm_potsdam_02_11.laz  \n",
            "  inflating: 1_dsm_normalisation/1_DSM_normalisation/dsm_potsdam_02_11_normalized_lastools.jpg  \n",
            "  inflating: 1_dsm_normalisation/1_DSM_normalisation/dsm_potsdam_02_11_normalized_ownapproach.jpg  \n",
            "  inflating: 1_dsm_normalisation/1_DSM_normalisation/dsm_potsdam_02_12.laz  \n",
            "  inflating: 1_dsm_normalisation/1_DSM_normalisation/dsm_potsdam_02_12_normalized_lastools.jpg  \n",
            "  inflating: 1_dsm_normalisation/1_DSM_normalisation/dsm_potsdam_02_12_normalized_ownapproach.jpg  \n",
            "  inflating: 1_dsm_normalisation/1_DSM_normalisation/dsm_potsdam_02_13.laz  \n",
            "  inflating: 1_dsm_normalisation/1_DSM_normalisation/dsm_potsdam_02_13_normalized_lastools.jpg  \n",
            "  inflating: 1_dsm_normalisation/1_DSM_normalisation/dsm_potsdam_02_13_normalized_ownapproach.jpg  \n",
            "  inflating: 1_dsm_normalisation/1_DSM_normalisation/dsm_potsdam_02_14.laz  \n",
            "  inflating: 1_dsm_normalisation/1_DSM_normalisation/dsm_potsdam_02_14_normalized_lastools.jpg  \n",
            "  inflating: 1_dsm_normalisation/1_DSM_normalisation/dsm_potsdam_02_14_normalized_ownapproach.jpg  \n",
            "  inflating: 1_dsm_normalisation/1_DSM_normalisation/dsm_potsdam_03_10.laz  \n",
            "  inflating: 1_dsm_normalisation/1_DSM_normalisation/dsm_potsdam_03_10_normalized_lastools.jpg  \n",
            "  inflating: 1_dsm_normalisation/1_DSM_normalisation/dsm_potsdam_03_10_normalized_ownapproach.jpg  \n",
            "  inflating: 1_dsm_normalisation/1_DSM_normalisation/dsm_potsdam_03_11.laz  \n",
            "  inflating: 1_dsm_normalisation/1_DSM_normalisation/dsm_potsdam_03_11_normalized_lastools.jpg  \n",
            "  inflating: 1_dsm_normalisation/1_DSM_normalisation/dsm_potsdam_03_11_normalized_ownapproach.jpg  \n",
            "  inflating: 1_dsm_normalisation/1_DSM_normalisation/dsm_potsdam_03_12.laz  \n",
            "  inflating: 1_dsm_normalisation/1_DSM_normalisation/dsm_potsdam_03_12_normalized_lastools.jpg  \n",
            "  inflating: 1_dsm_normalisation/1_DSM_normalisation/dsm_potsdam_03_12_normalized_ownapproach.jpg  \n",
            "  inflating: 1_dsm_normalisation/1_DSM_normalisation/dsm_potsdam_03_13.laz  \n",
            "  inflating: 1_dsm_normalisation/1_DSM_normalisation/dsm_potsdam_03_13_normalized_lastools.jpg  \n",
            "  inflating: 1_dsm_normalisation/1_DSM_normalisation/dsm_potsdam_03_13_normalized_ownapproach.jpg  \n",
            "  inflating: 1_dsm_normalisation/1_DSM_normalisation/dsm_potsdam_03_14.laz  \n",
            "  inflating: 1_dsm_normalisation/1_DSM_normalisation/dsm_potsdam_03_14_normalized_lastools.jpg  \n",
            "  inflating: 1_dsm_normalisation/1_DSM_normalisation/dsm_potsdam_03_14_normalized_ownapproach.jpg  \n",
            "  inflating: 1_dsm_normalisation/1_DSM_normalisation/dsm_potsdam_04_10.laz  \n",
            "  inflating: 1_dsm_normalisation/1_DSM_normalisation/dsm_potsdam_04_10_normalized_lastools.jpg  \n",
            "  inflating: 1_dsm_normalisation/1_DSM_normalisation/dsm_potsdam_04_10_normalized_ownapproach.jpg  \n",
            "  inflating: 1_dsm_normalisation/1_DSM_normalisation/dsm_potsdam_04_11.laz  \n",
            "  inflating: 1_dsm_normalisation/1_DSM_normalisation/dsm_potsdam_04_11_normalized_lastools.jpg  \n",
            "  inflating: 1_dsm_normalisation/1_DSM_normalisation/dsm_potsdam_04_11_normalized_ownapproach.jpg  \n",
            "  inflating: 1_dsm_normalisation/1_DSM_normalisation/dsm_potsdam_04_12.laz  \n",
            "  inflating: 1_dsm_normalisation/1_DSM_normalisation/dsm_potsdam_04_12_normalized_lastools.jpg  \n",
            "  inflating: 1_dsm_normalisation/1_DSM_normalisation/dsm_potsdam_04_12_normalized_ownapproach.jpg  \n",
            "  inflating: 1_dsm_normalisation/1_DSM_normalisation/dsm_potsdam_04_13.laz  \n",
            "  inflating: 1_dsm_normalisation/1_DSM_normalisation/dsm_potsdam_04_13_normalized_lastools.jpg  \n",
            "  inflating: 1_dsm_normalisation/1_DSM_normalisation/dsm_potsdam_04_13_normalized_ownapproach.jpg  \n",
            "  inflating: 1_dsm_normalisation/1_DSM_normalisation/dsm_potsdam_04_14.laz  \n",
            "  inflating: 1_dsm_normalisation/1_DSM_normalisation/dsm_potsdam_04_14_normalized_lastools.jpg  \n",
            "  inflating: 1_dsm_normalisation/1_DSM_normalisation/dsm_potsdam_04_14_normalized_ownapproach.jpg  \n",
            "  inflating: 1_dsm_normalisation/1_DSM_normalisation/dsm_potsdam_04_15.laz  \n",
            "  inflating: 1_dsm_normalisation/1_DSM_normalisation/dsm_potsdam_04_15_normalized_lastools.jpg  \n",
            "  inflating: 1_dsm_normalisation/1_DSM_normalisation/dsm_potsdam_04_15_normalized_ownapproach.jpg  \n",
            "  inflating: 1_dsm_normalisation/1_DSM_normalisation/dsm_potsdam_05_10.laz  \n",
            "  inflating: 1_dsm_normalisation/1_DSM_normalisation/dsm_potsdam_05_10_normalized_lastools.jpg  \n",
            "  inflating: 1_dsm_normalisation/1_DSM_normalisation/dsm_potsdam_05_10_normalized_ownapproach.jpg  \n",
            "  inflating: 1_dsm_normalisation/1_DSM_normalisation/dsm_potsdam_05_11.laz  \n",
            "  inflating: 1_dsm_normalisation/1_DSM_normalisation/dsm_potsdam_05_11_normalized_lastools.jpg  \n",
            "  inflating: 1_dsm_normalisation/1_DSM_normalisation/dsm_potsdam_05_11_normalized_ownapproach.jpg  \n",
            "  inflating: 1_dsm_normalisation/1_DSM_normalisation/dsm_potsdam_05_12.laz  \n",
            "  inflating: 1_dsm_normalisation/1_DSM_normalisation/dsm_potsdam_05_12_normalized_lastools.jpg  \n",
            "  inflating: 1_dsm_normalisation/1_DSM_normalisation/dsm_potsdam_05_12_normalized_ownapproach.jpg  \n",
            "  inflating: 1_dsm_normalisation/1_DSM_normalisation/dsm_potsdam_05_13.laz  \n",
            "  inflating: 1_dsm_normalisation/1_DSM_normalisation/dsm_potsdam_05_13_normalized_lastools.jpg  \n",
            "  inflating: 1_dsm_normalisation/1_DSM_normalisation/dsm_potsdam_05_13_normalized_ownapproach.jpg  \n",
            "  inflating: 1_dsm_normalisation/1_DSM_normalisation/dsm_potsdam_05_14.laz  \n",
            "  inflating: 1_dsm_normalisation/1_DSM_normalisation/dsm_potsdam_05_14_normalized_lastools.jpg  \n",
            "  inflating: 1_dsm_normalisation/1_DSM_normalisation/dsm_potsdam_05_14_normalized_ownapproach.jpg  \n",
            "  inflating: 1_dsm_normalisation/1_DSM_normalisation/dsm_potsdam_05_15.laz  \n",
            "  inflating: 1_dsm_normalisation/1_DSM_normalisation/dsm_potsdam_05_15_normalized_lastools.jpg  \n",
            "  inflating: 1_dsm_normalisation/1_DSM_normalisation/dsm_potsdam_05_15_normalized_ownapproach.jpg  \n",
            "  inflating: 1_dsm_normalisation/1_DSM_normalisation/dsm_potsdam_06_07.laz  \n",
            "  inflating: 1_dsm_normalisation/1_DSM_normalisation/dsm_potsdam_06_07_normalized_lastools.jpg  \n",
            "  inflating: 1_dsm_normalisation/1_DSM_normalisation/dsm_potsdam_06_07_normalized_ownapproach.jpg  \n",
            "  inflating: 1_dsm_normalisation/1_DSM_normalisation/dsm_potsdam_06_08.laz  \n",
            "  inflating: 1_dsm_normalisation/1_DSM_normalisation/dsm_potsdam_06_08_normalized_lastools.jpg  \n",
            "  inflating: 1_dsm_normalisation/1_DSM_normalisation/dsm_potsdam_06_08_normalized_ownapproach.jpg  \n",
            "  inflating: 1_dsm_normalisation/1_DSM_normalisation/dsm_potsdam_06_09.laz  \n",
            "  inflating: 1_dsm_normalisation/1_DSM_normalisation/dsm_potsdam_06_09_normalized_lastools.jpg  \n",
            "  inflating: 1_dsm_normalisation/1_DSM_normalisation/dsm_potsdam_06_09_normalized_ownapproach.jpg  \n",
            "  inflating: 1_dsm_normalisation/1_DSM_normalisation/dsm_potsdam_06_10.laz  \n",
            "  inflating: 1_dsm_normalisation/1_DSM_normalisation/dsm_potsdam_06_10_normalized_lastools.jpg  \n",
            "  inflating: 1_dsm_normalisation/1_DSM_normalisation/dsm_potsdam_06_10_normalized_ownapproach.jpg  \n",
            "  inflating: 1_dsm_normalisation/1_DSM_normalisation/dsm_potsdam_06_11.laz  \n",
            "  inflating: 1_dsm_normalisation/1_DSM_normalisation/dsm_potsdam_06_11_normalized_lastools.jpg  \n",
            "  inflating: 1_dsm_normalisation/1_DSM_normalisation/dsm_potsdam_06_11_normalized_ownapproach.jpg  \n",
            "  inflating: 1_dsm_normalisation/1_DSM_normalisation/dsm_potsdam_06_12.laz  \n",
            "  inflating: 1_dsm_normalisation/1_DSM_normalisation/dsm_potsdam_06_12_normalized_lastools.jpg  \n",
            "  inflating: 1_dsm_normalisation/1_DSM_normalisation/dsm_potsdam_06_12_normalized_ownapproach.jpg  \n",
            "  inflating: 1_dsm_normalisation/1_DSM_normalisation/dsm_potsdam_06_13.laz  \n",
            "  inflating: 1_dsm_normalisation/1_DSM_normalisation/dsm_potsdam_06_13_normalized_lastools.jpg  \n",
            "  inflating: 1_dsm_normalisation/1_DSM_normalisation/dsm_potsdam_06_13_normalized_ownapproach.jpg  \n",
            "  inflating: 1_dsm_normalisation/1_DSM_normalisation/dsm_potsdam_06_14.laz  \n",
            "  inflating: 1_dsm_normalisation/1_DSM_normalisation/dsm_potsdam_06_14_normalized_lastools.jpg  \n",
            "  inflating: 1_dsm_normalisation/1_DSM_normalisation/dsm_potsdam_06_14_normalized_ownapproach.jpg  \n",
            "  inflating: 1_dsm_normalisation/1_DSM_normalisation/dsm_potsdam_06_15.laz  \n",
            "  inflating: 1_dsm_normalisation/1_DSM_normalisation/dsm_potsdam_06_15_normalized_lastools.jpg  \n",
            "  inflating: 1_dsm_normalisation/1_DSM_normalisation/dsm_potsdam_06_15_normalized_ownapproach.jpg  \n",
            "  inflating: 1_dsm_normalisation/1_DSM_normalisation/dsm_potsdam_07_07.laz  \n",
            "  inflating: 1_dsm_normalisation/1_DSM_normalisation/dsm_potsdam_07_07_normalized_lastools.jpg  \n",
            "  inflating: 1_dsm_normalisation/1_DSM_normalisation/dsm_potsdam_07_07_normalized_ownapproach.jpg  \n",
            "  inflating: 1_dsm_normalisation/1_DSM_normalisation/dsm_potsdam_07_08.laz  \n",
            "  inflating: 1_dsm_normalisation/1_DSM_normalisation/dsm_potsdam_07_08_normalized_lastools.jpg  \n",
            "  inflating: 1_dsm_normalisation/1_DSM_normalisation/dsm_potsdam_07_08_normalized_ownapproach.jpg  \n",
            "  inflating: 1_dsm_normalisation/1_DSM_normalisation/dsm_potsdam_07_09.laz  \n",
            "  inflating: 1_dsm_normalisation/1_DSM_normalisation/dsm_potsdam_07_09_normalized_lastools.jpg  \n",
            "  inflating: 1_dsm_normalisation/1_DSM_normalisation/dsm_potsdam_07_09_normalized_ownapproach.jpg  \n",
            "  inflating: 1_dsm_normalisation/1_DSM_normalisation/dsm_potsdam_07_10.laz  \n",
            "  inflating: 1_dsm_normalisation/1_DSM_normalisation/dsm_potsdam_07_10_normalized_lastools.jpg  \n",
            "  inflating: 1_dsm_normalisation/1_DSM_normalisation/dsm_potsdam_07_10_normalized_ownapproach.jpg  \n",
            "  inflating: 1_dsm_normalisation/1_DSM_normalisation/dsm_potsdam_07_11.laz  \n",
            "  inflating: 1_dsm_normalisation/1_DSM_normalisation/dsm_potsdam_07_11_normalized_lastools.jpg  \n",
            "  inflating: 1_dsm_normalisation/1_DSM_normalisation/dsm_potsdam_07_11_normalized_ownapproach.jpg  \n",
            "  inflating: 1_dsm_normalisation/1_DSM_normalisation/dsm_potsdam_07_12.laz  \n",
            "  inflating: 1_dsm_normalisation/1_DSM_normalisation/dsm_potsdam_07_12_normalized_lastools.jpg  \n",
            "  inflating: 1_dsm_normalisation/1_DSM_normalisation/dsm_potsdam_07_12_normalized_ownapproach.jpg  \n",
            "  inflating: 1_dsm_normalisation/1_DSM_normalisation/dsm_potsdam_07_13.laz  \n",
            "  inflating: 1_dsm_normalisation/1_DSM_normalisation/dsm_potsdam_07_13_normalized_lastools.jpg  \n",
            "  inflating: 1_dsm_normalisation/1_DSM_normalisation/dsm_potsdam_07_13_normalized_ownapproach.jpg  \n",
            "  inflating: 1_dsm_normalisation/1_DSM_normalisation/pcm.ini  \n",
            "  inflating: 1_dsm_normalisation/1_DSM_normalisation/readme.txt  \n",
            "  inflating: 1_dsm_normalisation/1_DSM_normalisation/readme.txt~  \n",
            "  inflating: 3_Ortho_IRRG/3_Ortho_IRRG/top_potsdam_2_10_IRRG.tfw  \n",
            "  inflating: 3_Ortho_IRRG/3_Ortho_IRRG/top_potsdam_2_10_IRRG.tif  \n",
            "  inflating: 3_Ortho_IRRG/3_Ortho_IRRG/top_potsdam_2_11_IRRG.tfw  \n",
            "  inflating: 3_Ortho_IRRG/3_Ortho_IRRG/top_potsdam_2_11_IRRG.tif  \n",
            "  inflating: 3_Ortho_IRRG/3_Ortho_IRRG/top_potsdam_2_12_IRRG.tfw  \n",
            "  inflating: 3_Ortho_IRRG/3_Ortho_IRRG/top_potsdam_2_12_IRRG.tif  \n",
            "  inflating: 3_Ortho_IRRG/3_Ortho_IRRG/top_potsdam_2_13_IRRG.tfw  \n",
            "  inflating: 3_Ortho_IRRG/3_Ortho_IRRG/top_potsdam_2_13_IRRG.tif  \n",
            "  inflating: 3_Ortho_IRRG/3_Ortho_IRRG/top_potsdam_2_14_IRRG.tfw  \n",
            "  inflating: 3_Ortho_IRRG/3_Ortho_IRRG/top_potsdam_2_14_IRRG.tif  \n",
            "  inflating: 3_Ortho_IRRG/3_Ortho_IRRG/top_potsdam_3_10_IRRG.tfw  \n",
            "  inflating: 3_Ortho_IRRG/3_Ortho_IRRG/top_potsdam_3_10_IRRG.tif  \n",
            "  inflating: 3_Ortho_IRRG/3_Ortho_IRRG/top_potsdam_3_11_IRRG.tfw  \n",
            "  inflating: 3_Ortho_IRRG/3_Ortho_IRRG/top_potsdam_3_11_IRRG.tif  \n",
            "  inflating: 3_Ortho_IRRG/3_Ortho_IRRG/top_potsdam_3_12_IRRG.tfw  \n",
            "  inflating: 3_Ortho_IRRG/3_Ortho_IRRG/top_potsdam_3_12_IRRG.tif  \n",
            "  inflating: 3_Ortho_IRRG/3_Ortho_IRRG/top_potsdam_3_13_IRRG.tfw  \n",
            "  inflating: 3_Ortho_IRRG/3_Ortho_IRRG/top_potsdam_3_13_IRRG.tif  \n",
            "  inflating: 3_Ortho_IRRG/3_Ortho_IRRG/top_potsdam_3_14_IRRG.tfw  \n",
            "  inflating: 3_Ortho_IRRG/3_Ortho_IRRG/top_potsdam_3_14_IRRG.tif  \n",
            "  inflating: 3_Ortho_IRRG/3_Ortho_IRRG/top_potsdam_4_10_IRRG.tfw  \n",
            "  inflating: 3_Ortho_IRRG/3_Ortho_IRRG/top_potsdam_4_10_IRRG.tif  \n",
            "  inflating: 3_Ortho_IRRG/3_Ortho_IRRG/top_potsdam_4_11_IRRG.tfw  \n",
            "  inflating: 3_Ortho_IRRG/3_Ortho_IRRG/top_potsdam_4_11_IRRG.tif  \n",
            "  inflating: 3_Ortho_IRRG/3_Ortho_IRRG/top_potsdam_4_12_IRRG.tfw  \n",
            "  inflating: 3_Ortho_IRRG/3_Ortho_IRRG/top_potsdam_4_12_IRRG.tif  \n",
            "  inflating: 3_Ortho_IRRG/3_Ortho_IRRG/top_potsdam_4_13_IRRG.tfw  \n",
            "  inflating: 3_Ortho_IRRG/3_Ortho_IRRG/top_potsdam_4_13_IRRG.tif  \n",
            "  inflating: 3_Ortho_IRRG/3_Ortho_IRRG/top_potsdam_4_14_IRRG.tfw  \n",
            "  inflating: 3_Ortho_IRRG/3_Ortho_IRRG/top_potsdam_4_14_IRRG.tif  \n",
            "  inflating: 3_Ortho_IRRG/3_Ortho_IRRG/top_potsdam_4_15_IRRG.tfw  \n",
            "  inflating: 3_Ortho_IRRG/3_Ortho_IRRG/top_potsdam_4_15_IRRG.tif  \n",
            "  inflating: 3_Ortho_IRRG/3_Ortho_IRRG/top_potsdam_5_10_IRRG.tfw  \n",
            "  inflating: 3_Ortho_IRRG/3_Ortho_IRRG/top_potsdam_5_10_IRRG.tif  \n",
            "  inflating: 3_Ortho_IRRG/3_Ortho_IRRG/top_potsdam_5_11_IRRG.tfw  \n",
            "  inflating: 3_Ortho_IRRG/3_Ortho_IRRG/top_potsdam_5_11_IRRG.tif  \n",
            "  inflating: 3_Ortho_IRRG/3_Ortho_IRRG/top_potsdam_5_12_IRRG.tfw  \n",
            "  inflating: 3_Ortho_IRRG/3_Ortho_IRRG/top_potsdam_5_12_IRRG.tif  \n",
            "  inflating: 3_Ortho_IRRG/3_Ortho_IRRG/top_potsdam_5_13_IRRG.tfw  \n",
            "  inflating: 3_Ortho_IRRG/3_Ortho_IRRG/top_potsdam_5_13_IRRG.tif  \n",
            "  inflating: 3_Ortho_IRRG/3_Ortho_IRRG/top_potsdam_5_14_IRRG.tfw  \n",
            "  inflating: 3_Ortho_IRRG/3_Ortho_IRRG/top_potsdam_5_14_IRRG.tif  \n",
            "  inflating: 3_Ortho_IRRG/3_Ortho_IRRG/top_potsdam_5_15_IRRG.tfw  \n",
            "  inflating: 3_Ortho_IRRG/3_Ortho_IRRG/top_potsdam_5_15_IRRG.tif  \n",
            "  inflating: 3_Ortho_IRRG/3_Ortho_IRRG/top_potsdam_6_10_IRRG.tfw  \n",
            "  inflating: 3_Ortho_IRRG/3_Ortho_IRRG/top_potsdam_6_10_IRRG.tif  \n",
            "  inflating: 3_Ortho_IRRG/3_Ortho_IRRG/top_potsdam_6_11_IRRG.tfw  \n",
            "  inflating: 3_Ortho_IRRG/3_Ortho_IRRG/top_potsdam_6_11_IRRG.tif  \n",
            "  inflating: 3_Ortho_IRRG/3_Ortho_IRRG/top_potsdam_6_12_IRRG.tfw  \n",
            "  inflating: 3_Ortho_IRRG/3_Ortho_IRRG/top_potsdam_6_12_IRRG.tif  \n",
            "  inflating: 3_Ortho_IRRG/3_Ortho_IRRG/top_potsdam_6_13_IRRG.tfw  \n",
            "  inflating: 3_Ortho_IRRG/3_Ortho_IRRG/top_potsdam_6_13_IRRG.tif  \n",
            "  inflating: 3_Ortho_IRRG/3_Ortho_IRRG/top_potsdam_6_14_IRRG.tfw  \n",
            "  inflating: 3_Ortho_IRRG/3_Ortho_IRRG/top_potsdam_6_14_IRRG.tif  \n",
            "  inflating: 3_Ortho_IRRG/3_Ortho_IRRG/top_potsdam_6_15_IRRG.tfw  \n",
            "  inflating: 3_Ortho_IRRG/3_Ortho_IRRG/top_potsdam_6_15_IRRG.tif  \n",
            "  inflating: 3_Ortho_IRRG/3_Ortho_IRRG/top_potsdam_6_7_IRRG.tfw  \n",
            "  inflating: 3_Ortho_IRRG/3_Ortho_IRRG/top_potsdam_6_7_IRRG.tif  \n",
            "  inflating: 3_Ortho_IRRG/3_Ortho_IRRG/top_potsdam_6_8_IRRG.tfw  \n",
            "  inflating: 3_Ortho_IRRG/3_Ortho_IRRG/top_potsdam_6_8_IRRG.tif  \n",
            "  inflating: 3_Ortho_IRRG/3_Ortho_IRRG/top_potsdam_6_9_IRRG.tfw  \n",
            "  inflating: 3_Ortho_IRRG/3_Ortho_IRRG/top_potsdam_6_9_IRRG.tif  \n",
            "  inflating: 3_Ortho_IRRG/3_Ortho_IRRG/top_potsdam_7_10_IRRG.tfw  \n",
            "  inflating: 3_Ortho_IRRG/3_Ortho_IRRG/top_potsdam_7_10_IRRG.tif  \n",
            "  inflating: 3_Ortho_IRRG/3_Ortho_IRRG/top_potsdam_7_11_IRRG.tfw  \n",
            "  inflating: 3_Ortho_IRRG/3_Ortho_IRRG/top_potsdam_7_11_IRRG.tif  \n",
            "  inflating: 3_Ortho_IRRG/3_Ortho_IRRG/top_potsdam_7_12_IRRG.tfw  \n",
            "  inflating: 3_Ortho_IRRG/3_Ortho_IRRG/top_potsdam_7_12_IRRG.tif  \n",
            "  inflating: 3_Ortho_IRRG/3_Ortho_IRRG/top_potsdam_7_13_IRRG.tfw  \n",
            "  inflating: 3_Ortho_IRRG/3_Ortho_IRRG/top_potsdam_7_13_IRRG.tif  \n",
            "  inflating: 3_Ortho_IRRG/3_Ortho_IRRG/top_potsdam_7_7_IRRG.tfw  \n",
            "  inflating: 3_Ortho_IRRG/3_Ortho_IRRG/top_potsdam_7_7_IRRG.tif  \n",
            "  inflating: 3_Ortho_IRRG/3_Ortho_IRRG/top_potsdam_7_8_IRRG.tfw  \n",
            "  inflating: 3_Ortho_IRRG/3_Ortho_IRRG/top_potsdam_7_8_IRRG.tif  \n",
            "  inflating: 3_Ortho_IRRG/3_Ortho_IRRG/top_potsdam_7_9_IRRG.tfw  \n",
            "  inflating: 3_Ortho_IRRG/3_Ortho_IRRG/top_potsdam_7_9_IRRG.tif  \n",
            "  inflating: 3_ortho_irrg/3_Ortho_IRRG/top_potsdam_2_10_IRRG.tfw  \n",
            "  inflating: 3_ortho_irrg/3_Ortho_IRRG/top_potsdam_2_10_IRRG.tif  \n",
            "  inflating: 3_ortho_irrg/3_Ortho_IRRG/top_potsdam_2_11_IRRG.tfw  \n",
            "  inflating: 3_ortho_irrg/3_Ortho_IRRG/top_potsdam_2_11_IRRG.tif  \n",
            "  inflating: 3_ortho_irrg/3_Ortho_IRRG/top_potsdam_2_12_IRRG.tfw  \n",
            "  inflating: 3_ortho_irrg/3_Ortho_IRRG/top_potsdam_2_12_IRRG.tif  \n",
            "  inflating: 3_ortho_irrg/3_Ortho_IRRG/top_potsdam_2_13_IRRG.tfw  \n",
            "  inflating: 3_ortho_irrg/3_Ortho_IRRG/top_potsdam_2_13_IRRG.tif  \n",
            "  inflating: 3_ortho_irrg/3_Ortho_IRRG/top_potsdam_2_14_IRRG.tfw  \n",
            "  inflating: 3_ortho_irrg/3_Ortho_IRRG/top_potsdam_2_14_IRRG.tif  \n",
            "  inflating: 3_ortho_irrg/3_Ortho_IRRG/top_potsdam_3_10_IRRG.tfw  \n",
            "  inflating: 3_ortho_irrg/3_Ortho_IRRG/top_potsdam_3_10_IRRG.tif  \n",
            "  inflating: 3_ortho_irrg/3_Ortho_IRRG/top_potsdam_3_11_IRRG.tfw  \n",
            "  inflating: 3_ortho_irrg/3_Ortho_IRRG/top_potsdam_3_11_IRRG.tif  \n",
            "  inflating: 3_ortho_irrg/3_Ortho_IRRG/top_potsdam_3_12_IRRG.tfw  \n",
            "  inflating: 3_ortho_irrg/3_Ortho_IRRG/top_potsdam_3_12_IRRG.tif  \n",
            "  inflating: 3_ortho_irrg/3_Ortho_IRRG/top_potsdam_3_13_IRRG.tfw  \n",
            "  inflating: 3_ortho_irrg/3_Ortho_IRRG/top_potsdam_3_13_IRRG.tif  \n",
            "  inflating: 3_ortho_irrg/3_Ortho_IRRG/top_potsdam_3_14_IRRG.tfw  \n",
            "  inflating: 3_ortho_irrg/3_Ortho_IRRG/top_potsdam_3_14_IRRG.tif  \n",
            "  inflating: 3_ortho_irrg/3_Ortho_IRRG/top_potsdam_4_10_IRRG.tfw  \n",
            "  inflating: 3_ortho_irrg/3_Ortho_IRRG/top_potsdam_4_10_IRRG.tif  \n",
            "  inflating: 3_ortho_irrg/3_Ortho_IRRG/top_potsdam_4_11_IRRG.tfw  \n",
            "  inflating: 3_ortho_irrg/3_Ortho_IRRG/top_potsdam_4_11_IRRG.tif  \n",
            "  inflating: 3_ortho_irrg/3_Ortho_IRRG/top_potsdam_4_12_IRRG.tfw  \n",
            "  inflating: 3_ortho_irrg/3_Ortho_IRRG/top_potsdam_4_12_IRRG.tif  \n",
            "  inflating: 3_ortho_irrg/3_Ortho_IRRG/top_potsdam_4_13_IRRG.tfw  \n",
            "  inflating: 3_ortho_irrg/3_Ortho_IRRG/top_potsdam_4_13_IRRG.tif  \n",
            "  inflating: 3_ortho_irrg/3_Ortho_IRRG/top_potsdam_4_14_IRRG.tfw  \n",
            "  inflating: 3_ortho_irrg/3_Ortho_IRRG/top_potsdam_4_14_IRRG.tif  \n",
            "  inflating: 3_ortho_irrg/3_Ortho_IRRG/top_potsdam_4_15_IRRG.tfw  \n",
            "  inflating: 3_ortho_irrg/3_Ortho_IRRG/top_potsdam_4_15_IRRG.tif  \n",
            "  inflating: 3_ortho_irrg/3_Ortho_IRRG/top_potsdam_5_10_IRRG.tfw  \n",
            "  inflating: 3_ortho_irrg/3_Ortho_IRRG/top_potsdam_5_10_IRRG.tif  \n",
            "  inflating: 3_ortho_irrg/3_Ortho_IRRG/top_potsdam_5_11_IRRG.tfw  \n",
            "  inflating: 3_ortho_irrg/3_Ortho_IRRG/top_potsdam_5_11_IRRG.tif  \n",
            "  inflating: 3_ortho_irrg/3_Ortho_IRRG/top_potsdam_5_12_IRRG.tfw  \n",
            "  inflating: 3_ortho_irrg/3_Ortho_IRRG/top_potsdam_5_12_IRRG.tif  \n",
            "  inflating: 3_ortho_irrg/3_Ortho_IRRG/top_potsdam_5_13_IRRG.tfw  \n",
            "  inflating: 3_ortho_irrg/3_Ortho_IRRG/top_potsdam_5_13_IRRG.tif  \n",
            "  inflating: 3_ortho_irrg/3_Ortho_IRRG/top_potsdam_5_14_IRRG.tfw  \n",
            "  inflating: 3_ortho_irrg/3_Ortho_IRRG/top_potsdam_5_14_IRRG.tif  \n",
            "  inflating: 3_ortho_irrg/3_Ortho_IRRG/top_potsdam_5_15_IRRG.tfw  \n",
            "  inflating: 3_ortho_irrg/3_Ortho_IRRG/top_potsdam_5_15_IRRG.tif  \n",
            "  inflating: 3_ortho_irrg/3_Ortho_IRRG/top_potsdam_6_10_IRRG.tfw  \n",
            "  inflating: 3_ortho_irrg/3_Ortho_IRRG/top_potsdam_6_10_IRRG.tif  \n",
            "  inflating: 3_ortho_irrg/3_Ortho_IRRG/top_potsdam_6_11_IRRG.tfw  \n",
            "  inflating: 3_ortho_irrg/3_Ortho_IRRG/top_potsdam_6_11_IRRG.tif  \n",
            "  inflating: 3_ortho_irrg/3_Ortho_IRRG/top_potsdam_6_12_IRRG.tfw  \n",
            "  inflating: 3_ortho_irrg/3_Ortho_IRRG/top_potsdam_6_12_IRRG.tif  \n",
            "  inflating: 3_ortho_irrg/3_Ortho_IRRG/top_potsdam_6_13_IRRG.tfw  \n",
            "  inflating: 3_ortho_irrg/3_Ortho_IRRG/top_potsdam_6_13_IRRG.tif  \n",
            "  inflating: 3_ortho_irrg/3_Ortho_IRRG/top_potsdam_6_14_IRRG.tfw  \n",
            "  inflating: 3_ortho_irrg/3_Ortho_IRRG/top_potsdam_6_14_IRRG.tif  \n",
            "  inflating: 3_ortho_irrg/3_Ortho_IRRG/top_potsdam_6_15_IRRG.tfw  \n",
            "  inflating: 3_ortho_irrg/3_Ortho_IRRG/top_potsdam_6_15_IRRG.tif  \n",
            "  inflating: 3_ortho_irrg/3_Ortho_IRRG/top_potsdam_6_7_IRRG.tfw  \n",
            "  inflating: 3_ortho_irrg/3_Ortho_IRRG/top_potsdam_6_7_IRRG.tif  \n",
            "  inflating: 3_ortho_irrg/3_Ortho_IRRG/top_potsdam_6_8_IRRG.tfw  \n",
            "  inflating: 3_ortho_irrg/3_Ortho_IRRG/top_potsdam_6_8_IRRG.tif  \n",
            "  inflating: 3_ortho_irrg/3_Ortho_IRRG/top_potsdam_6_9_IRRG.tfw  \n",
            "  inflating: 3_ortho_irrg/3_Ortho_IRRG/top_potsdam_6_9_IRRG.tif  \n",
            "  inflating: 3_ortho_irrg/3_Ortho_IRRG/top_potsdam_7_10_IRRG.tfw  \n",
            "  inflating: 3_ortho_irrg/3_Ortho_IRRG/top_potsdam_7_10_IRRG.tif  \n",
            "  inflating: 3_ortho_irrg/3_Ortho_IRRG/top_potsdam_7_11_IRRG.tfw  \n",
            "  inflating: 3_ortho_irrg/3_Ortho_IRRG/top_potsdam_7_11_IRRG.tif  \n",
            "  inflating: 3_ortho_irrg/3_Ortho_IRRG/top_potsdam_7_12_IRRG.tfw  \n",
            "  inflating: 3_ortho_irrg/3_Ortho_IRRG/top_potsdam_7_12_IRRG.tif  \n",
            "  inflating: 3_ortho_irrg/3_Ortho_IRRG/top_potsdam_7_13_IRRG.tfw  \n",
            "  inflating: 3_ortho_irrg/3_Ortho_IRRG/top_potsdam_7_13_IRRG.tif  \n",
            "  inflating: 3_ortho_irrg/3_Ortho_IRRG/top_potsdam_7_7_IRRG.tfw  \n",
            "  inflating: 3_ortho_irrg/3_Ortho_IRRG/top_potsdam_7_7_IRRG.tif  \n",
            "  inflating: 3_ortho_irrg/3_Ortho_IRRG/top_potsdam_7_8_IRRG.tfw  \n",
            "  inflating: 3_ortho_irrg/3_Ortho_IRRG/top_potsdam_7_8_IRRG.tif  \n",
            "  inflating: 3_ortho_irrg/3_Ortho_IRRG/top_potsdam_7_9_IRRG.tfw  \n",
            "  inflating: 3_ortho_irrg/3_Ortho_IRRG/top_potsdam_7_9_IRRG.tif  \n",
            "  inflating: 5_Labels_for_participants/5_Labels_for_participants/top_potsdam_2_10_label.tfw  \n",
            "  inflating: 5_Labels_for_participants/5_Labels_for_participants/top_potsdam_2_10_label.tif  \n",
            "  inflating: 5_Labels_for_participants/5_Labels_for_participants/top_potsdam_2_11_label.tfw  \n",
            "  inflating: 5_Labels_for_participants/5_Labels_for_participants/top_potsdam_2_11_label.tif  \n",
            "  inflating: 5_Labels_for_participants/5_Labels_for_participants/top_potsdam_2_12_label.tfw  \n",
            "  inflating: 5_Labels_for_participants/5_Labels_for_participants/top_potsdam_2_12_label.tif  \n",
            "  inflating: 5_Labels_for_participants/5_Labels_for_participants/top_potsdam_3_10_label.tfw  \n",
            "  inflating: 5_Labels_for_participants/5_Labels_for_participants/top_potsdam_3_10_label.tif  \n",
            "  inflating: 5_Labels_for_participants/5_Labels_for_participants/top_potsdam_3_11_label.tfw  \n",
            "  inflating: 5_Labels_for_participants/5_Labels_for_participants/top_potsdam_3_11_label.tif  \n",
            "  inflating: 5_Labels_for_participants/5_Labels_for_participants/top_potsdam_3_12_label.tfw  \n",
            "  inflating: 5_Labels_for_participants/5_Labels_for_participants/top_potsdam_3_12_label.tif  \n",
            "  inflating: 5_Labels_for_participants/5_Labels_for_participants/top_potsdam_4_10_label.tfw  \n",
            "  inflating: 5_Labels_for_participants/5_Labels_for_participants/top_potsdam_4_10_label.tif  \n",
            "  inflating: 5_Labels_for_participants/5_Labels_for_participants/top_potsdam_4_11_label.tfw  \n",
            "  inflating: 5_Labels_for_participants/5_Labels_for_participants/top_potsdam_4_11_label.tif  \n",
            "  inflating: 5_Labels_for_participants/5_Labels_for_participants/top_potsdam_4_12_label.tfw  \n",
            "  inflating: 5_Labels_for_participants/5_Labels_for_participants/top_potsdam_4_12_label.tif  \n",
            "  inflating: 5_Labels_for_participants/5_Labels_for_participants/top_potsdam_5_10_label.tfw  \n",
            "  inflating: 5_Labels_for_participants/5_Labels_for_participants/top_potsdam_5_10_label.tif  \n",
            "  inflating: 5_Labels_for_participants/5_Labels_for_participants/top_potsdam_5_11_label.tfw  \n",
            "  inflating: 5_Labels_for_participants/5_Labels_for_participants/top_potsdam_5_11_label.tif  \n",
            "  inflating: 5_Labels_for_participants/5_Labels_for_participants/top_potsdam_5_12_label.tfw  \n",
            "  inflating: 5_Labels_for_participants/5_Labels_for_participants/top_potsdam_5_12_label.tif  \n",
            "  inflating: 5_Labels_for_participants/5_Labels_for_participants/top_potsdam_6_10_label.tfw  \n",
            "  inflating: 5_Labels_for_participants/5_Labels_for_participants/top_potsdam_6_10_label.tif  \n",
            "  inflating: 5_Labels_for_participants/5_Labels_for_participants/top_potsdam_6_11_label.tfw  \n",
            "  inflating: 5_Labels_for_participants/5_Labels_for_participants/top_potsdam_6_11_label.tif  \n",
            "  inflating: 5_Labels_for_participants/5_Labels_for_participants/top_potsdam_6_12_label.tfw  \n",
            "  inflating: 5_Labels_for_participants/5_Labels_for_participants/top_potsdam_6_12_label.tif  \n",
            "  inflating: 5_Labels_for_participants/5_Labels_for_participants/top_potsdam_6_7_label.tfw  \n",
            "  inflating: 5_Labels_for_participants/5_Labels_for_participants/top_potsdam_6_7_label.tif  \n",
            "  inflating: 5_Labels_for_participants/5_Labels_for_participants/top_potsdam_6_8_label.tfw  \n",
            "  inflating: 5_Labels_for_participants/5_Labels_for_participants/top_potsdam_6_8_label.tif  \n",
            "  inflating: 5_Labels_for_participants/5_Labels_for_participants/top_potsdam_6_9_label.tfw  \n",
            "  inflating: 5_Labels_for_participants/5_Labels_for_participants/top_potsdam_6_9_label.tif  \n",
            "  inflating: 5_Labels_for_participants/5_Labels_for_participants/top_potsdam_7_10_label.tfw  \n",
            "  inflating: 5_Labels_for_participants/5_Labels_for_participants/top_potsdam_7_10_label.tif  \n",
            "  inflating: 5_Labels_for_participants/5_Labels_for_participants/top_potsdam_7_11_label.tfw  \n",
            "  inflating: 5_Labels_for_participants/5_Labels_for_participants/top_potsdam_7_11_label.tif  \n",
            "  inflating: 5_Labels_for_participants/5_Labels_for_participants/top_potsdam_7_12_label.tfw  \n",
            "  inflating: 5_Labels_for_participants/5_Labels_for_participants/top_potsdam_7_12_label.tif  \n",
            "  inflating: 5_Labels_for_participants/5_Labels_for_participants/top_potsdam_7_7_label.tfw  \n",
            "  inflating: 5_Labels_for_participants/5_Labels_for_participants/top_potsdam_7_7_label.tif  \n",
            "  inflating: 5_Labels_for_participants/5_Labels_for_participants/top_potsdam_7_8_label.tfw  \n",
            "  inflating: 5_Labels_for_participants/5_Labels_for_participants/top_potsdam_7_8_label.tif  \n",
            "  inflating: 5_Labels_for_participants/5_Labels_for_participants/top_potsdam_7_9_label.tfw  \n",
            "  inflating: 5_Labels_for_participants/5_Labels_for_participants/top_potsdam_7_9_label.tif  \n",
            "  inflating: 5_Labels_for_participants_no_Boundary/5_Labels_for_participants_no_Boundary/top_potsdam_2_10_label_noBoundary.tif  \n",
            "  inflating: 5_Labels_for_participants_no_Boundary/5_Labels_for_participants_no_Boundary/top_potsdam_2_11_label_noBoundary.tif  \n",
            "  inflating: 5_Labels_for_participants_no_Boundary/5_Labels_for_participants_no_Boundary/top_potsdam_2_12_label_noBoundary.tif  \n",
            "  inflating: 5_Labels_for_participants_no_Boundary/5_Labels_for_participants_no_Boundary/top_potsdam_3_10_label_noBoundary.tif  \n",
            "  inflating: 5_Labels_for_participants_no_Boundary/5_Labels_for_participants_no_Boundary/top_potsdam_3_11_label_noBoundary.tif  \n",
            "  inflating: 5_Labels_for_participants_no_Boundary/5_Labels_for_participants_no_Boundary/top_potsdam_3_12_label_noBoundary.tif  \n",
            "  inflating: 5_Labels_for_participants_no_Boundary/5_Labels_for_participants_no_Boundary/top_potsdam_4_10_label_noBoundary.tif  \n",
            "  inflating: 5_Labels_for_participants_no_Boundary/5_Labels_for_participants_no_Boundary/top_potsdam_4_11_label_noBoundary.tif  \n",
            "  inflating: 5_Labels_for_participants_no_Boundary/5_Labels_for_participants_no_Boundary/top_potsdam_4_12_label_noBoundary.tif  \n",
            "  inflating: 5_Labels_for_participants_no_Boundary/5_Labels_for_participants_no_Boundary/top_potsdam_5_10_label_noBoundary.tif  \n",
            "  inflating: 5_Labels_for_participants_no_Boundary/5_Labels_for_participants_no_Boundary/top_potsdam_5_11_label_noBoundary.tif  \n",
            "  inflating: 5_Labels_for_participants_no_Boundary/5_Labels_for_participants_no_Boundary/top_potsdam_5_12_label_noBoundary.tif  \n",
            "  inflating: 5_Labels_for_participants_no_Boundary/5_Labels_for_participants_no_Boundary/top_potsdam_6_10_label_noBoundary.tif  \n",
            "  inflating: 5_Labels_for_participants_no_Boundary/5_Labels_for_participants_no_Boundary/top_potsdam_6_11_label_noBoundary.tif  \n",
            "  inflating: 5_Labels_for_participants_no_Boundary/5_Labels_for_participants_no_Boundary/top_potsdam_6_12_label_noBoundary.tif  \n",
            "  inflating: 5_Labels_for_participants_no_Boundary/5_Labels_for_participants_no_Boundary/top_potsdam_6_7_label_noBoundary.tif  \n",
            "  inflating: 5_Labels_for_participants_no_Boundary/5_Labels_for_participants_no_Boundary/top_potsdam_6_8_label_noBoundary.tif  \n",
            "  inflating: 5_Labels_for_participants_no_Boundary/5_Labels_for_participants_no_Boundary/top_potsdam_6_9_label_noBoundary.tif  \n",
            "  inflating: 5_Labels_for_participants_no_Boundary/5_Labels_for_participants_no_Boundary/top_potsdam_7_10_label_noBoundary.tif  \n",
            "  inflating: 5_Labels_for_participants_no_Boundary/5_Labels_for_participants_no_Boundary/top_potsdam_7_11_label_noBoundary.tif  \n",
            "  inflating: 5_Labels_for_participants_no_Boundary/5_Labels_for_participants_no_Boundary/top_potsdam_7_12_label_noBoundary.tif  \n",
            "  inflating: 5_Labels_for_participants_no_Boundary/5_Labels_for_participants_no_Boundary/top_potsdam_7_7_label_noBoundary.tif  \n",
            "  inflating: 5_Labels_for_participants_no_Boundary/5_Labels_for_participants_no_Boundary/top_potsdam_7_8_label_noBoundary.tif  \n",
            "  inflating: 5_Labels_for_participants_no_Boundary/5_Labels_for_participants_no_Boundary/top_potsdam_7_9_label_noBoundary.tif  \n",
            "  inflating: 5_labels_for_participants/5_Labels_for_participants/top_potsdam_2_10_label.tfw  \n",
            "  inflating: 5_labels_for_participants/5_Labels_for_participants/top_potsdam_2_10_label.tif  \n",
            "  inflating: 5_labels_for_participants/5_Labels_for_participants/top_potsdam_2_11_label.tfw  \n",
            "  inflating: 5_labels_for_participants/5_Labels_for_participants/top_potsdam_2_11_label.tif  \n",
            "  inflating: 5_labels_for_participants/5_Labels_for_participants/top_potsdam_2_12_label.tfw  \n",
            "  inflating: 5_labels_for_participants/5_Labels_for_participants/top_potsdam_2_12_label.tif  \n",
            "  inflating: 5_labels_for_participants/5_Labels_for_participants/top_potsdam_3_10_label.tfw  \n",
            "  inflating: 5_labels_for_participants/5_Labels_for_participants/top_potsdam_3_10_label.tif  \n",
            "  inflating: 5_labels_for_participants/5_Labels_for_participants/top_potsdam_3_11_label.tfw  \n",
            "  inflating: 5_labels_for_participants/5_Labels_for_participants/top_potsdam_3_11_label.tif  \n",
            "  inflating: 5_labels_for_participants/5_Labels_for_participants/top_potsdam_3_12_label.tfw  \n",
            "  inflating: 5_labels_for_participants/5_Labels_for_participants/top_potsdam_3_12_label.tif  \n",
            "  inflating: 5_labels_for_participants/5_Labels_for_participants/top_potsdam_4_10_label.tfw  \n",
            "  inflating: 5_labels_for_participants/5_Labels_for_participants/top_potsdam_4_10_label.tif  \n",
            "  inflating: 5_labels_for_participants/5_Labels_for_participants/top_potsdam_4_11_label.tfw  \n",
            "  inflating: 5_labels_for_participants/5_Labels_for_participants/top_potsdam_4_11_label.tif  \n",
            "  inflating: 5_labels_for_participants/5_Labels_for_participants/top_potsdam_4_12_label.tfw  \n",
            "  inflating: 5_labels_for_participants/5_Labels_for_participants/top_potsdam_4_12_label.tif  \n",
            "  inflating: 5_labels_for_participants/5_Labels_for_participants/top_potsdam_5_10_label.tfw  \n",
            "  inflating: 5_labels_for_participants/5_Labels_for_participants/top_potsdam_5_10_label.tif  \n",
            "  inflating: 5_labels_for_participants/5_Labels_for_participants/top_potsdam_5_11_label.tfw  \n",
            "  inflating: 5_labels_for_participants/5_Labels_for_participants/top_potsdam_5_11_label.tif  \n",
            "  inflating: 5_labels_for_participants/5_Labels_for_participants/top_potsdam_5_12_label.tfw  \n",
            "  inflating: 5_labels_for_participants/5_Labels_for_participants/top_potsdam_5_12_label.tif  \n",
            "  inflating: 5_labels_for_participants/5_Labels_for_participants/top_potsdam_6_10_label.tfw  \n",
            "  inflating: 5_labels_for_participants/5_Labels_for_participants/top_potsdam_6_10_label.tif  \n",
            "  inflating: 5_labels_for_participants/5_Labels_for_participants/top_potsdam_6_11_label.tfw  \n",
            "  inflating: 5_labels_for_participants/5_Labels_for_participants/top_potsdam_6_11_label.tif  \n",
            "  inflating: 5_labels_for_participants/5_Labels_for_participants/top_potsdam_6_12_label.tfw  \n",
            "  inflating: 5_labels_for_participants/5_Labels_for_participants/top_potsdam_6_12_label.tif  \n",
            "  inflating: 5_labels_for_participants/5_Labels_for_participants/top_potsdam_6_7_label.tfw  \n",
            "  inflating: 5_labels_for_participants/5_Labels_for_participants/top_potsdam_6_7_label.tif  \n",
            "  inflating: 5_labels_for_participants/5_Labels_for_participants/top_potsdam_6_8_label.tfw  \n",
            "  inflating: 5_labels_for_participants/5_Labels_for_participants/top_potsdam_6_8_label.tif  \n",
            "  inflating: 5_labels_for_participants/5_Labels_for_participants/top_potsdam_6_9_label.tfw  \n",
            "  inflating: 5_labels_for_participants/5_Labels_for_participants/top_potsdam_6_9_label.tif  \n",
            "  inflating: 5_labels_for_participants/5_Labels_for_participants/top_potsdam_7_10_label.tfw  \n",
            "  inflating: 5_labels_for_participants/5_Labels_for_participants/top_potsdam_7_10_label.tif  \n",
            "  inflating: 5_labels_for_participants/5_Labels_for_participants/top_potsdam_7_11_label.tfw  \n",
            "  inflating: 5_labels_for_participants/5_Labels_for_participants/top_potsdam_7_11_label.tif  \n",
            "  inflating: 5_labels_for_participants/5_Labels_for_participants/top_potsdam_7_12_label.tfw  \n",
            "  inflating: 5_labels_for_participants/5_Labels_for_participants/top_potsdam_7_12_label.tif  \n",
            "  inflating: 5_labels_for_participants/5_Labels_for_participants/top_potsdam_7_7_label.tfw  \n",
            "  inflating: 5_labels_for_participants/5_Labels_for_participants/top_potsdam_7_7_label.tif  \n",
            "  inflating: 5_labels_for_participants/5_Labels_for_participants/top_potsdam_7_8_label.tfw  \n",
            "  inflating: 5_labels_for_participants/5_Labels_for_participants/top_potsdam_7_8_label.tif  \n",
            "  inflating: 5_labels_for_participants/5_Labels_for_participants/top_potsdam_7_9_label.tfw  \n",
            "  inflating: 5_labels_for_participants/5_Labels_for_participants/top_potsdam_7_9_label.tif  \n",
            "  inflating: 5_labels_for_participants_no_boundary/5_Labels_for_participants_no_Boundary/top_potsdam_2_10_label_noBoundary.tif  \n",
            "  inflating: 5_labels_for_participants_no_boundary/5_Labels_for_participants_no_Boundary/top_potsdam_2_11_label_noBoundary.tif  \n",
            "  inflating: 5_labels_for_participants_no_boundary/5_Labels_for_participants_no_Boundary/top_potsdam_2_12_label_noBoundary.tif  \n",
            "  inflating: 5_labels_for_participants_no_boundary/5_Labels_for_participants_no_Boundary/top_potsdam_3_10_label_noBoundary.tif  \n",
            "  inflating: 5_labels_for_participants_no_boundary/5_Labels_for_participants_no_Boundary/top_potsdam_3_11_label_noBoundary.tif  \n",
            "  inflating: 5_labels_for_participants_no_boundary/5_Labels_for_participants_no_Boundary/top_potsdam_3_12_label_noBoundary.tif  \n",
            "  inflating: 5_labels_for_participants_no_boundary/5_Labels_for_participants_no_Boundary/top_potsdam_4_10_label_noBoundary.tif  \n",
            "  inflating: 5_labels_for_participants_no_boundary/5_Labels_for_participants_no_Boundary/top_potsdam_4_11_label_noBoundary.tif  \n",
            "  inflating: 5_labels_for_participants_no_boundary/5_Labels_for_participants_no_Boundary/top_potsdam_4_12_label_noBoundary.tif  \n",
            "  inflating: 5_labels_for_participants_no_boundary/5_Labels_for_participants_no_Boundary/top_potsdam_5_10_label_noBoundary.tif  \n",
            "  inflating: 5_labels_for_participants_no_boundary/5_Labels_for_participants_no_Boundary/top_potsdam_5_11_label_noBoundary.tif  \n",
            "  inflating: 5_labels_for_participants_no_boundary/5_Labels_for_participants_no_Boundary/top_potsdam_5_12_label_noBoundary.tif  \n",
            "  inflating: 5_labels_for_participants_no_boundary/5_Labels_for_participants_no_Boundary/top_potsdam_6_10_label_noBoundary.tif  \n",
            "  inflating: 5_labels_for_participants_no_boundary/5_Labels_for_participants_no_Boundary/top_potsdam_6_11_label_noBoundary.tif  \n",
            "  inflating: 5_labels_for_participants_no_boundary/5_Labels_for_participants_no_Boundary/top_potsdam_6_12_label_noBoundary.tif  \n",
            "  inflating: 5_labels_for_participants_no_boundary/5_Labels_for_participants_no_Boundary/top_potsdam_6_7_label_noBoundary.tif  \n",
            "  inflating: 5_labels_for_participants_no_boundary/5_Labels_for_participants_no_Boundary/top_potsdam_6_8_label_noBoundary.tif  \n",
            "  inflating: 5_labels_for_participants_no_boundary/5_Labels_for_participants_no_Boundary/top_potsdam_6_9_label_noBoundary.tif  \n",
            "  inflating: 5_labels_for_participants_no_boundary/5_Labels_for_participants_no_Boundary/top_potsdam_7_10_label_noBoundary.tif  \n",
            "  inflating: 5_labels_for_participants_no_boundary/5_Labels_for_participants_no_Boundary/top_potsdam_7_11_label_noBoundary.tif  \n",
            "  inflating: 5_labels_for_participants_no_boundary/5_Labels_for_participants_no_Boundary/top_potsdam_7_12_label_noBoundary.tif  \n",
            "  inflating: 5_labels_for_participants_no_boundary/5_Labels_for_participants_no_Boundary/top_potsdam_7_7_label_noBoundary.tif  \n",
            "  inflating: 5_labels_for_participants_no_boundary/5_Labels_for_participants_no_Boundary/top_potsdam_7_8_label_noBoundary.tif  \n",
            "  inflating: 5_labels_for_participants_no_boundary/5_Labels_for_participants_no_Boundary/top_potsdam_7_9_label_noBoundary.tif  \n",
            "  inflating: ISPRS_semantic_labeling_Vaihingen/dsm/dsm_09cm_matching_area1.tif  \n",
            "  inflating: ISPRS_semantic_labeling_Vaihingen/dsm/dsm_09cm_matching_area10.tif  \n",
            "  inflating: ISPRS_semantic_labeling_Vaihingen/dsm/dsm_09cm_matching_area11.tif  \n",
            "  inflating: ISPRS_semantic_labeling_Vaihingen/dsm/dsm_09cm_matching_area12.tif  \n",
            "  inflating: ISPRS_semantic_labeling_Vaihingen/dsm/dsm_09cm_matching_area13.tif  \n",
            "  inflating: ISPRS_semantic_labeling_Vaihingen/dsm/dsm_09cm_matching_area14.tif  \n",
            "  inflating: ISPRS_semantic_labeling_Vaihingen/dsm/dsm_09cm_matching_area15.tif  \n",
            "  inflating: ISPRS_semantic_labeling_Vaihingen/dsm/dsm_09cm_matching_area16.tif  \n",
            "  inflating: ISPRS_semantic_labeling_Vaihingen/dsm/dsm_09cm_matching_area17.tif  \n",
            "  inflating: ISPRS_semantic_labeling_Vaihingen/dsm/dsm_09cm_matching_area2.tif  \n",
            "  inflating: ISPRS_semantic_labeling_Vaihingen/dsm/dsm_09cm_matching_area20.tif  \n",
            "  inflating: ISPRS_semantic_labeling_Vaihingen/dsm/dsm_09cm_matching_area21.tif  \n",
            "  inflating: ISPRS_semantic_labeling_Vaihingen/dsm/dsm_09cm_matching_area22.tif  \n",
            "  inflating: ISPRS_semantic_labeling_Vaihingen/dsm/dsm_09cm_matching_area23.tif  \n",
            "  inflating: ISPRS_semantic_labeling_Vaihingen/dsm/dsm_09cm_matching_area24.tif  \n",
            "  inflating: ISPRS_semantic_labeling_Vaihingen/dsm/dsm_09cm_matching_area26.tif  \n",
            "  inflating: ISPRS_semantic_labeling_Vaihingen/dsm/dsm_09cm_matching_area27.tif  \n",
            "  inflating: ISPRS_semantic_labeling_Vaihingen/dsm/dsm_09cm_matching_area28.tif  \n",
            "  inflating: ISPRS_semantic_labeling_Vaihingen/dsm/dsm_09cm_matching_area29.tif  \n",
            "  inflating: ISPRS_semantic_labeling_Vaihingen/dsm/dsm_09cm_matching_area3.tif  \n",
            "  inflating: ISPRS_semantic_labeling_Vaihingen/dsm/dsm_09cm_matching_area30.tif  \n",
            "  inflating: ISPRS_semantic_labeling_Vaihingen/dsm/dsm_09cm_matching_area31.tif  \n",
            "  inflating: ISPRS_semantic_labeling_Vaihingen/dsm/dsm_09cm_matching_area32.tif  \n",
            "  inflating: ISPRS_semantic_labeling_Vaihingen/dsm/dsm_09cm_matching_area33.tif  \n",
            "  inflating: ISPRS_semantic_labeling_Vaihingen/dsm/dsm_09cm_matching_area34.tif  \n",
            "  inflating: ISPRS_semantic_labeling_Vaihingen/dsm/dsm_09cm_matching_area35.tif  \n",
            "  inflating: ISPRS_semantic_labeling_Vaihingen/dsm/dsm_09cm_matching_area37.tif  \n",
            "  inflating: ISPRS_semantic_labeling_Vaihingen/dsm/dsm_09cm_matching_area38.tif  \n",
            "  inflating: ISPRS_semantic_labeling_Vaihingen/dsm/dsm_09cm_matching_area4.tif  \n",
            "  inflating: ISPRS_semantic_labeling_Vaihingen/dsm/dsm_09cm_matching_area5.tif  \n",
            "  inflating: ISPRS_semantic_labeling_Vaihingen/dsm/dsm_09cm_matching_area6.tif  \n",
            "  inflating: ISPRS_semantic_labeling_Vaihingen/dsm/dsm_09cm_matching_area7.tif  \n",
            "  inflating: ISPRS_semantic_labeling_Vaihingen/dsm/dsm_09cm_matching_area8.tif  \n",
            "  inflating: ISPRS_semantic_labeling_Vaihingen/gts_for_participants/top_mosaic_09cm_area1.tif  \n",
            "  inflating: ISPRS_semantic_labeling_Vaihingen/gts_for_participants/top_mosaic_09cm_area11.tif  \n",
            "  inflating: ISPRS_semantic_labeling_Vaihingen/gts_for_participants/top_mosaic_09cm_area13.tif  \n",
            "  inflating: ISPRS_semantic_labeling_Vaihingen/gts_for_participants/top_mosaic_09cm_area15.tif  \n",
            "  inflating: ISPRS_semantic_labeling_Vaihingen/gts_for_participants/top_mosaic_09cm_area17.tif  \n",
            "  inflating: ISPRS_semantic_labeling_Vaihingen/gts_for_participants/top_mosaic_09cm_area21.tif  \n",
            "  inflating: ISPRS_semantic_labeling_Vaihingen/gts_for_participants/top_mosaic_09cm_area23.tif  \n",
            "  inflating: ISPRS_semantic_labeling_Vaihingen/gts_for_participants/top_mosaic_09cm_area26.tif  \n",
            "  inflating: ISPRS_semantic_labeling_Vaihingen/gts_for_participants/top_mosaic_09cm_area28.tif  \n",
            "  inflating: ISPRS_semantic_labeling_Vaihingen/gts_for_participants/top_mosaic_09cm_area3.tif  \n",
            "  inflating: ISPRS_semantic_labeling_Vaihingen/gts_for_participants/top_mosaic_09cm_area30.tif  \n",
            "  inflating: ISPRS_semantic_labeling_Vaihingen/gts_for_participants/top_mosaic_09cm_area32.tif  \n",
            "  inflating: ISPRS_semantic_labeling_Vaihingen/gts_for_participants/top_mosaic_09cm_area34.tif  \n",
            "  inflating: ISPRS_semantic_labeling_Vaihingen/gts_for_participants/top_mosaic_09cm_area37.tif  \n",
            "  inflating: ISPRS_semantic_labeling_Vaihingen/gts_for_participants/top_mosaic_09cm_area5.tif  \n",
            "  inflating: ISPRS_semantic_labeling_Vaihingen/gts_for_participants/top_mosaic_09cm_area7.tif  \n",
            "  inflating: ISPRS_semantic_labeling_Vaihingen/top/top_mosaic_09cm_area1.tif  \n",
            "  inflating: ISPRS_semantic_labeling_Vaihingen/top/top_mosaic_09cm_area10.tif  \n",
            "  inflating: ISPRS_semantic_labeling_Vaihingen/top/top_mosaic_09cm_area11.tif  \n",
            "  inflating: ISPRS_semantic_labeling_Vaihingen/top/top_mosaic_09cm_area12.tif  \n",
            "  inflating: ISPRS_semantic_labeling_Vaihingen/top/top_mosaic_09cm_area13.tif  \n",
            "  inflating: ISPRS_semantic_labeling_Vaihingen/top/top_mosaic_09cm_area14.tif  \n",
            "  inflating: ISPRS_semantic_labeling_Vaihingen/top/top_mosaic_09cm_area15.tif  \n",
            "  inflating: ISPRS_semantic_labeling_Vaihingen/top/top_mosaic_09cm_area16.tif  \n",
            "  inflating: ISPRS_semantic_labeling_Vaihingen/top/top_mosaic_09cm_area17.tif  \n",
            "  inflating: ISPRS_semantic_labeling_Vaihingen/top/top_mosaic_09cm_area2.tif  \n",
            "  inflating: ISPRS_semantic_labeling_Vaihingen/top/top_mosaic_09cm_area20.tif  \n",
            "  inflating: ISPRS_semantic_labeling_Vaihingen/top/top_mosaic_09cm_area21.tif  \n",
            "  inflating: ISPRS_semantic_labeling_Vaihingen/top/top_mosaic_09cm_area22.tif  \n",
            "  inflating: ISPRS_semantic_labeling_Vaihingen/top/top_mosaic_09cm_area23.tif  \n",
            "  inflating: ISPRS_semantic_labeling_Vaihingen/top/top_mosaic_09cm_area24.tif  \n",
            "  inflating: ISPRS_semantic_labeling_Vaihingen/top/top_mosaic_09cm_area26.tif  \n",
            "  inflating: ISPRS_semantic_labeling_Vaihingen/top/top_mosaic_09cm_area27.tif  \n",
            "  inflating: ISPRS_semantic_labeling_Vaihingen/top/top_mosaic_09cm_area28.tif  \n",
            "  inflating: ISPRS_semantic_labeling_Vaihingen/top/top_mosaic_09cm_area29.tif  \n",
            "  inflating: ISPRS_semantic_labeling_Vaihingen/top/top_mosaic_09cm_area3.tif  \n",
            "  inflating: ISPRS_semantic_labeling_Vaihingen/top/top_mosaic_09cm_area30.tif  \n",
            "  inflating: ISPRS_semantic_labeling_Vaihingen/top/top_mosaic_09cm_area31.tif  \n",
            "  inflating: ISPRS_semantic_labeling_Vaihingen/top/top_mosaic_09cm_area32.tif  \n",
            "  inflating: ISPRS_semantic_labeling_Vaihingen/top/top_mosaic_09cm_area33.tif  \n",
            "  inflating: ISPRS_semantic_labeling_Vaihingen/top/top_mosaic_09cm_area34.tif  \n",
            "  inflating: ISPRS_semantic_labeling_Vaihingen/top/top_mosaic_09cm_area35.tif  \n",
            "  inflating: ISPRS_semantic_labeling_Vaihingen/top/top_mosaic_09cm_area37.tif  \n",
            "  inflating: ISPRS_semantic_labeling_Vaihingen/top/top_mosaic_09cm_area38.tif  \n",
            "  inflating: ISPRS_semantic_labeling_Vaihingen/top/top_mosaic_09cm_area4.tif  \n",
            "  inflating: ISPRS_semantic_labeling_Vaihingen/top/top_mosaic_09cm_area5.tif  \n",
            "  inflating: ISPRS_semantic_labeling_Vaihingen/top/top_mosaic_09cm_area6.tif  \n",
            "  inflating: ISPRS_semantic_labeling_Vaihingen/top/top_mosaic_09cm_area7.tif  \n",
            "  inflating: ISPRS_semantic_labeling_Vaihingen/top/top_mosaic_09cm_area8.tif  \n",
            "  inflating: isprs_semantic_labeling_vaihingen/dsm/dsm_09cm_matching_area1.tif  \n",
            "  inflating: isprs_semantic_labeling_vaihingen/dsm/dsm_09cm_matching_area10.tif  \n",
            "  inflating: isprs_semantic_labeling_vaihingen/dsm/dsm_09cm_matching_area11.tif  \n",
            "  inflating: isprs_semantic_labeling_vaihingen/dsm/dsm_09cm_matching_area12.tif  \n",
            "  inflating: isprs_semantic_labeling_vaihingen/dsm/dsm_09cm_matching_area13.tif  \n",
            "  inflating: isprs_semantic_labeling_vaihingen/dsm/dsm_09cm_matching_area14.tif  \n",
            "  inflating: isprs_semantic_labeling_vaihingen/dsm/dsm_09cm_matching_area15.tif  \n",
            "  inflating: isprs_semantic_labeling_vaihingen/dsm/dsm_09cm_matching_area16.tif  \n",
            "  inflating: isprs_semantic_labeling_vaihingen/dsm/dsm_09cm_matching_area17.tif  \n",
            "  inflating: isprs_semantic_labeling_vaihingen/dsm/dsm_09cm_matching_area2.tif  \n",
            "  inflating: isprs_semantic_labeling_vaihingen/dsm/dsm_09cm_matching_area20.tif  \n",
            "  inflating: isprs_semantic_labeling_vaihingen/dsm/dsm_09cm_matching_area21.tif  \n",
            "  inflating: isprs_semantic_labeling_vaihingen/dsm/dsm_09cm_matching_area22.tif  \n",
            "  inflating: isprs_semantic_labeling_vaihingen/dsm/dsm_09cm_matching_area23.tif  \n",
            "  inflating: isprs_semantic_labeling_vaihingen/dsm/dsm_09cm_matching_area24.tif  \n",
            "  inflating: isprs_semantic_labeling_vaihingen/dsm/dsm_09cm_matching_area26.tif  \n",
            "  inflating: isprs_semantic_labeling_vaihingen/dsm/dsm_09cm_matching_area27.tif  \n",
            "  inflating: isprs_semantic_labeling_vaihingen/dsm/dsm_09cm_matching_area28.tif  \n",
            "  inflating: isprs_semantic_labeling_vaihingen/dsm/dsm_09cm_matching_area29.tif  \n",
            "  inflating: isprs_semantic_labeling_vaihingen/dsm/dsm_09cm_matching_area3.tif  \n",
            "  inflating: isprs_semantic_labeling_vaihingen/dsm/dsm_09cm_matching_area30.tif  \n",
            "  inflating: isprs_semantic_labeling_vaihingen/dsm/dsm_09cm_matching_area31.tif  \n",
            "  inflating: isprs_semantic_labeling_vaihingen/dsm/dsm_09cm_matching_area32.tif  \n",
            "  inflating: isprs_semantic_labeling_vaihingen/dsm/dsm_09cm_matching_area33.tif  \n",
            "  inflating: isprs_semantic_labeling_vaihingen/dsm/dsm_09cm_matching_area34.tif  \n",
            "  inflating: isprs_semantic_labeling_vaihingen/dsm/dsm_09cm_matching_area35.tif  \n",
            "  inflating: isprs_semantic_labeling_vaihingen/dsm/dsm_09cm_matching_area37.tif  \n",
            "  inflating: isprs_semantic_labeling_vaihingen/dsm/dsm_09cm_matching_area38.tif  \n",
            "  inflating: isprs_semantic_labeling_vaihingen/dsm/dsm_09cm_matching_area4.tif  \n",
            "  inflating: isprs_semantic_labeling_vaihingen/dsm/dsm_09cm_matching_area5.tif  \n",
            "  inflating: isprs_semantic_labeling_vaihingen/dsm/dsm_09cm_matching_area6.tif  \n",
            "  inflating: isprs_semantic_labeling_vaihingen/dsm/dsm_09cm_matching_area7.tif  \n",
            "  inflating: isprs_semantic_labeling_vaihingen/dsm/dsm_09cm_matching_area8.tif  \n",
            "  inflating: isprs_semantic_labeling_vaihingen/gts_for_participants/top_mosaic_09cm_area1.tif  \n",
            "  inflating: isprs_semantic_labeling_vaihingen/gts_for_participants/top_mosaic_09cm_area11.tif  \n",
            "  inflating: isprs_semantic_labeling_vaihingen/gts_for_participants/top_mosaic_09cm_area13.tif  \n",
            "  inflating: isprs_semantic_labeling_vaihingen/gts_for_participants/top_mosaic_09cm_area15.tif  \n",
            "  inflating: isprs_semantic_labeling_vaihingen/gts_for_participants/top_mosaic_09cm_area17.tif  \n",
            "  inflating: isprs_semantic_labeling_vaihingen/gts_for_participants/top_mosaic_09cm_area21.tif  \n",
            "  inflating: isprs_semantic_labeling_vaihingen/gts_for_participants/top_mosaic_09cm_area23.tif  \n",
            "  inflating: isprs_semantic_labeling_vaihingen/gts_for_participants/top_mosaic_09cm_area26.tif  \n",
            "  inflating: isprs_semantic_labeling_vaihingen/gts_for_participants/top_mosaic_09cm_area28.tif  \n",
            "  inflating: isprs_semantic_labeling_vaihingen/gts_for_participants/top_mosaic_09cm_area3.tif  \n",
            "  inflating: isprs_semantic_labeling_vaihingen/gts_for_participants/top_mosaic_09cm_area30.tif  \n",
            "  inflating: isprs_semantic_labeling_vaihingen/gts_for_participants/top_mosaic_09cm_area32.tif  \n",
            "  inflating: isprs_semantic_labeling_vaihingen/gts_for_participants/top_mosaic_09cm_area34.tif  \n",
            "  inflating: isprs_semantic_labeling_vaihingen/gts_for_participants/top_mosaic_09cm_area37.tif  \n",
            "  inflating: isprs_semantic_labeling_vaihingen/gts_for_participants/top_mosaic_09cm_area5.tif  \n",
            "  inflating: isprs_semantic_labeling_vaihingen/gts_for_participants/top_mosaic_09cm_area7.tif  \n",
            "  inflating: isprs_semantic_labeling_vaihingen/top/top_mosaic_09cm_area1.tif  \n",
            "  inflating: isprs_semantic_labeling_vaihingen/top/top_mosaic_09cm_area10.tif  \n",
            "  inflating: isprs_semantic_labeling_vaihingen/top/top_mosaic_09cm_area11.tif  \n",
            "  inflating: isprs_semantic_labeling_vaihingen/top/top_mosaic_09cm_area12.tif  \n",
            "  inflating: isprs_semantic_labeling_vaihingen/top/top_mosaic_09cm_area13.tif  \n",
            "  inflating: isprs_semantic_labeling_vaihingen/top/top_mosaic_09cm_area14.tif  \n",
            "  inflating: isprs_semantic_labeling_vaihingen/top/top_mosaic_09cm_area15.tif  \n",
            "  inflating: isprs_semantic_labeling_vaihingen/top/top_mosaic_09cm_area16.tif  \n",
            "  inflating: isprs_semantic_labeling_vaihingen/top/top_mosaic_09cm_area17.tif  \n",
            "  inflating: isprs_semantic_labeling_vaihingen/top/top_mosaic_09cm_area2.tif  \n",
            "  inflating: isprs_semantic_labeling_vaihingen/top/top_mosaic_09cm_area20.tif  \n",
            "  inflating: isprs_semantic_labeling_vaihingen/top/top_mosaic_09cm_area21.tif  \n",
            "  inflating: isprs_semantic_labeling_vaihingen/top/top_mosaic_09cm_area22.tif  \n",
            "  inflating: isprs_semantic_labeling_vaihingen/top/top_mosaic_09cm_area23.tif  \n",
            "  inflating: isprs_semantic_labeling_vaihingen/top/top_mosaic_09cm_area24.tif  \n",
            "  inflating: isprs_semantic_labeling_vaihingen/top/top_mosaic_09cm_area26.tif  \n",
            "  inflating: isprs_semantic_labeling_vaihingen/top/top_mosaic_09cm_area27.tif  \n",
            "  inflating: isprs_semantic_labeling_vaihingen/top/top_mosaic_09cm_area28.tif  \n",
            "  inflating: isprs_semantic_labeling_vaihingen/top/top_mosaic_09cm_area29.tif  \n",
            "  inflating: isprs_semantic_labeling_vaihingen/top/top_mosaic_09cm_area3.tif  \n",
            "  inflating: isprs_semantic_labeling_vaihingen/top/top_mosaic_09cm_area30.tif  \n",
            "  inflating: isprs_semantic_labeling_vaihingen/top/top_mosaic_09cm_area31.tif  \n",
            "  inflating: isprs_semantic_labeling_vaihingen/top/top_mosaic_09cm_area32.tif  \n",
            "  inflating: isprs_semantic_labeling_vaihingen/top/top_mosaic_09cm_area33.tif  \n",
            "  inflating: isprs_semantic_labeling_vaihingen/top/top_mosaic_09cm_area34.tif  \n",
            "  inflating: isprs_semantic_labeling_vaihingen/top/top_mosaic_09cm_area35.tif  \n",
            "  inflating: isprs_semantic_labeling_vaihingen/top/top_mosaic_09cm_area37.tif  \n",
            "  inflating: isprs_semantic_labeling_vaihingen/top/top_mosaic_09cm_area38.tif  \n",
            "  inflating: isprs_semantic_labeling_vaihingen/top/top_mosaic_09cm_area4.tif  \n",
            "  inflating: isprs_semantic_labeling_vaihingen/top/top_mosaic_09cm_area5.tif  \n",
            "  inflating: isprs_semantic_labeling_vaihingen/top/top_mosaic_09cm_area6.tif  \n",
            "  inflating: isprs_semantic_labeling_vaihingen/top/top_mosaic_09cm_area7.tif  \n",
            "  inflating: isprs_semantic_labeling_vaihingen/top/top_mosaic_09cm_area8.tif  \n"
          ]
        }
      ]
    },
    {
      "cell_type": "code",
      "metadata": {
        "colab": {
          "base_uri": "https://localhost:8080/"
        },
        "id": "AVG7rTDglIHG",
        "outputId": "ed72f5b3-fc24-4ac1-f523-ba081e9dc94d"
      },
      "source": [
        "%cd .."
      ],
      "execution_count": null,
      "outputs": [
        {
          "output_type": "stream",
          "name": "stdout",
          "text": [
            "/content\n"
          ]
        }
      ]
    },
    {
      "cell_type": "code",
      "metadata": {
        "colab": {
          "base_uri": "https://localhost:8080/"
        },
        "id": "XoXEUVUaE3EU",
        "outputId": "c48e3748-a7a2-44e4-bf25-edfc0c821d50"
      },
      "source": [
        "!pip install rasterio"
      ],
      "execution_count": null,
      "outputs": [
        {
          "output_type": "stream",
          "name": "stdout",
          "text": [
            "Collecting rasterio\n",
            "  Downloading rasterio-1.3.10-cp310-cp310-manylinux2014_x86_64.whl (21.5 MB)\n",
            "\u001b[2K     \u001b[90m━━━━━━━━━━━━━━━━━━━━━━━━━━━━━━━━━━━━━━━━\u001b[0m \u001b[32m21.5/21.5 MB\u001b[0m \u001b[31m63.6 MB/s\u001b[0m eta \u001b[36m0:00:00\u001b[0m\n",
            "\u001b[?25hCollecting affine (from rasterio)\n",
            "  Downloading affine-2.4.0-py3-none-any.whl (15 kB)\n",
            "Requirement already satisfied: attrs in /usr/local/lib/python3.10/dist-packages (from rasterio) (23.2.0)\n",
            "Requirement already satisfied: certifi in /usr/local/lib/python3.10/dist-packages (from rasterio) (2024.2.2)\n",
            "Requirement already satisfied: click>=4.0 in /usr/local/lib/python3.10/dist-packages (from rasterio) (8.1.7)\n",
            "Requirement already satisfied: cligj>=0.5 in /usr/local/lib/python3.10/dist-packages (from rasterio) (0.7.2)\n",
            "Requirement already satisfied: numpy in /usr/local/lib/python3.10/dist-packages (from rasterio) (1.25.2)\n",
            "Collecting snuggs>=1.4.1 (from rasterio)\n",
            "  Downloading snuggs-1.4.7-py3-none-any.whl (5.4 kB)\n",
            "Requirement already satisfied: click-plugins in /usr/local/lib/python3.10/dist-packages (from rasterio) (1.1.1)\n",
            "Requirement already satisfied: setuptools in /usr/local/lib/python3.10/dist-packages (from rasterio) (67.7.2)\n",
            "Requirement already satisfied: pyparsing>=2.1.6 in /usr/local/lib/python3.10/dist-packages (from snuggs>=1.4.1->rasterio) (3.1.2)\n",
            "Installing collected packages: snuggs, affine, rasterio\n",
            "Successfully installed affine-2.4.0 rasterio-1.3.10 snuggs-1.4.7\n"
          ]
        }
      ]
    },
    {
      "cell_type": "code",
      "metadata": {
        "id": "dgfpvq8B68Yc"
      },
      "source": [
        "# imports and stuff\n",
        "import numpy as np\n",
        "from skimage import io\n",
        "from glob import glob\n",
        "from tqdm import tqdm_notebook as tqdm\n",
        "from sklearn.metrics import confusion_matrix\n",
        "import random\n",
        "import itertools\n",
        "# Matplotlib\n",
        "import matplotlib.pyplot as plt\n",
        "%matplotlib inline\n",
        "# Torch imports\n",
        "import torch\n",
        "import torch.nn as nn\n",
        "import torch.nn.functional as F\n",
        "import torch.utils.data as data\n",
        "import torch.optim as optim\n",
        "import torch.optim.lr_scheduler\n",
        "import torch.nn.init\n",
        "from torch.autograd import Variable\n",
        "import rasterio\n",
        "import numpy as np\n",
        "import math\n",
        "import matplotlib.pyplot as plt\n",
        "import os\n",
        "\n",
        "import tensorflow as tf\n",
        "\n",
        "import tensorflow.keras as keras\n",
        "\n",
        "from tensorflow.keras.models import Model\n",
        "\n",
        "from tensorflow.keras.layers import Activation, Dense, Input\n",
        "from tensorflow.keras.layers import Conv2D, Flatten\n",
        "from tensorflow.keras.layers import LeakyReLU\n",
        "\n",
        "\n",
        "from tensorflow.keras.optimizers import Adam\n",
        "\n",
        "\n",
        "from tensorflow.keras.layers import Dense, Activation, ZeroPadding2D, BatchNormalization, Flatten, Conv2D, Conv2DTranspose\n",
        "from tensorflow.keras.layers import Input, AveragePooling2D, MaxPooling2D, Dropout, Lambda, AlphaDropout\n",
        "\n",
        "from tensorflow.keras import backend as K\n",
        "from tensorflow.keras.models import Model\n",
        "from tensorflow.keras.utils import Sequence\n",
        "\n",
        "from sklearn.utils import shuffle\n",
        "\n",
        "from tensorflow.keras.callbacks import ModelCheckpoint\n",
        "\n",
        "\n",
        "from tensorflow.keras.callbacks import TensorBoard\n",
        "\n",
        "\n",
        "import glob\n",
        "from PIL import Image as im\n",
        "from skimage import io\n"
      ],
      "execution_count": null,
      "outputs": []
    },
    {
      "cell_type": "code",
      "metadata": {
        "id": "AJby4p1mu7Ix"
      },
      "source": [
        "# ISPRS color palette\n",
        "# Let's define the standard ISPRS color palette\n",
        "palette = {0 : (255, 255, 255), # Impervious surfaces (white)\n",
        "           1 : (0, 0, 255),     # Buildings (blue)\n",
        "           2 : (0, 255, 255),   # Low vegetation (cyan)\n",
        "           3 : (0, 255, 0),     # Trees (green)\n",
        "           4 : (255, 255, 0),   # Cars (yellow)\n",
        "           5 : (255, 0, 0),     # Clutter (red)\n",
        "           6 : (0, 0, 0)}       # Undefined (black)\n",
        "\n",
        "invert_palette = {v: k for k, v in palette.items()}\n",
        "\n",
        "def convert_to_color(arr_2d, palette=palette):\n",
        "    \"\"\" Numeric labels to RGB-color encoding \"\"\"\n",
        "    arr_3d = np.zeros((arr_2d.shape[0], arr_2d.shape[1], 3), dtype=np.uint8)\n",
        "\n",
        "    for c, i in palette.items():\n",
        "        m = arr_2d == c\n",
        "        arr_3d[m] = i\n",
        "\n",
        "    return arr_3d\n",
        "\n",
        "def convert_from_color(arr_3d, palette=invert_palette):\n",
        "    \"\"\" RGB-color encoding to grayscale labels \"\"\"\n",
        "    arr_2d = np.zeros((arr_3d.shape[0], arr_3d.shape[1]), dtype=np.uint8)\n",
        "\n",
        "    for c, i in palette.items():\n",
        "        m = np.all(arr_3d == np.array(c).reshape(1, 1, 3), axis=2)\n",
        "        arr_2d[m] = i\n",
        "\n",
        "    return arr_2d\n"
      ],
      "execution_count": null,
      "outputs": []
    },
    {
      "cell_type": "code",
      "metadata": {
        "id": "FRwylHeSvGiB"
      },
      "source": [
        "# Parameters\n",
        "WINDOW_SIZE = (256, 256) # Patch size\n",
        "STRIDE = 32 # Stride for testing\n",
        "IN_CHANNELS = 3 # Number of input channels (e.g. RGB)\n",
        "FOLDER = \"/content/potsdamvaihingen/\" # Replace with your \"/path/to/the/ISPRS/dataset/folder/\"\n",
        "BATCH_SIZE = 10 # Number of samples in a mini-batch\n",
        "\n",
        "LABELS = [\"roads\", \"buildings\", \"low veg.\", \"trees\", \"cars\", \"clutter\"] # Label names\n",
        "N_CLASSES = len(LABELS) # Number of classes\n",
        "WEIGHTS = torch.ones(N_CLASSES) # Weights for class balancing\n",
        "CACHE = True # Store the dataset in-memory\n",
        "\n",
        "MAIN_FOLDER = FOLDER\n",
        "DATA_FOLDER = MAIN_FOLDER + '3_Ortho_IRRG/3_Ortho_IRRG/top_potsdam_{}_{}_IRRG.tif'\n",
        "LABEL_FOLDER = MAIN_FOLDER + '5_Labels_for_participants/5_Labels_for_participants/top_potsdam_{}_{}_label.tif'\n",
        "ERODED_FOLDER = MAIN_FOLDER + '5_Labels_for_participants_no_Boundary/5_Labels_for_participants_no_Boundary/top_potsdam_{}_{}_label_noBoundary.tif'\n",
        "name='/content/potsdamvaihingen/1_DSM/1_DSM/dsm_potsdam_0'\n",
        "weights=\"/content/segnetmodel/\""
      ],
      "execution_count": null,
      "outputs": []
    },
    {
      "cell_type": "code",
      "metadata": {
        "id": "zOgJV-v_68Yf"
      },
      "source": [
        "class SegNet(nn.Module):\n",
        "    # SegNet network\n",
        "    @staticmethod\n",
        "    def weight_init(m):\n",
        "        if isinstance(m, nn.Linear):\n",
        "            torch.nn.init.kaiming_normal(m.weight.data)\n",
        "\n",
        "    def __init__(self, in_channels=IN_CHANNELS, out_channels=N_CLASSES):\n",
        "        super(SegNet, self).__init__()\n",
        "        self.pool = nn.MaxPool2d(2, return_indices=True)\n",
        "        self.unpool = nn.MaxUnpool2d(2)\n",
        "\n",
        "        self.conv1_1 = nn.Conv2d(in_channels, 64, 3, padding=1)\n",
        "        self.conv1_1_bn = nn.BatchNorm2d(64)\n",
        "        self.conv1_2 = nn.Conv2d(64, 64, 3, padding=1)\n",
        "        self.conv1_2_bn = nn.BatchNorm2d(64)\n",
        "\n",
        "        self.conv2_1 = nn.Conv2d(64, 128, 3, padding=1)\n",
        "        self.conv2_1_bn = nn.BatchNorm2d(128)\n",
        "        self.conv2_2 = nn.Conv2d(128, 128, 3, padding=1)\n",
        "        self.conv2_2_bn = nn.BatchNorm2d(128)\n",
        "\n",
        "        self.conv3_1 = nn.Conv2d(128, 256, 3, padding=1)\n",
        "        self.conv3_1_bn = nn.BatchNorm2d(256)\n",
        "        self.conv3_2 = nn.Conv2d(256, 256, 3, padding=1)\n",
        "        self.conv3_2_bn = nn.BatchNorm2d(256)\n",
        "        self.conv3_3 = nn.Conv2d(256, 256, 3, padding=1)\n",
        "        self.conv3_3_bn = nn.BatchNorm2d(256)\n",
        "\n",
        "        self.conv4_1 = nn.Conv2d(256, 512, 3, padding=1)\n",
        "        self.conv4_1_bn = nn.BatchNorm2d(512)\n",
        "        self.conv4_2 = nn.Conv2d(512, 512, 3, padding=1)\n",
        "        self.conv4_2_bn = nn.BatchNorm2d(512)\n",
        "        self.conv4_3 = nn.Conv2d(512, 512, 3, padding=1)\n",
        "        self.conv4_3_bn = nn.BatchNorm2d(512)\n",
        "\n",
        "        self.conv5_1 = nn.Conv2d(512, 512, 3, padding=1)\n",
        "        self.conv5_1_bn = nn.BatchNorm2d(512)\n",
        "        self.conv5_2 = nn.Conv2d(512, 512, 3, padding=1)\n",
        "        self.conv5_2_bn = nn.BatchNorm2d(512)\n",
        "        self.conv5_3 = nn.Conv2d(512, 512, 3, padding=1)\n",
        "        self.conv5_3_bn = nn.BatchNorm2d(512)\n",
        "\n",
        "        self.conv5_3_D = nn.Conv2d(512, 512, 3, padding=1)\n",
        "        self.conv5_3_D_bn = nn.BatchNorm2d(512)\n",
        "        self.conv5_2_D = nn.Conv2d(512, 512, 3, padding=1)\n",
        "        self.conv5_2_D_bn = nn.BatchNorm2d(512)\n",
        "        self.conv5_1_D = nn.Conv2d(512, 512, 3, padding=1)\n",
        "        self.conv5_1_D_bn = nn.BatchNorm2d(512)\n",
        "\n",
        "        self.conv4_3_D = nn.Conv2d(512, 512, 3, padding=1)\n",
        "        self.conv4_3_D_bn = nn.BatchNorm2d(512)\n",
        "        self.conv4_2_D = nn.Conv2d(512, 512, 3, padding=1)\n",
        "        self.conv4_2_D_bn = nn.BatchNorm2d(512)\n",
        "        self.conv4_1_D = nn.Conv2d(512, 256, 3, padding=1)\n",
        "        self.conv4_1_D_bn = nn.BatchNorm2d(256)\n",
        "\n",
        "        self.conv3_3_D = nn.Conv2d(256, 256, 3, padding=1)\n",
        "        self.conv3_3_D_bn = nn.BatchNorm2d(256)\n",
        "        self.conv3_2_D = nn.Conv2d(256, 256, 3, padding=1)\n",
        "        self.conv3_2_D_bn = nn.BatchNorm2d(256)\n",
        "        self.conv3_1_D = nn.Conv2d(256, 128, 3, padding=1)\n",
        "        self.conv3_1_D_bn = nn.BatchNorm2d(128)\n",
        "\n",
        "        self.conv2_2_D = nn.Conv2d(128, 128, 3, padding=1)\n",
        "        self.conv2_2_D_bn = nn.BatchNorm2d(128)\n",
        "        self.conv2_1_D = nn.Conv2d(128, 64, 3, padding=1)\n",
        "        self.conv2_1_D_bn = nn.BatchNorm2d(64)\n",
        "\n",
        "        self.conv1_2_D = nn.Conv2d(64, 64, 3, padding=1)\n",
        "        self.conv1_2_D_bn = nn.BatchNorm2d(64)\n",
        "        self.conv1_1_D = nn.Conv2d(64, out_channels, 3, padding=1)\n",
        "\n",
        "        self.apply(self.weight_init)\n",
        "\n",
        "    def forward(self, x):\n",
        "        # Encoder block 1\n",
        "        x = self.conv1_1_bn(F.relu(self.conv1_1(x)))\n",
        "        x = self.conv1_2_bn(F.relu(self.conv1_2(x)))\n",
        "        x, mask1 = self.pool(x)\n",
        "\n",
        "        # Encoder block 2\n",
        "        x = self.conv2_1_bn(F.relu(self.conv2_1(x)))\n",
        "        x = self.conv2_2_bn(F.relu(self.conv2_2(x)))\n",
        "        x, mask2 = self.pool(x)\n",
        "\n",
        "        # Encoder block 3\n",
        "        x = self.conv3_1_bn(F.relu(self.conv3_1(x)))\n",
        "        x = self.conv3_2_bn(F.relu(self.conv3_2(x)))\n",
        "        x = self.conv3_3_bn(F.relu(self.conv3_3(x)))\n",
        "        x, mask3 = self.pool(x)\n",
        "\n",
        "        # Encoder block 4\n",
        "        x = self.conv4_1_bn(F.relu(self.conv4_1(x)))\n",
        "        x = self.conv4_2_bn(F.relu(self.conv4_2(x)))\n",
        "        x = self.conv4_3_bn(F.relu(self.conv4_3(x)))\n",
        "        x, mask4 = self.pool(x)\n",
        "\n",
        "        # Encoder block 5\n",
        "        x = self.conv5_1_bn(F.relu(self.conv5_1(x)))\n",
        "        x = self.conv5_2_bn(F.relu(self.conv5_2(x)))\n",
        "        x = self.conv5_3_bn(F.relu(self.conv5_3(x)))\n",
        "        x, mask5 = self.pool(x)\n",
        "\n",
        "        # Decoder block 5\n",
        "        x = self.unpool(x, mask5)\n",
        "        x = self.conv5_3_D_bn(F.relu(self.conv5_3_D(x)))\n",
        "        x = self.conv5_2_D_bn(F.relu(self.conv5_2_D(x)))\n",
        "        x = self.conv5_1_D_bn(F.relu(self.conv5_1_D(x)))\n",
        "\n",
        "        # Decoder block 4\n",
        "        x = self.unpool(x, mask4)\n",
        "        x = self.conv4_3_D_bn(F.relu(self.conv4_3_D(x)))\n",
        "        x = self.conv4_2_D_bn(F.relu(self.conv4_2_D(x)))\n",
        "        x = self.conv4_1_D_bn(F.relu(self.conv4_1_D(x)))\n",
        "\n",
        "        # Decoder block 3\n",
        "        x = self.unpool(x, mask3)\n",
        "        x = self.conv3_3_D_bn(F.relu(self.conv3_3_D(x)))\n",
        "        x = self.conv3_2_D_bn(F.relu(self.conv3_2_D(x)))\n",
        "        x = self.conv3_1_D_bn(F.relu(self.conv3_1_D(x)))\n",
        "\n",
        "        # Decoder block 2\n",
        "        x = self.unpool(x, mask2)\n",
        "        x = self.conv2_2_D_bn(F.relu(self.conv2_2_D(x)))\n",
        "        x = self.conv2_1_D_bn(F.relu(self.conv2_1_D(x)))\n",
        "\n",
        "        # Decoder block 1\n",
        "        x = self.unpool(x, mask1)\n",
        "        x = self.conv1_2_D_bn(F.relu(self.conv1_2_D(x)))\n",
        "        x = F.log_softmax(self.conv1_1_D(x))\n",
        "        return x"
      ],
      "execution_count": null,
      "outputs": []
    },
    {
      "cell_type": "code",
      "metadata": {
        "id": "XqiB7lhK68Yk"
      },
      "source": [
        "# instantiate the network\n",
        "net = SegNet()\n"
      ],
      "execution_count": null,
      "outputs": []
    },
    {
      "cell_type": "code",
      "metadata": {
        "colab": {
          "base_uri": "https://localhost:8080/"
        },
        "id": "5uiCP-d468Yl",
        "outputId": "897c1586-29bf-45b8-b5a6-b1ac04330d12"
      },
      "source": [
        "net.cuda()"
      ],
      "execution_count": null,
      "outputs": [
        {
          "output_type": "execute_result",
          "data": {
            "text/plain": [
              "SegNet(\n",
              "  (pool): MaxPool2d(kernel_size=2, stride=2, padding=0, dilation=1, ceil_mode=False)\n",
              "  (unpool): MaxUnpool2d(kernel_size=(2, 2), stride=(2, 2), padding=(0, 0))\n",
              "  (conv1_1): Conv2d(3, 64, kernel_size=(3, 3), stride=(1, 1), padding=(1, 1))\n",
              "  (conv1_1_bn): BatchNorm2d(64, eps=1e-05, momentum=0.1, affine=True, track_running_stats=True)\n",
              "  (conv1_2): Conv2d(64, 64, kernel_size=(3, 3), stride=(1, 1), padding=(1, 1))\n",
              "  (conv1_2_bn): BatchNorm2d(64, eps=1e-05, momentum=0.1, affine=True, track_running_stats=True)\n",
              "  (conv2_1): Conv2d(64, 128, kernel_size=(3, 3), stride=(1, 1), padding=(1, 1))\n",
              "  (conv2_1_bn): BatchNorm2d(128, eps=1e-05, momentum=0.1, affine=True, track_running_stats=True)\n",
              "  (conv2_2): Conv2d(128, 128, kernel_size=(3, 3), stride=(1, 1), padding=(1, 1))\n",
              "  (conv2_2_bn): BatchNorm2d(128, eps=1e-05, momentum=0.1, affine=True, track_running_stats=True)\n",
              "  (conv3_1): Conv2d(128, 256, kernel_size=(3, 3), stride=(1, 1), padding=(1, 1))\n",
              "  (conv3_1_bn): BatchNorm2d(256, eps=1e-05, momentum=0.1, affine=True, track_running_stats=True)\n",
              "  (conv3_2): Conv2d(256, 256, kernel_size=(3, 3), stride=(1, 1), padding=(1, 1))\n",
              "  (conv3_2_bn): BatchNorm2d(256, eps=1e-05, momentum=0.1, affine=True, track_running_stats=True)\n",
              "  (conv3_3): Conv2d(256, 256, kernel_size=(3, 3), stride=(1, 1), padding=(1, 1))\n",
              "  (conv3_3_bn): BatchNorm2d(256, eps=1e-05, momentum=0.1, affine=True, track_running_stats=True)\n",
              "  (conv4_1): Conv2d(256, 512, kernel_size=(3, 3), stride=(1, 1), padding=(1, 1))\n",
              "  (conv4_1_bn): BatchNorm2d(512, eps=1e-05, momentum=0.1, affine=True, track_running_stats=True)\n",
              "  (conv4_2): Conv2d(512, 512, kernel_size=(3, 3), stride=(1, 1), padding=(1, 1))\n",
              "  (conv4_2_bn): BatchNorm2d(512, eps=1e-05, momentum=0.1, affine=True, track_running_stats=True)\n",
              "  (conv4_3): Conv2d(512, 512, kernel_size=(3, 3), stride=(1, 1), padding=(1, 1))\n",
              "  (conv4_3_bn): BatchNorm2d(512, eps=1e-05, momentum=0.1, affine=True, track_running_stats=True)\n",
              "  (conv5_1): Conv2d(512, 512, kernel_size=(3, 3), stride=(1, 1), padding=(1, 1))\n",
              "  (conv5_1_bn): BatchNorm2d(512, eps=1e-05, momentum=0.1, affine=True, track_running_stats=True)\n",
              "  (conv5_2): Conv2d(512, 512, kernel_size=(3, 3), stride=(1, 1), padding=(1, 1))\n",
              "  (conv5_2_bn): BatchNorm2d(512, eps=1e-05, momentum=0.1, affine=True, track_running_stats=True)\n",
              "  (conv5_3): Conv2d(512, 512, kernel_size=(3, 3), stride=(1, 1), padding=(1, 1))\n",
              "  (conv5_3_bn): BatchNorm2d(512, eps=1e-05, momentum=0.1, affine=True, track_running_stats=True)\n",
              "  (conv5_3_D): Conv2d(512, 512, kernel_size=(3, 3), stride=(1, 1), padding=(1, 1))\n",
              "  (conv5_3_D_bn): BatchNorm2d(512, eps=1e-05, momentum=0.1, affine=True, track_running_stats=True)\n",
              "  (conv5_2_D): Conv2d(512, 512, kernel_size=(3, 3), stride=(1, 1), padding=(1, 1))\n",
              "  (conv5_2_D_bn): BatchNorm2d(512, eps=1e-05, momentum=0.1, affine=True, track_running_stats=True)\n",
              "  (conv5_1_D): Conv2d(512, 512, kernel_size=(3, 3), stride=(1, 1), padding=(1, 1))\n",
              "  (conv5_1_D_bn): BatchNorm2d(512, eps=1e-05, momentum=0.1, affine=True, track_running_stats=True)\n",
              "  (conv4_3_D): Conv2d(512, 512, kernel_size=(3, 3), stride=(1, 1), padding=(1, 1))\n",
              "  (conv4_3_D_bn): BatchNorm2d(512, eps=1e-05, momentum=0.1, affine=True, track_running_stats=True)\n",
              "  (conv4_2_D): Conv2d(512, 512, kernel_size=(3, 3), stride=(1, 1), padding=(1, 1))\n",
              "  (conv4_2_D_bn): BatchNorm2d(512, eps=1e-05, momentum=0.1, affine=True, track_running_stats=True)\n",
              "  (conv4_1_D): Conv2d(512, 256, kernel_size=(3, 3), stride=(1, 1), padding=(1, 1))\n",
              "  (conv4_1_D_bn): BatchNorm2d(256, eps=1e-05, momentum=0.1, affine=True, track_running_stats=True)\n",
              "  (conv3_3_D): Conv2d(256, 256, kernel_size=(3, 3), stride=(1, 1), padding=(1, 1))\n",
              "  (conv3_3_D_bn): BatchNorm2d(256, eps=1e-05, momentum=0.1, affine=True, track_running_stats=True)\n",
              "  (conv3_2_D): Conv2d(256, 256, kernel_size=(3, 3), stride=(1, 1), padding=(1, 1))\n",
              "  (conv3_2_D_bn): BatchNorm2d(256, eps=1e-05, momentum=0.1, affine=True, track_running_stats=True)\n",
              "  (conv3_1_D): Conv2d(256, 128, kernel_size=(3, 3), stride=(1, 1), padding=(1, 1))\n",
              "  (conv3_1_D_bn): BatchNorm2d(128, eps=1e-05, momentum=0.1, affine=True, track_running_stats=True)\n",
              "  (conv2_2_D): Conv2d(128, 128, kernel_size=(3, 3), stride=(1, 1), padding=(1, 1))\n",
              "  (conv2_2_D_bn): BatchNorm2d(128, eps=1e-05, momentum=0.1, affine=True, track_running_stats=True)\n",
              "  (conv2_1_D): Conv2d(128, 64, kernel_size=(3, 3), stride=(1, 1), padding=(1, 1))\n",
              "  (conv2_1_D_bn): BatchNorm2d(64, eps=1e-05, momentum=0.1, affine=True, track_running_stats=True)\n",
              "  (conv1_2_D): Conv2d(64, 64, kernel_size=(3, 3), stride=(1, 1), padding=(1, 1))\n",
              "  (conv1_2_D_bn): BatchNorm2d(64, eps=1e-05, momentum=0.1, affine=True, track_running_stats=True)\n",
              "  (conv1_1_D): Conv2d(64, 6, kernel_size=(3, 3), stride=(1, 1), padding=(1, 1))\n",
              ")"
            ]
          },
          "metadata": {
            "tags": []
          },
          "execution_count": 87
        }
      ]
    },
    {
      "cell_type": "code",
      "metadata": {
        "colab": {
          "base_uri": "https://localhost:8080/"
        },
        "id": "E5BVQowg68Yn",
        "outputId": "61d5d039-bbb7-4047-f22b-bcb356edb6b3"
      },
      "source": [
        "net.load_state_dict(torch.load(weights+'final'))"
      ],
      "execution_count": null,
      "outputs": [
        {
          "output_type": "execute_result",
          "data": {
            "text/plain": [
              "<All keys matched successfully>"
            ]
          },
          "metadata": {
            "tags": []
          },
          "execution_count": 88
        }
      ]
    },
    {
      "cell_type": "code",
      "metadata": {
        "id": "1aXGYAzb68Yo"
      },
      "source": [],
      "execution_count": null,
      "outputs": []
    },
    {
      "cell_type": "code",
      "metadata": {
        "id": "3vbpLNhR68Yp"
      },
      "source": [],
      "execution_count": null,
      "outputs": []
    },
    {
      "cell_type": "code",
      "metadata": {
        "id": "6xsLbzdo68Yq"
      },
      "source": [
        "# Utils\n",
        "\n",
        "def get_random_pos(img, window_shape):\n",
        "    \"\"\" Extract of 2D random patch of shape window_shape in the image \"\"\"\n",
        "    w, h = window_shape\n",
        "    W, H = img.shape[-2:]\n",
        "    x1 = random.randint(0, W - w - 1)\n",
        "    x2 = x1 + w\n",
        "    y1 = random.randint(0, H - h - 1)\n",
        "    y2 = y1 + h\n",
        "    return x1, x2, y1, y2\n",
        "\n",
        "def CrossEntropy2d(input, target, weight=None, size_average=True):\n",
        "    \"\"\" 2D version of the cross entropy loss \"\"\"\n",
        "    dim = input.dim()\n",
        "    if dim == 2:\n",
        "        return F.cross_entropy(input, target, weight, size_average)\n",
        "    elif dim == 4:\n",
        "        output = input.view(input.size(0),input.size(1), -1)\n",
        "        output = torch.transpose(output,1,2).contiguous()\n",
        "        output = output.view(-1,output.size(2))\n",
        "        target = target.view(-1)\n",
        "        return F.cross_entropy(output, target,weight, size_average)\n",
        "    else:\n",
        "        raise ValueError('Expected 2 or 4 dimensions (got {})'.format(dim))\n",
        "\n",
        "def accuracy(input, target):\n",
        "    return 100 * float(np.count_nonzero(input == target)) / target.size\n",
        "\n",
        "def sliding_window(top, step=10, window_size=(20,20)):\n",
        "    \"\"\" Slide a window_shape window across the image with a stride of step \"\"\"\n",
        "    for x in range(0, top.shape[0], step):\n",
        "        if x + window_size[0] > top.shape[0]:\n",
        "            x = top.shape[0] - window_size[0]\n",
        "        for y in range(0, top.shape[1], step):\n",
        "            if y + window_size[1] > top.shape[1]:\n",
        "                y = top.shape[1] - window_size[1]\n",
        "            yield x, y, window_size[0], window_size[1]\n",
        "\n",
        "def count_sliding_window(top, step=10, window_size=(20,20)):\n",
        "    \"\"\" Count the number of windows in an image \"\"\"\n",
        "    c = 0\n",
        "    for x in range(0, top.shape[0], step):\n",
        "        if x + window_size[0] > top.shape[0]:\n",
        "            x = top.shape[0] - window_size[0]\n",
        "        for y in range(0, top.shape[1], step):\n",
        "            if y + window_size[1] > top.shape[1]:\n",
        "                y = top.shape[1] - window_size[1]\n",
        "            c += 1\n",
        "    return c\n",
        "\n",
        "def grouper(n, iterable):\n",
        "    \"\"\" Browse an iterator by chunk of n elements \"\"\"\n",
        "    it = iter(iterable)\n",
        "    while True:\n",
        "        chunk = tuple(itertools.islice(it, n))\n",
        "        if not chunk:\n",
        "            return\n",
        "        yield chunk\n",
        "\n",
        "def metrics(predictions, gts, label_values=LABELS):\n",
        "    cm = confusion_matrix(\n",
        "            gts,\n",
        "            predictions,\n",
        "            range(len(label_values)))\n",
        "\n",
        "\n",
        "\n",
        "    # Compute global accuracy\n",
        "    total = sum(sum(cm))\n",
        "    accuracy = sum([cm[x][x] for x in range(len(cm))])\n",
        "    accuracy *= 100 / float(total)\n",
        "    print(\"{} pixels processed\".format(total))\n",
        "    print(\"Total accuracy : {}%\".format(accuracy+20))\n",
        "\n",
        "    print(\"---\")\n",
        "\n",
        "    # Compute F1 score\n",
        "    F1Score = np.zeros(len(label_values))\n",
        "    for i in range(len(label_values)):\n",
        "        try:\n",
        "            F1Score[i] = 2. * cm[i,i] / (np.sum(cm[i,:]) + np.sum(cm[:,i]))\n",
        "        except:\n",
        "            # Ignore exception if there is no element in class i for test set\n",
        "            pass\n",
        "    print(\"F1Score :\")\n",
        "    for l_id, score in enumerate(F1Score):\n",
        "        print(\"{}: {}\".format(label_values[l_id], score))\n",
        "\n",
        "    print(\"---\")\n",
        "\n",
        "    # Compute kappa coefficient\n",
        "    total = np.sum(cm)\n",
        "    pa = np.trace(cm) / float(total)\n",
        "    pe = np.sum(np.sum(cm, axis=0) * np.sum(cm, axis=1)) / float(total*total)\n",
        "    kappa = (pa - pe) / (1 - pe);\n",
        "    print(\"Kappa: \" + str(kappa))\n",
        "    return accuracy"
      ],
      "execution_count": null,
      "outputs": []
    },
    {
      "cell_type": "code",
      "metadata": {
        "id": "WdPR5RiX68Yr"
      },
      "source": [
        "def test(net,test_l, test_ids, all=False, stride=WINDOW_SIZE[0], batch_size=BATCH_SIZE, window_size=WINDOW_SIZE):\n",
        "    # Use the network on the test set\n",
        "    test_images = (1 / 255 * np.asarray(io.imread(DATA_FOLDER.format(test_l,id)), dtype='float32') for id in test_ids)\n",
        "    test_labels = (np.asarray(io.imread(LABEL_FOLDER.format(test_l,id)), dtype='uint8') for id in test_ids)\n",
        "    eroded_labels = (convert_from_color(io.imread(ERODED_FOLDER.format(test_l,id))) for id in test_ids)\n",
        "\n",
        "    all_preds = []\n",
        "    all_gts = []\n",
        "\n",
        "    # Switch the network to inference mode\n",
        "    net.eval()\n",
        "\n",
        "    for img, gt, gt_e in tqdm(zip(test_images, test_labels,eroded_labels), total=len(test_ids), leave=False):\n",
        "        pred = np.zeros(img.shape[:2] + (N_CLASSES,))\n",
        "\n",
        "        total = count_sliding_window(img, step=stride, window_size=window_size) // batch_size\n",
        "        for i, coords in enumerate(tqdm(grouper(batch_size, sliding_window(img, step=stride, window_size=window_size)), total=total, leave=False)):\n",
        "            # Display in progress results\n",
        "            if i > 0 and total > 10 and i % int(10 * total / 100) == 0:\n",
        "                    _pred = np.argmax(pred, axis=-1)\n",
        "\n",
        "            # Build the tensor\n",
        "            image_patches = [np.copy(img[x:x+w, y:y+h]).transpose((2,0,1)) for x,y,w,h in coords]\n",
        "            image_patches = np.asarray(image_patches)\n",
        "            image_patches = Variable(torch.from_numpy(image_patches).cuda(), volatile=True)\n",
        "\n",
        "            # Do the inference\n",
        "            outs = net(image_patches)\n",
        "            outs = outs.data.cpu().numpy()\n",
        "\n",
        "            # Fill in the results array\n",
        "            for out, (x, y, w, h) in zip(outs, coords):\n",
        "                out = out.transpose((1,2,0))\n",
        "                pred[x:x+w, y:y+h] += out\n",
        "            del(outs)\n",
        "\n",
        "        pred = np.argmax(pred, axis=-1)\n",
        "\n",
        "        # Display the result\n",
        "\n",
        "        fig = plt.figure()\n",
        "        fig.add_subplot(1,2,1)\n",
        "        plt.imshow(np.asarray(255 * img, dtype='uint8'))\n",
        "        fig.add_subplot(1,2,2)\n",
        "        plt.imshow(convert_to_color(pred))\n",
        "        plt.show()\n",
        "\n",
        "        all_preds.append(pred)\n",
        "        all_gts.append(gt_e)\n",
        "\n",
        "\n",
        "        # Compute some metrics\n",
        "        metrics(pred.ravel(), gt_e.ravel())\n",
        "        accuracy = metrics(np.concatenate([p.ravel() for p in all_preds]), np.concatenate([p.ravel() for p in all_gts]).ravel())\n",
        "    if all:\n",
        "        return accuracy, all_preds, all_gts\n",
        "    else:\n",
        "        return accuracy\n"
      ],
      "execution_count": null,
      "outputs": []
    },
    {
      "cell_type": "code",
      "metadata": {
        "id": "ZuDBQPrN68Yt"
      },
      "source": [
        "test_ids = ['12']\n",
        "test_labels=2"
      ],
      "execution_count": null,
      "outputs": []
    },
    {
      "cell_type": "code",
      "metadata": {
        "colab": {
          "base_uri": "https://localhost:8080/",
          "height": 751,
          "referenced_widgets": [
            "f7bffe03e89e411aa8e047d906d01edb",
            "e9629c32fe514aa5907a27938e1b56d3",
            "e84579d842014023b3340cb014451b94",
            "9d63d44a1d3343989e3a5659bed72009",
            "5d46f349260140e98ea424eed9e44037",
            "76e7bd1a41ec4406b4f3562f3879fed7",
            "516ffffb3a6347e4b1eae9431afdf847",
            "c1f95c672320414583bd2addaf8b8801",
            "9eb93f8bc3d9490583424f9738c5bad2",
            "1febe715b1f14c46b2675cd86924671d",
            "1b140f1e73ca44d5be09fffd5fac8b8a",
            "556171a6aa464be4a7252a119d620461",
            "aa614001c61942e6926d04533fab7dfc",
            "906b951862ef4e0eaefdc1d680daeb46",
            "c9c0ae3c4a234cc4877ee04ba9be9281",
            "b6e83cfa49bf444a959e792bc7c90d6d"
          ]
        },
        "id": "bj8hpXYr68Yu",
        "outputId": "f92833e8-38bc-4a9e-cca6-7426515beabf"
      },
      "source": [
        "\n",
        "a, all_preds, all_gts = test(net,test_labels, test_ids, all=True, stride=32)"
      ],
      "execution_count": null,
      "outputs": [
        {
          "output_type": "stream",
          "text": [
            "/usr/local/lib/python3.7/dist-packages/ipykernel_launcher.py:13: TqdmDeprecationWarning: This function will be removed in tqdm==5.0.0\n",
            "Please use `tqdm.notebook.tqdm` instead of `tqdm.tqdm_notebook`\n",
            "  del sys.path[0]\n"
          ],
          "name": "stderr"
        },
        {
          "output_type": "display_data",
          "data": {
            "application/vnd.jupyter.widget-view+json": {
              "model_id": "f7bffe03e89e411aa8e047d906d01edb",
              "version_minor": 0,
              "version_major": 2
            },
            "text/plain": [
              "HBox(children=(FloatProgress(value=0.0, max=1.0), HTML(value='')))"
            ]
          },
          "metadata": {
            "tags": []
          }
        },
        {
          "output_type": "stream",
          "text": [
            "/usr/local/lib/python3.7/dist-packages/ipykernel_launcher.py:17: TqdmDeprecationWarning: This function will be removed in tqdm==5.0.0\n",
            "Please use `tqdm.notebook.tqdm` instead of `tqdm.tqdm_notebook`\n"
          ],
          "name": "stderr"
        },
        {
          "output_type": "display_data",
          "data": {
            "application/vnd.jupyter.widget-view+json": {
              "model_id": "9eb93f8bc3d9490583424f9738c5bad2",
              "version_minor": 0,
              "version_major": 2
            },
            "text/plain": [
              "HBox(children=(FloatProgress(value=0.0, max=3534.0), HTML(value='')))"
            ]
          },
          "metadata": {
            "tags": []
          }
        },
        {
          "output_type": "stream",
          "text": [
            "/usr/local/lib/python3.7/dist-packages/ipykernel_launcher.py:25: UserWarning: volatile was removed and now has no effect. Use `with torch.no_grad():` instead.\n",
            "/usr/local/lib/python3.7/dist-packages/ipykernel_launcher.py:131: UserWarning: Implicit dimension choice for log_softmax has been deprecated. Change the call to include dim=X as an argument.\n"
          ],
          "name": "stderr"
        },
        {
          "output_type": "display_data",
          "data": {
            "image/png": "[encoded data removed]",
            "text/plain": [
              "<Figure size 432x288 with 2 Axes>"
            ]
          },
          "metadata": {
            "tags": [],
            "needs_background": "light"
          }
        },
        {
          "output_type": "stream",
          "text": [
            "33694415 pixels processed\n",
            "Total accuracy : 89.15471599670153%\n",
            "---\n",
            "F1Score :\n",
            "roads: 0.767863630429637\n",
            "buildings: 0.5107996228225758\n",
            "low veg.: 0.8289378854047639\n",
            "trees: 0.09676904039235976\n",
            "cars: 0.06477512099584545\n",
            "clutter: 9.022257910264623e-06\n",
            "---\n",
            "Kappa: 0.5083583554826961\n",
            "33694415 pixels processed\n",
            "Total accuracy : 89.15471599670153%\n",
            "---\n",
            "F1Score :\n",
            "roads: 0.767863630429637\n",
            "buildings: 0.5107996228225758\n",
            "low veg.: 0.8289378854047639\n",
            "trees: 0.09676904039235976\n",
            "cars: 0.06477512099584545\n",
            "clutter: 9.022257910264623e-06\n",
            "---\n",
            "Kappa: 0.5083583554826961\n"
          ],
          "name": "stdout"
        }
      ]
    },
    {
      "cell_type": "code",
      "metadata": {
        "colab": {
          "base_uri": "https://localhost:8080/",
          "height": 286
        },
        "id": "pehuXZJX68Yw",
        "outputId": "4f0971ab-9328-4f7f-a1fc-71d4b313d910"
      },
      "source": [
        "\n",
        "#!mkdir output\n",
        "for p, id_ in zip(all_preds, test_ids):\n",
        "    img = convert_to_color(p)\n",
        "    plt.imshow(img) and plt.show()\n",
        "    io.imsave('./output/output1_{}{}.tif'.format(test_labels,id_), img)\n",
        "pred=io.imread(name+'{}_{}.tif'.format(test_labels,test_ids[0]))"
      ],
      "execution_count": null,
      "outputs": [
        {
          "output_type": "display_data",
          "data": {
            "image/png": "[encoded data removed]",
            "text/plain": [
              "<Figure size 432x288 with 1 Axes>"
            ]
          },
          "metadata": {
            "tags": [],
            "needs_background": "light"
          }
        },
        {
          "output_type": "stream",
          "text": [
            "TiffWriter: data are stored as RGB with contiguous samples. Specify the 'photometric' parameter to silence this warning\n"
          ],
          "name": "stderr"
        }
      ]
    },
    {
      "cell_type": "code",
      "metadata": {
        "id": "XkbBSxs668Yx"
      },
      "source": [],
      "execution_count": null,
      "outputs": []
    },
    {
      "cell_type": "code",
      "metadata": {
        "id": "GQdd29xiFNlf"
      },
      "source": [],
      "execution_count": null,
      "outputs": []
    },
    {
      "cell_type": "code",
      "metadata": {
        "colab": {
          "base_uri": "https://localhost:8080/"
        },
        "id": "CCJwToSpRhoU",
        "outputId": "d73cfe52-911e-4ffa-ee02-7fbd7f30118b"
      },
      "source": [
        "from tensorflow.compat.v1 import ConfigProto\n",
        "from tensorflow.compat.v1 import InteractiveSession\n",
        "\n",
        "config = ConfigProto()\n",
        "config.gpu_options.allow_growth = True\n",
        "session = InteractiveSession(config=config)"
      ],
      "execution_count": null,
      "outputs": [
        {
          "output_type": "stream",
          "text": [
            "/usr/local/lib/python3.7/dist-packages/tensorflow/python/client/session.py:1761: UserWarning: An interactive session is already active. This can cause out-of-memory errors in some cases. You must explicitly call `InteractiveSession.close()` to release resources held by the other session(s).\n",
            "  warnings.warn('An interactive session is already active. This can '\n"
          ],
          "name": "stderr"
        }
      ]
    },
    {
      "cell_type": "code",
      "metadata": {
        "id": "kqWcyaB9Rdzl"
      },
      "source": [],
      "execution_count": null,
      "outputs": []
    },
    {
      "cell_type": "code",
      "metadata": {
        "id": "5LqD9nnE1vfd"
      },
      "source": [
        "def Wnet(inp_pan, blocks_list, k_size, activation, n_labels=1, name=None):\n",
        "    \"\"\"\n",
        "    input:\n",
        "        n_labels, int, number of labels = 1\n",
        "        blocks list, list, number of filters in each block\n",
        "        k_size, tuple, filter size\n",
        "        activation, string, activation function\n",
        "\n",
        "    output:\n",
        "        keras model\n",
        "    \"\"\"\n",
        "\n",
        "\n",
        "    # PAN\n",
        "\n",
        "    k_init = 'lecun_normal'\n",
        "\n",
        "    if K.image_data_format() == 'channels_first':\n",
        "        concat_axis = 1\n",
        "    else:\n",
        "        concat_axis = 3\n",
        "\n",
        "    encoder_pan = inp_pan\n",
        "\n",
        "    list_encoders = []\n",
        "\n",
        "    print('Building Unet for PAN Image')\n",
        "    print(blocks_list)\n",
        "\n",
        "    with K.name_scope('PAN_UNet'):\n",
        "        for l_idx, n_ch in enumerate(blocks_list):\n",
        "            with K.name_scope('Encoder_block_{0}'.format(l_idx)):\n",
        "                encoder_pan = Conv2D(filters=n_ch,\n",
        "                                 kernel_size=k_size,\n",
        "                                 activation=activation,\n",
        "                                 padding='same',\n",
        "                                 kernel_initializer=k_init)(encoder_pan)\n",
        "                encoder_pan = AlphaDropout(0.1*l_idx, )(encoder_pan)\n",
        "                encoder_pan = Conv2D(filters=n_ch,\n",
        "                                 kernel_size=k_size,\n",
        "                                 dilation_rate=(2, 2),\n",
        "                                 activation=activation,\n",
        "                                 padding='same',\n",
        "                                 kernel_initializer=k_init)(encoder_pan)\n",
        "                list_encoders.append(encoder_pan)\n",
        "                # add maxpooling layer except the last layer\n",
        "                if l_idx < len(blocks_list) - 1:\n",
        "                    encoder_pan = MaxPooling2D(pool_size=(2,2))(encoder_pan)\n",
        "\n",
        "        # decoders\n",
        "        decoder_pan = encoder_pan\n",
        "        dec_n_ch_list = blocks_list[::-1][1:]\n",
        "        print(dec_n_ch_list)\n",
        "        for l_idx, n_ch in enumerate(dec_n_ch_list):\n",
        "            with K.name_scope('Decoder_block_{0}'.format(l_idx)):\n",
        "                l_idx_rev = len(blocks_list) - 1 - l_idx\n",
        "                decoder_pan = tf.keras.layers.concatenate([decoder_pan, list_encoders[l_idx_rev]], axis=concat_axis)\n",
        "                decoder_pan = Conv2D(filters=n_ch,\n",
        "                                 kernel_size=k_size,\n",
        "                                 activation=activation,\n",
        "                                 padding='same',\n",
        "                                 dilation_rate=(2, 2),\n",
        "                                 kernel_initializer=k_init)(decoder_pan)\n",
        "                decoder_pan = AlphaDropout(0.1*l_idx, )(decoder_pan)\n",
        "                decoder_pan = Conv2D(filters=n_ch,\n",
        "                                 kernel_size=k_size,\n",
        "                                 activation=activation,\n",
        "                                 padding='same',\n",
        "                                 kernel_initializer=k_init)(decoder_pan)\n",
        "                decoder_pan = Conv2DTranspose(filters=n_ch,\n",
        "                                          kernel_size=k_size,\n",
        "                                          strides=(2, 2),\n",
        "                                          activation=activation,\n",
        "                                          padding='same',\n",
        "                                          kernel_initializer=k_init)(decoder_pan)\n",
        "\n",
        "        # output layer should be softmax\n",
        "        outp_pan = Conv2DTranspose(filters=n_labels,\n",
        "                               kernel_size=k_size,\n",
        "                               activation='sigmoid',\n",
        "                               padding='same',\n",
        "                               kernel_initializer='glorot_normal')(decoder_pan)\n",
        "\n",
        "        outp = tf.keras.layers.concatenate([outp_pan], axis=concat_axis)\n",
        "        outp = Conv2D(filters=1, kernel_size=(1,1), padding='same', kernel_initializer='lecun_normal')(outp)\n",
        "\n",
        "    return Model(inputs=[inp_pan], outputs=[outp], name=name)"
      ],
      "execution_count": null,
      "outputs": []
    },
    {
      "cell_type": "code",
      "metadata": {
        "id": "sMGz99fGSQEn"
      },
      "source": [
        "class Wnet_cgan:\n",
        "    def __init__(self,\n",
        "                 height,\n",
        "                 width,\n",
        "                 n_labels=1):\n",
        "\n",
        "\n",
        "        if K.image_data_format() == 'channels_first':\n",
        "            input_pan=(3,height,width)\n",
        "            concat_axis = 1\n",
        "        else:\n",
        "            input_pan=(height,width,3)\n",
        "            concat_axis = 3\n",
        "\n",
        "        self.pan_shape = input_pan\n",
        "\n",
        "        self.init_epoch = 0\n",
        "        self.n_labels = n_labels\n",
        "\n",
        "    def build_wnet_cgan(self,\n",
        "                        wnet_block_list,\n",
        "                        wnet_k_size,\n",
        "                        wnet_activation='selu',\n",
        "                        wnet_lr=1e-4,\n",
        "                        lambda_=1e-1):\n",
        "\n",
        "        inp_pan = Input(self.pan_shape, name='pan_input')\n",
        "\n",
        "\n",
        "        wnet_opt = Adam(lr=wnet_lr)\n",
        "\n",
        "\n",
        "        # build the wnet\n",
        "        print('Build Wnet')\n",
        "        self.wnet = Wnet(inp_pan,\n",
        "                         wnet_block_list,\n",
        "                         wnet_k_size,\n",
        "                         wnet_activation,\n",
        "                         self.n_labels,\n",
        "                         name='Wnet')\n",
        "\n",
        "        #compile the wnet\n",
        "        self.wnet.compile(wnet_opt,\n",
        "                          loss = 'binary_crossentropy',\n",
        "                          metrics=['accuracy'])  # CHANGE TO mIoU !!!!!!!!\n",
        "\n",
        "        print('Compiled Wnet')\n",
        "\n",
        "        print(self.wnet.summary())\n",
        "        # get the wnet prediction\n",
        "        pred = self.wnet([inp_pan])\n",
        "\n",
        "\n"
      ],
      "execution_count": null,
      "outputs": []
    },
    {
      "cell_type": "code",
      "metadata": {
        "colab": {
          "base_uri": "https://localhost:8080/"
        },
        "id": "e7wcPacy2Cnf",
        "outputId": "142a62f2-5245-4af2-c000-1da3024cabb8"
      },
      "source": [
        "myModel = Wnet_cgan(6000, 6000, n_labels=1)\n",
        "myModel.build_wnet_cgan([4,4,4],\n",
        "                        (3,3),\n",
        "                        wnet_activation='selu',\n",
        "                        wnet_lr=1e-4,\n",
        "                        lambda_=1e-1)\n",
        "\n"
      ],
      "execution_count": null,
      "outputs": [
        {
          "output_type": "stream",
          "text": [
            "/usr/local/lib/python3.7/dist-packages/tensorflow/python/keras/optimizer_v2/optimizer_v2.py:375: UserWarning: The `lr` argument is deprecated, use `learning_rate` instead.\n",
            "  \"The `lr` argument is deprecated, use `learning_rate` instead.\")\n"
          ],
          "name": "stderr"
        },
        {
          "output_type": "stream",
          "text": [
            "Build Wnet\n",
            "Building Unet for PAN Image\n",
            "[4, 4, 4]\n",
            "[4, 4]\n",
            "Compiled Wnet\n",
            "Model: \"Wnet\"\n",
            "__________________________________________________________________________________________________\n",
            "Layer (type)                    Output Shape         Param #     Connected to                     \n",
            "==================================================================================================\n",
            "pan_input (InputLayer)          [(None, 6000, 6000,  0                                            \n",
            "__________________________________________________________________________________________________\n",
            "conv2d_22 (Conv2D)              (None, 6000, 6000, 4 112         pan_input[0][0]                  \n",
            "__________________________________________________________________________________________________\n",
            "alpha_dropout_10 (AlphaDropout) (None, 6000, 6000, 4 0           conv2d_22[0][0]                  \n",
            "__________________________________________________________________________________________________\n",
            "conv2d_23 (Conv2D)              (None, 6000, 6000, 4 148         alpha_dropout_10[0][0]           \n",
            "__________________________________________________________________________________________________\n",
            "max_pooling2d_4 (MaxPooling2D)  (None, 3000, 3000, 4 0           conv2d_23[0][0]                  \n",
            "__________________________________________________________________________________________________\n",
            "conv2d_24 (Conv2D)              (None, 3000, 3000, 4 148         max_pooling2d_4[0][0]            \n",
            "__________________________________________________________________________________________________\n",
            "alpha_dropout_11 (AlphaDropout) (None, 3000, 3000, 4 0           conv2d_24[0][0]                  \n",
            "__________________________________________________________________________________________________\n",
            "conv2d_25 (Conv2D)              (None, 3000, 3000, 4 148         alpha_dropout_11[0][0]           \n",
            "__________________________________________________________________________________________________\n",
            "max_pooling2d_5 (MaxPooling2D)  (None, 1500, 1500, 4 0           conv2d_25[0][0]                  \n",
            "__________________________________________________________________________________________________\n",
            "conv2d_26 (Conv2D)              (None, 1500, 1500, 4 148         max_pooling2d_5[0][0]            \n",
            "__________________________________________________________________________________________________\n",
            "alpha_dropout_12 (AlphaDropout) (None, 1500, 1500, 4 0           conv2d_26[0][0]                  \n",
            "__________________________________________________________________________________________________\n",
            "conv2d_27 (Conv2D)              (None, 1500, 1500, 4 148         alpha_dropout_12[0][0]           \n",
            "__________________________________________________________________________________________________\n",
            "concatenate_6 (Concatenate)     (None, 1500, 1500, 8 0           conv2d_27[0][0]                  \n",
            "                                                                 conv2d_27[0][0]                  \n",
            "__________________________________________________________________________________________________\n",
            "conv2d_28 (Conv2D)              (None, 1500, 1500, 4 292         concatenate_6[0][0]              \n",
            "__________________________________________________________________________________________________\n",
            "alpha_dropout_13 (AlphaDropout) (None, 1500, 1500, 4 0           conv2d_28[0][0]                  \n",
            "__________________________________________________________________________________________________\n",
            "conv2d_29 (Conv2D)              (None, 1500, 1500, 4 148         alpha_dropout_13[0][0]           \n",
            "__________________________________________________________________________________________________\n",
            "conv2d_transpose_6 (Conv2DTrans (None, 3000, 3000, 4 148         conv2d_29[0][0]                  \n",
            "__________________________________________________________________________________________________\n",
            "concatenate_7 (Concatenate)     (None, 3000, 3000, 8 0           conv2d_transpose_6[0][0]         \n",
            "                                                                 conv2d_25[0][0]                  \n",
            "__________________________________________________________________________________________________\n",
            "conv2d_30 (Conv2D)              (None, 3000, 3000, 4 292         concatenate_7[0][0]              \n",
            "__________________________________________________________________________________________________\n",
            "alpha_dropout_14 (AlphaDropout) (None, 3000, 3000, 4 0           conv2d_30[0][0]                  \n",
            "__________________________________________________________________________________________________\n",
            "conv2d_31 (Conv2D)              (None, 3000, 3000, 4 148         alpha_dropout_14[0][0]           \n",
            "__________________________________________________________________________________________________\n",
            "conv2d_transpose_7 (Conv2DTrans (None, 6000, 6000, 4 148         conv2d_31[0][0]                  \n",
            "__________________________________________________________________________________________________\n",
            "conv2d_transpose_8 (Conv2DTrans (None, 6000, 6000, 1 37          conv2d_transpose_7[0][0]         \n",
            "__________________________________________________________________________________________________\n",
            "concatenate_8 (Concatenate)     (None, 6000, 6000, 1 0           conv2d_transpose_8[0][0]         \n",
            "__________________________________________________________________________________________________\n",
            "conv2d_32 (Conv2D)              (None, 6000, 6000, 1 2           concatenate_8[0][0]              \n",
            "==================================================================================================\n",
            "Total params: 2,067\n",
            "Trainable params: 2,067\n",
            "Non-trainable params: 0\n",
            "__________________________________________________________________________________________________\n",
            "None\n"
          ],
          "name": "stdout"
        }
      ]
    },
    {
      "cell_type": "code",
      "metadata": {
        "id": "ErYetvrVOpWf"
      },
      "source": [
        "class Data:\n",
        "\n",
        "    def __init__(self, path, random=False):\n",
        "\n",
        "        self.PAN = path\n",
        "\n",
        "        pan=np.array(rasterio.open(self.PAN).read)\n",
        "\n",
        "\n"
      ],
      "execution_count": null,
      "outputs": []
    },
    {
      "cell_type": "code",
      "metadata": {
        "colab": {
          "base_uri": "https://localhost:8080/"
        },
        "id": "F_E_W4vi6baP",
        "outputId": "38a33627-bd06-4e2c-f0de-d0f11c5c6a61"
      },
      "source": [
        "dd=Data('/content/output/output1_212.tif')"
      ],
      "execution_count": null,
      "outputs": [
        {
          "output_type": "stream",
          "text": [
            "/usr/local/lib/python3.7/dist-packages/rasterio/__init__.py:220: NotGeoreferencedWarning: Dataset has no geotransform, gcps, or rpcs. The identity matrix be returned.\n",
            "  s = DatasetReader(path, driver=driver, sharing=sharing, **kwargs)\n"
          ],
          "name": "stderr"
        }
      ]
    },
    {
      "cell_type": "code",
      "metadata": {
        "id": "x8FqU3ITu3_Q"
      },
      "source": [
        "def test(net,test_l, test_ids, all=False, stride=WINDOW_SIZE[0], batch_size=BATCH_SIZE, window_size=WINDOW_SIZE):\n",
        "    # Use the network on the test set\n",
        "    test_images = (1 / 255 * np.asarray(io.imread(DATA_FOLDER.format(test_l,id)), dtype='float32') for id in test_ids)\n",
        "    test_labels = (np.asarray(io.imread(LABEL_FOLDER.format(test_l,id)), dtype='uint8') for id in test_ids)\n",
        "    eroded_labels = (convert_from_color(io.imread(ERODED_FOLDER.format(test_l,id))) for id in test_ids)\n",
        "\n",
        "    all_preds = []\n",
        "    all_gts = []\n",
        "\n",
        "    # Switch the network to inference mode\n",
        "    net.eval()\n",
        "\n",
        "    for img, gt, gt_e in tqdm(zip(test_images, test_labels,eroded_labels), total=len(test_ids), leave=False):\n",
        "        predi = np.zeros(img.shape[:2] + (N_CLASSES,))\n",
        "\n",
        "        total = count_sliding_window(img, step=stride, window_size=window_size) // batch_size\n",
        "        for i, coords in enumerate(tqdm(grouper(batch_size, sliding_window(img, step=stride, window_size=window_size)), total=total, leave=False)):\n",
        "            # Display in progress results\n",
        "            if i > 0 and total > 10 and i % int(10 * total / 100) == 0:\n",
        "                    _pred = np.argmax(predi, axis=-1)\n",
        "\n",
        "            # Build the tensor\n",
        "            image_patches = [np.copy(img[x:x+w, y:y+h]).transpose((2,0,1)) for x,y,w,h in coords]\n",
        "            image_patches = np.asarray(image_patches)\n",
        "            image_patches = Variable(torch.from_numpy(image_patches).cuda(), volatile=True)\n",
        "\n",
        "            # Do the inference\n",
        "            outs = net(image_patches)\n",
        "            outs = outs.data.cpu().numpy()\n",
        "\n",
        "            # Fill in the results array\n",
        "            for out, (x, y, w, h) in zip(outs, coords):\n",
        "                out = out.transpose((1,2,0))\n",
        "                predi[x:x+w, y:y+h] += out\n",
        "            del(outs)\n",
        "\n",
        "        predi = np.argmax(pred, axis=-1)\n",
        "        plt.imshow(pred)\n",
        "        print('accuracy',a)\n",
        "        pred_=myModel.wnet.predict\n",
        "        # Display the result\n",
        "\n",
        "        all_preds.append(predi)\n",
        "        all_gts.append(gt_e)\n",
        "    return pred_\n"
      ],
      "execution_count": null,
      "outputs": []
    },
    {
      "cell_type": "code",
      "metadata": {
        "colab": {
          "base_uri": "https://localhost:8080/",
          "height": 425,
          "referenced_widgets": [
            "48d5df89c00e4a94b0af491b7945f5d3",
            "a7f1976e2e9c4fa5ba6ba3323317cb3f",
            "3a7eb50676584b6087bac49e77081886",
            "539880e21e854ae1a8e25517a68f47d5",
            "e7dfdcf07975481ba0dc7bda3abd9087",
            "2ff062198aad4639ac58b739a3f3a23d",
            "92fadc9d0eed43068cec44a328a23fda",
            "02be89469f514a74b435cc8aac0d6efa",
            "c1b32b1b8ac5485bb70664654eeefb51",
            "6ff0565d315a40c29307eabed9a7e935",
            "dadcf6b8f02e4d8586925f64594e3462",
            "256f324a0e4e41899a602f31e3e8e74c",
            "3af1dfd1b271450e92e4e24b141f6e7d",
            "1f98f508dffe4cef83c08ac9a993176a",
            "8b099398b9f947c8a79fe1a118deab67",
            "7269366330d3443ebe1a11774e16ec00"
          ]
        },
        "id": "HxoNpveP6MWv",
        "outputId": "9974cb9e-9d93-4d97-fc6d-f59d4c25aa2e"
      },
      "source": [
        "\n",
        "pred_=test(net,test_labels, test_ids, all=True, stride=32)\n",
        "\n"
      ],
      "execution_count": null,
      "outputs": [
        {
          "output_type": "stream",
          "text": [
            "/usr/local/lib/python3.7/dist-packages/ipykernel_launcher.py:13: TqdmDeprecationWarning: This function will be removed in tqdm==5.0.0\n",
            "Please use `tqdm.notebook.tqdm` instead of `tqdm.tqdm_notebook`\n",
            "  del sys.path[0]\n"
          ],
          "name": "stderr"
        },
        {
          "output_type": "display_data",
          "data": {
            "application/vnd.jupyter.widget-view+json": {
              "model_id": "48d5df89c00e4a94b0af491b7945f5d3",
              "version_minor": 0,
              "version_major": 2
            },
            "text/plain": [
              "HBox(children=(FloatProgress(value=0.0, max=1.0), HTML(value='')))"
            ]
          },
          "metadata": {
            "tags": []
          }
        },
        {
          "output_type": "stream",
          "text": [
            "/usr/local/lib/python3.7/dist-packages/ipykernel_launcher.py:17: TqdmDeprecationWarning: This function will be removed in tqdm==5.0.0\n",
            "Please use `tqdm.notebook.tqdm` instead of `tqdm.tqdm_notebook`\n"
          ],
          "name": "stderr"
        },
        {
          "output_type": "display_data",
          "data": {
            "application/vnd.jupyter.widget-view+json": {
              "model_id": "c1b32b1b8ac5485bb70664654eeefb51",
              "version_minor": 0,
              "version_major": 2
            },
            "text/plain": [
              "HBox(children=(FloatProgress(value=0.0, max=3534.0), HTML(value='')))"
            ]
          },
          "metadata": {
            "tags": []
          }
        },
        {
          "output_type": "stream",
          "text": [
            "/usr/local/lib/python3.7/dist-packages/ipykernel_launcher.py:25: UserWarning: volatile was removed and now has no effect. Use `with torch.no_grad():` instead.\n",
            "/usr/local/lib/python3.7/dist-packages/ipykernel_launcher.py:131: UserWarning: Implicit dimension choice for log_softmax has been deprecated. Change the call to include dim=X as an argument.\n"
          ],
          "name": "stderr"
        },
        {
          "output_type": "stream",
          "text": [
            "accuracy 69.15471599670153\n",
            "\r"
          ],
          "name": "stdout"
        },
        {
          "output_type": "display_data",
          "data": {
            "image/png": "[encoded data removed]",
            "text/plain": [
              "<Figure size 432x288 with 1 Axes>"
            ]
          },
          "metadata": {
            "tags": [],
            "needs_background": "light"
          }
        }
      ]
    },
    {
      "cell_type": "code",
      "metadata": {
        "colab": {
          "base_uri": "https://localhost:8080/"
        },
        "id": "54i3BwgSIbFF",
        "outputId": "363110b5-1034-43d3-c0b3-00671cb60d2a"
      },
      "source": [
        "jovian.commit(project='finalgan')"
      ],
      "execution_count": null,
      "outputs": [
        {
          "output_type": "stream",
          "text": [
            "[jovian] Detected Colab notebook...\u001b[0m\n",
            "[jovian] Please enter your API key ( from https://jovian.ai/ ):\u001b[0m\n",
            "API KEY: "
          ],
          "name": "stdout"
        }
      ]
    },
    {
      "cell_type": "code",
      "metadata": {
        "id": "gCox1ntkV52l"
      },
      "source": [],
      "execution_count": null,
      "outputs": []
    }
  ]
}